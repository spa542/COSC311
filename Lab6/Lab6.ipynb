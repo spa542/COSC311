{
 "cells": [
  {
   "cell_type": "markdown",
   "metadata": {},
   "source": [
    "# Lab 6\n",
    "\n",
    "Author: Ryan Rosiak [rrosiak1@gulls.salisbury.edu]\n",
    "\n",
    "Date: 11/12/20\n",
    "\n",
    "Description: Working with the iris dataset and the adult dataset and testing K-Nearest Neigbors on each"
   ]
  },
  {
   "cell_type": "code",
   "execution_count": 1,
   "metadata": {},
   "outputs": [],
   "source": [
    "import matplotlib.pyplot as plt # Matplotlib library\n",
    "import numpy as np # Numby library\n",
    "import pandas as pd # Pandas library\n",
    "import math # Math library\n",
    "import random # Random library"
   ]
  },
  {
   "cell_type": "code",
   "execution_count": 5,
   "metadata": {},
   "outputs": [],
   "source": [
    "# 1.  Begin by implementing thek-Nearest Neighbors (kN N) classification algorithm\n",
    "# (a)  Use a Python class with internal parameter k and methods train and predict.\n",
    "# i.  The train method should take in an array of pre-labeled data and store them to be used in the kN N calculation later.\n",
    "# ii.  The predict method should take in a single data point (of the same dimension as those usedin training) and return the label of thekN Ndecision.  \n",
    "# Keep in mind that, in general, you may have to choose between multiple labels.  In this case, ties are possible, but you can justdecide to break them randomly or increase k to get more votes.\n"
   ]
  },
  {
   "cell_type": "code",
   "execution_count": 4,
   "metadata": {},
   "outputs": [],
   "source": [
    "# (b)  Test the algorithm on some simple hand-made data that you can easily visualize or inspect tocheck for correct behavior.\n"
   ]
  },
  {
   "cell_type": "code",
   "execution_count": 6,
   "metadata": {},
   "outputs": [],
   "source": [
    "# 2.  Write a python routines to split a given data set (randomly) into testing and training subsets.  It’s a good idea to parameterize this process with a percentagepso the data is split into sets of sizen p and n(1−p); \n",
    "# then you can “tune” p later for your specific training/testing procedure.\n"
   ]
  },
  {
   "cell_type": "code",
   "execution_count": 7,
   "metadata": {},
   "outputs": [],
   "source": [
    "# 3.  Using the iris dataset, test your kN N algorithm to predict which class a given iris belongs to.\n",
    "# (a)  Show some confusion matrices for different size testing versus training datasets.\n"
   ]
  },
  {
   "cell_type": "code",
   "execution_count": 8,
   "metadata": {},
   "outputs": [],
   "source": [
    "# (b)  How does the accuracy change for different size training sets?  Show how the accuracy changeswithin the training set and testing set separately.\n"
   ]
  },
  {
   "cell_type": "code",
   "execution_count": 10,
   "metadata": {},
   "outputs": [],
   "source": [
    "# (c)  What if you repeat this process,  keeping the training fractionpthe same?  Does the accuracychange drastically based on the “quality” of the testing set? How might you quantify this behavior?\n"
   ]
  },
  {
   "cell_type": "code",
   "execution_count": 13,
   "metadata": {},
   "outputs": [],
   "source": [
    "# 4.  Try using the adult dataset to also do some prediction of income level (more or less than $50k).\n",
    "# (a)  How  can  you  try  to  quantify  the  “distance”  between  two  adults?   Write  some  small  pythonfunctions to try and transform this data into something that can be used by thekN Nclassifier.\n",
    "# Try a couple different approaches,  report their different behaviors and illustrate using learningcurves, confusion matrices, and possibly some statistical measurements.\n"
   ]
  },
  {
   "cell_type": "code",
   "execution_count": 12,
   "metadata": {},
   "outputs": [],
   "source": [
    "# (b)  Are there other “labels” within the dataset that can be effectively learned by thekN Nclassifier?\n"
   ]
  }
 ],
 "metadata": {
  "kernelspec": {
   "display_name": "Python 3",
   "language": "python",
   "name": "python3"
  },
  "language_info": {
   "codemirror_mode": {
    "name": "ipython",
    "version": 3
   },
   "file_extension": ".py",
   "mimetype": "text/x-python",
   "name": "python",
   "nbconvert_exporter": "python",
   "pygments_lexer": "ipython3",
   "version": "3.6.7"
  }
 },
 "nbformat": 4,
 "nbformat_minor": 2
}
