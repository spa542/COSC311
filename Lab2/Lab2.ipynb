{
 "cells": [
  {
   "cell_type": "markdown",
   "metadata": {},
   "source": [
    "# Lab 2\n",
    "\n",
    "Author: Ryan Rosiak [rrosiak1@gulls.salisbury.edu]\n",
    "\n",
    "Date: 9/10/20\n",
    "\n",
    "Description: First lab for getting familiar with python and jupyter notebooks"
   ]
  },
  {
   "cell_type": "code",
   "execution_count": 85,
   "metadata": {},
   "outputs": [],
   "source": [
    "from math import sqrt # sqrt Function\n",
    "from typing import List, Tuple # List/Tuple type hinting\n",
    "from matplotlib import pyplot as plt # Plotting object"
   ]
  },
  {
   "cell_type": "code",
   "execution_count": 86,
   "metadata": {},
   "outputs": [],
   "source": [
    "# Vector Class\n",
    "class Vector:\n",
    "    def __init__(self, x: int, y: int):\n",
    "        self.x = x\n",
    "        self.y = y\n",
    "        \n",
    "    def __add__(self, other: Vector) -> Vector:\n",
    "        x = self.x + other.x\n",
    "        y = self.y + other.y\n",
    "        return Vector(x, y)\n",
    "    \n",
    "    def __sub__(self, other: Vector) -> Vector:\n",
    "        x = self.x - other.x\n",
    "        y = self.y - other.y\n",
    "        return Vector(x, y)\n",
    "    \n",
    "    def __mul__(self, other: Vector) -> int:\n",
    "        return self.x * other.x + self.y * other.y\n",
    "    \n",
    "    def distance_between(self, second_vector: Vector) -> float:\n",
    "        return sqrt((self.x - second_vector.x)**2 + (self.y - second_vector.y)**2)"
   ]
  },
  {
   "cell_type": "code",
   "execution_count": 87,
   "metadata": {},
   "outputs": [],
   "source": [
    "first = Vector(1, 10)\n",
    "second = Vector(3, 5)"
   ]
  },
  {
   "cell_type": "code",
   "execution_count": 88,
   "metadata": {},
   "outputs": [
    {
     "name": "stdout",
     "output_type": "stream",
     "text": [
      "X coordinate of addition: 4 Y coordinate of addition: 15\n"
     ]
    }
   ],
   "source": [
    "added = first + second\n",
    "print(f\"X coordinate of addition: {added.x} Y coordinate of addition: {added.y}\")"
   ]
  },
  {
   "cell_type": "code",
   "execution_count": 89,
   "metadata": {},
   "outputs": [
    {
     "name": "stdout",
     "output_type": "stream",
     "text": [
      "X coordinate of subtraction: -2 Y coordinate of subtraction: 5\n"
     ]
    }
   ],
   "source": [
    "subtracted = first - second\n",
    "print(f\"X coordinate of subtraction: {subtracted.x} Y coordinate of subtraction: {subtracted.y}\")"
   ]
  },
  {
   "cell_type": "code",
   "execution_count": 90,
   "metadata": {},
   "outputs": [
    {
     "name": "stdout",
     "output_type": "stream",
     "text": [
      "Dot product of first and second: 53\n"
     ]
    }
   ],
   "source": [
    "dot = first * second\n",
    "print(f\"Dot product of first and second: {dot}\")"
   ]
  },
  {
   "cell_type": "code",
   "execution_count": 91,
   "metadata": {},
   "outputs": [
    {
     "name": "stdout",
     "output_type": "stream",
     "text": [
      "The l2 norm distance between the first and second 5.385164807134504\n"
     ]
    }
   ],
   "source": [
    "distance = first.distance_between(second)\n",
    "print(f\"The l2 norm distance between the first and second {distance}\")"
   ]
  },
  {
   "cell_type": "code",
   "execution_count": 96,
   "metadata": {},
   "outputs": [],
   "source": [
    "class Geometry:\n",
    "    def __init__(self, vertices: List[Vector], pair_vertices: List[Tuple[Vector]]):\n",
    "        self.vertices = vertices\n",
    "        self.pair_vertices = pair_vertices"
   ]
  },
  {
   "cell_type": "code",
   "execution_count": null,
   "metadata": {},
   "outputs": [],
   "source": []
  }
 ],
 "metadata": {
  "kernelspec": {
   "display_name": "Python 3",
   "language": "python",
   "name": "python3"
  },
  "language_info": {
   "codemirror_mode": {
    "name": "ipython",
    "version": 3
   },
   "file_extension": ".py",
   "mimetype": "text/x-python",
   "name": "python",
   "nbconvert_exporter": "python",
   "pygments_lexer": "ipython3",
   "version": "3.6.7"
  }
 },
 "nbformat": 4,
 "nbformat_minor": 2
}
