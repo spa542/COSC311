{
 "cells": [
  {
   "cell_type": "markdown",
   "metadata": {},
   "source": [
    "# Lab 2\n",
    "\n",
    "Author: Ryan Rosiak [rrosiak1@gulls.salisbury.edu]\n",
    "\n",
    "Date: 9/10/20\n",
    "\n",
    "Description: First lab for getting familiar with python and jupyter notebooks"
   ]
  },
  {
   "cell_type": "code",
   "execution_count": 82,
   "metadata": {},
   "outputs": [],
   "source": [
    "from math import sqrt # sqrt Function\n",
    "from typing import List, Tuple # List/Tuple type hinting\n",
    "from matplotlib import pyplot as plt # Plotting object"
   ]
  },
  {
   "cell_type": "code",
   "execution_count": 99,
   "metadata": {},
   "outputs": [],
   "source": [
    "# Vector Class\n",
    "class Vector:\n",
    "    def __init__(self, x: int, y: int):\n",
    "        \"\"\"Initialize with 2 integer values\"\"\"\n",
    "        self.x = x\n",
    "        self.y = y\n",
    "    \n",
    "    def __repr__(self):\n",
    "        \"\"\"toString\"\"\"\n",
    "        return f\"Vector x-point: {self.x} - y-point: {self.y}\"\n",
    "    \n",
    "    def __eq__(self, other):\n",
    "        \"\"\"Overloaded == operator\"\"\"\n",
    "        if self.x == other.x and self.y == other.y:\n",
    "            return True\n",
    "        return False\n",
    "        \n",
    "    def __add__(self, other):\n",
    "        \"\"\"Takes another Vector object, returns a Vector\"\"\"\n",
    "        x = self.x + other.x\n",
    "        y = self.y + other.y\n",
    "        return Vector(x, y)\n",
    "    \n",
    "    def __sub__(self, other):\n",
    "        \"\"\"Takes another Vector object, returns a Vector\"\"\"\n",
    "        x = self.x - other.x\n",
    "        y = self.y - other.y\n",
    "        return Vector(x, y)\n",
    "    \n",
    "    def __mul__(self, other) -> int:\n",
    "        \"\"\"Takes another Vector object, returns an int\"\"\"\n",
    "        return self.x * other.x + self.y * other.y\n",
    "    \n",
    "    def distance_between(self, second_vector) -> float:\n",
    "        \"\"\"Takes another Vector object, returns a float\"\"\"\n",
    "        return sqrt((self.x - second_vector.x)**2 + (self.y - second_vector.y)**2)"
   ]
  },
  {
   "cell_type": "code",
   "execution_count": 100,
   "metadata": {},
   "outputs": [
    {
     "name": "stdout",
     "output_type": "stream",
     "text": [
      "Vector x-point: 1 - y-point: 10 Vector x-point: 3 - y-point: 5\n"
     ]
    }
   ],
   "source": [
    "first = Vector(1, 10)\n",
    "second = Vector(3, 5)\n",
    "print(first, second)"
   ]
  },
  {
   "cell_type": "code",
   "execution_count": 101,
   "metadata": {},
   "outputs": [
    {
     "name": "stdout",
     "output_type": "stream",
     "text": [
      "X coordinate of addition: 4 Y coordinate of addition: 15\n"
     ]
    }
   ],
   "source": [
    "added = first + second\n",
    "print(f\"X coordinate of addition: {added.x} Y coordinate of addition: {added.y}\")"
   ]
  },
  {
   "cell_type": "code",
   "execution_count": 102,
   "metadata": {},
   "outputs": [
    {
     "name": "stdout",
     "output_type": "stream",
     "text": [
      "X coordinate of subtraction: -2 Y coordinate of subtraction: 5\n"
     ]
    }
   ],
   "source": [
    "subtracted = first - second\n",
    "print(f\"X coordinate of subtraction: {subtracted.x} Y coordinate of subtraction: {subtracted.y}\")"
   ]
  },
  {
   "cell_type": "code",
   "execution_count": 103,
   "metadata": {},
   "outputs": [
    {
     "name": "stdout",
     "output_type": "stream",
     "text": [
      "Dot product of first and second: 53\n"
     ]
    }
   ],
   "source": [
    "dot = first * second\n",
    "print(f\"Dot product of first and second: {dot}\")"
   ]
  },
  {
   "cell_type": "code",
   "execution_count": 104,
   "metadata": {},
   "outputs": [
    {
     "name": "stdout",
     "output_type": "stream",
     "text": [
      "The l2 norm distance between the first and second 5.385164807134504\n"
     ]
    }
   ],
   "source": [
    "distance = first.distance_between(second)\n",
    "print(f\"The l2 norm distance between the first and second {distance}\")"
   ]
  },
  {
   "cell_type": "code",
   "execution_count": 148,
   "metadata": {},
   "outputs": [],
   "source": [
    "# Geometry Function\n",
    "class Geometry:\n",
    "    def __init__(self, vertices: List[Vector], pair_vertices: List[Tuple[Vector, Vector]]):\n",
    "        \"\"\"Initializes the Geometry class with list of Vectors and a list of Tuple paired Vectors\"\"\"\n",
    "        self.vertices = vertices\n",
    "        self.pair_vertices = pair_vertices\n",
    "        \n",
    "    def __repr__(self):\n",
    "        \"\"\"toString\"\"\"\n",
    "        return f\"List of vertices: {self.vertices} List of Pairs (faces): {self.pair_vertices}\"\n",
    "    \n",
    "    def add_face(self, vec1: Vector, vec2: Vector):\n",
    "        \"\"\"Adds each vector to the vector list(if they are not already there) and\n",
    "        then adds a connection between them (if it does not exist already)\"\"\"\n",
    "        if vec1 in self.vertices:\n",
    "            print(f\"{vec1} is already in the vector list\")\n",
    "        else:\n",
    "            self.vertices.append(vec1)\n",
    "        if vec2 in self.vertices:\n",
    "            print(f\"{vec2} is already in the vector list\")\n",
    "        else:\n",
    "            self.vertices.append(vec2)\n",
    "            \n",
    "        for i in self.pair_vertices:\n",
    "            if (vec1, vec2) == i or (vec2, vec1) == i:\n",
    "                print(\"Vector pair is already in the list\")\n",
    "                return\n",
    "        \n",
    "        self.pair_vertices.append((vec1, vec2))\n",
    "        \n",
    "    def is_closed(self) -> bool:\n",
    "        \"\"\"Checks to see if the shape that is currently in the Geometry class is \n",
    "        closed or not\"\"\"\n",
    "        if len(self.pair_vertices) <= 2:\n",
    "            return False\n",
    "        \n",
    "        copy_vertices_list = [i for i in self.vertices]\n",
    "        for i in range(len(self.pair_vertices)):\n",
    "            point1 = self.pair_vertices[i][0]\n",
    "            point2 = self.pair_vertices[i][1]\n",
    "            for j in self.pair_vertices:\n",
    "                if (point1, point2) == j:\n",
    "                    continue\n",
    "                if (point1 == j[0] or point1 == j[1]) or (point2 == j[0] or point2 == j[1]):\n",
    "                    continue\n",
    "                else:\n",
    "                    return False\n",
    "        \n",
    "        return True\n",
    "    \n",
    "    def draw(self):\n",
    "        \"\"\"Draws the shape to the screen in a graph using matplotlib\"\"\"\n",
    "        x = []\n",
    "        y = []\n",
    "        for i in self.pair_vertices:\n",
    "            x.append(i[0].x)\n",
    "            x.append(i[1].x)\n",
    "            y.append(i[0].y)\n",
    "            y.append(i[1].y)\n",
    "\n",
    "        plt.plot(x, y, linewidth=\"3\")\n",
    "        plt.title(\"Current Shape\")\n",
    "        plt.xlabel(\"X Axis\")\n",
    "        plt.ylabel(\"Y Axis\")\n",
    "        plt.show()"
   ]
  },
  {
   "cell_type": "code",
   "execution_count": 152,
   "metadata": {},
   "outputs": [
    {
     "name": "stdout",
     "output_type": "stream",
     "text": [
      "Testing add_face function while using the matplotlib print\n",
      "Adding some vectors to the Geometry class\n",
      "Empty Geometry class\n",
      "List of vertices: [] List of Pairs (faces): []\n",
      "Vector x-point: 1 - y-point: 2 is already in the vector list\n",
      "Vector x-point: 5 - y-point: 5 is already in the vector list\n",
      "Vector x-point: 9 - y-point: 3 is already in the vector list\n",
      "List of vertices: [Vector x-point: 1 - y-point: 2, Vector x-point: 5 - y-point: 5, Vector x-point: 9 - y-point: 3] List of Pairs (faces): [(Vector x-point: 1 - y-point: 2, Vector x-point: 5 - y-point: 5), (Vector x-point: 1 - y-point: 2, Vector x-point: 9 - y-point: 3), (Vector x-point: 5 - y-point: 5, Vector x-point: 9 - y-point: 3)]\n"
     ]
    },
    {
     "data": {
      "image/png": "[encoded data removed]",
      "text/plain": [
       "<Figure size 432x288 with 1 Axes>"
      ]
     },
     "metadata": {
      "needs_background": "light"
     },
     "output_type": "display_data"
    },
    {
     "name": "stdout",
     "output_type": "stream",
     "text": [
      "Is g closed? True\n",
      "Vector x-point: 5 - y-point: 5 is already in the vector list\n",
      "Vector x-point: 9 - y-point: 3 is already in the vector list\n",
      "List of vertices: [Vector x-point: 1 - y-point: 2, Vector x-point: 5 - y-point: 5, Vector x-point: 1 - y-point: 4, Vector x-point: 9 - y-point: 3] List of Pairs (faces): [(Vector x-point: 1 - y-point: 2, Vector x-point: 5 - y-point: 5), (Vector x-point: 1 - y-point: 4, Vector x-point: 9 - y-point: 3), (Vector x-point: 5 - y-point: 5, Vector x-point: 9 - y-point: 3)]\n"
     ]
    },
    {
     "data": {
      "image/png": "[encoded data removed]",
      "text/plain": [
       "<Figure size 432x288 with 1 Axes>"
      ]
     },
     "metadata": {
      "needs_background": "light"
     },
     "output_type": "display_data"
    },
    {
     "name": "stdout",
     "output_type": "stream",
     "text": [
      "Is f closed? False\n"
     ]
    }
   ],
   "source": [
    "print(\"Testing add_face function while using the matplotlib print\")\n",
    "print(\"Adding some vectors to the Geometry class\")\n",
    "g = Geometry([], [])\n",
    "print(\"Empty Geometry class\")\n",
    "print(g)\n",
    "g.add_face(Vector(1,2), Vector(5,5))\n",
    "g.add_face(Vector(1,2), Vector(9,3))\n",
    "g.add_face(Vector(5,5), Vector(9,3))\n",
    "print(g)\n",
    "g.draw()\n",
    "print(f\"Is g closed? {g.is_closed()}\")\n",
    "f = Geometry([], [])\n",
    "f.add_face(Vector(1,2), Vector(5,5))\n",
    "f.add_face(Vector(1,4), Vector(9,3))\n",
    "f.add_face(Vector(5,5), Vector(9,3))\n",
    "print(f)\n",
    "f.draw()\n",
    "print(f\"Is f closed? {f.is_closed()}\")"
   ]
  },
  {
   "cell_type": "code",
   "execution_count": null,
   "metadata": {},
   "outputs": [],
   "source": []
  }
 ],
 "metadata": {
  "kernelspec": {
   "display_name": "Python 3",
   "language": "python",
   "name": "python3"
  },
  "language_info": {
   "codemirror_mode": {
    "name": "ipython",
    "version": 3
   },
   "file_extension": ".py",
   "mimetype": "text/x-python",
   "name": "python",
   "nbconvert_exporter": "python",
   "pygments_lexer": "ipython3",
   "version": "3.6.7"
  }
 },
 "nbformat": 4,
 "nbformat_minor": 2
}
