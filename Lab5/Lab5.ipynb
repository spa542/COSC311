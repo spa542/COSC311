{
 "cells": [
  {
   "cell_type": "markdown",
   "metadata": {},
   "source": [
    "# Lab 5\n",
    "\n",
    "Author: Ryan Rosiak [rrosiak1@gulls.salisbury.edu] and Grant Dawson [gdawson1@gulls.salisbury.edu]\n",
    "\n",
    "Date: 10/29/20\n",
    "\n",
    "Description: Working with the Iris data set to compute confidence intervals and work with more statistical tools"
   ]
  },
  {
   "cell_type": "code",
   "execution_count": 27,
   "metadata": {},
   "outputs": [],
   "source": [
    "import matplotlib.pyplot as plt # Matplotlib library\n",
    "import numpy as np # Numby library\n",
    "import pandas as pd # Pandas library\n",
    "import math # Math library\n",
    "import random # Random library"
   ]
  },
  {
   "cell_type": "code",
   "execution_count": 28,
   "metadata": {},
   "outputs": [
    {
     "data": {
      "text/html": [
       "<div>\n",
       "<style scoped>\n",
       "    .dataframe tbody tr th:only-of-type {\n",
       "        vertical-align: middle;\n",
       "    }\n",
       "\n",
       "    .dataframe tbody tr th {\n",
       "        vertical-align: top;\n",
       "    }\n",
       "\n",
       "    .dataframe thead th {\n",
       "        text-align: right;\n",
       "    }\n",
       "</style>\n",
       "<table border=\"1\" class=\"dataframe\">\n",
       "  <thead>\n",
       "    <tr style=\"text-align: right;\">\n",
       "      <th></th>\n",
       "      <th>Sepal Length</th>\n",
       "      <th>Sepal Width</th>\n",
       "      <th>Petal Length</th>\n",
       "      <th>Petal Width</th>\n",
       "      <th>Class</th>\n",
       "    </tr>\n",
       "  </thead>\n",
       "  <tbody>\n",
       "    <tr>\n",
       "      <th>0</th>\n",
       "      <td>5.1</td>\n",
       "      <td>3.5</td>\n",
       "      <td>1.4</td>\n",
       "      <td>0.2</td>\n",
       "      <td>Iris-setosa</td>\n",
       "    </tr>\n",
       "    <tr>\n",
       "      <th>1</th>\n",
       "      <td>4.9</td>\n",
       "      <td>3.0</td>\n",
       "      <td>1.4</td>\n",
       "      <td>0.2</td>\n",
       "      <td>Iris-setosa</td>\n",
       "    </tr>\n",
       "    <tr>\n",
       "      <th>2</th>\n",
       "      <td>4.7</td>\n",
       "      <td>3.2</td>\n",
       "      <td>1.3</td>\n",
       "      <td>0.2</td>\n",
       "      <td>Iris-setosa</td>\n",
       "    </tr>\n",
       "    <tr>\n",
       "      <th>3</th>\n",
       "      <td>4.6</td>\n",
       "      <td>3.1</td>\n",
       "      <td>1.5</td>\n",
       "      <td>0.2</td>\n",
       "      <td>Iris-setosa</td>\n",
       "    </tr>\n",
       "    <tr>\n",
       "      <th>4</th>\n",
       "      <td>5.0</td>\n",
       "      <td>3.6</td>\n",
       "      <td>1.4</td>\n",
       "      <td>0.2</td>\n",
       "      <td>Iris-setosa</td>\n",
       "    </tr>\n",
       "  </tbody>\n",
       "</table>\n",
       "</div>"
      ],
      "text/plain": [
       "   Sepal Length  Sepal Width  Petal Length  Petal Width        Class\n",
       "0           5.1          3.5           1.4          0.2  Iris-setosa\n",
       "1           4.9          3.0           1.4          0.2  Iris-setosa\n",
       "2           4.7          3.2           1.3          0.2  Iris-setosa\n",
       "3           4.6          3.1           1.5          0.2  Iris-setosa\n",
       "4           5.0          3.6           1.4          0.2  Iris-setosa"
      ]
     },
     "execution_count": 28,
     "metadata": {},
     "output_type": "execute_result"
    }
   ],
   "source": [
    "iris_data = pd.read_csv('./iris.data',\n",
    "                        header=None,\n",
    "                        names=['Sepal Length', 'Sepal Width', 'Petal Length', 'Petal Width', 'Class']\n",
    "                       )\n",
    "                        \n",
    "iris_data.head() # Print some of the data"
   ]
  },
  {
   "cell_type": "code",
   "execution_count": 34,
   "metadata": {},
   "outputs": [],
   "source": [
    "# Function for generating approximations of the standard deviation\n",
    "def generate_stddev(df, column_name, samples, trials):\n",
    "    std_dev_list = []\n",
    "    tmp_list = []\n",
    "    for i in range(trials):\n",
    "        tmp_list = [df[column_name].values[random.randint(0,len(df[column_name].values)-1)] for j in range(samples)]\n",
    "        std_dev_list.append(sum(tmp_list) / len(tmp_list))\n",
    "    \n",
    "    return np.std(std_dev_list) "
   ]
  },
  {
   "cell_type": "code",
   "execution_count": 44,
   "metadata": {},
   "outputs": [
    {
     "name": "stdout",
     "output_type": "stream",
     "text": [
      "Sepal Length sample mean\n",
      "5.84333333333\n",
      "Sepal Length sample standard deviation\n",
      "0.119095405266\n",
      "Confidence Interval for Sepal Length\n",
      "(5.8242740990573152, 5.8623925676093522)\n",
      "Sepal Width sample mean\n",
      "3.054\n",
      "Sepal Width sample standard deviation\n",
      "0.0648504604627\n",
      "Confidence Interval for Sepal Width\n",
      "(3.0436217648690835, 3.064378235130917)\n",
      "Petal Length sample mean\n",
      "3.75866666667\n",
      "Petal Length sample standard deviation\n",
      "0.288436428582\n",
      "Confidence Interval for Petal Length\n",
      "(3.7125072245471795, 3.8048261087861528)\n",
      "Petal Width sample mean\n",
      "1.19866666667\n",
      "Petal Width sample standard deviation\n",
      "0.109438486019\n",
      "Confidence Interval for Petal Width\n",
      "(1.1811528613339417, 1.2161804719993918)\n"
     ]
    }
   ],
   "source": [
    "# 4.\n",
    "# For each of the four numerical categories, compute the mean with a 95% confidence interval and showthem in a bar chart.\n",
    "# Draw 50 samples of our distribution at least 30 times and get their means and use that to compute stddev(Xbar)\n",
    "# Sepal Length\n",
    "n = len(iris_data[['Sepal Length']].values) # Sample size\n",
    "sl_Xbar = iris_data[['Sepal Length']].values.mean()\n",
    "print('Sepal Length sample mean')\n",
    "print(sl_Xbar)\n",
    "#sl_stddev = math.sqrt(np.var(iris_data[['Sepal Length']].values))\n",
    "sl_stddev = generate_stddev(iris_data, 'Sepal Length', 50, 30)\n",
    "print('Sepal Length sample standard deviation')\n",
    "print(sl_stddev)\n",
    "sl_cinterval = (sl_Xbar - (1.96*sl_stddev / math.sqrt(n)), sl_Xbar + (1.96*sl_stddev / math.sqrt(n)))\n",
    "print('Confidence Interval for Sepal Length')\n",
    "print(sl_cinterval)\n",
    "# Sepal Width\n",
    "n = len(iris_data[['Sepal Width']].values) # Sample size\n",
    "sl_Xbar = iris_data[['Sepal Width']].values.mean()\n",
    "print('Sepal Width sample mean')\n",
    "print(sl_Xbar)\n",
    "#sl_stddev = math.sqrt(np.var(iris_data[['Sepal Length']].values))\n",
    "sl_stddev = generate_stddev(iris_data, 'Sepal Width', 50, 30)\n",
    "print('Sepal Width sample standard deviation')\n",
    "print(sl_stddev)\n",
    "sl_cinterval = (sl_Xbar - (1.96*sl_stddev / math.sqrt(n)), sl_Xbar + (1.96*sl_stddev / math.sqrt(n)))\n",
    "print('Confidence Interval for Sepal Width')\n",
    "print(sl_cinterval)\n",
    "# Petal Length\n",
    "n = len(iris_data[['Petal Length']].values) # Sample size\n",
    "sl_Xbar = iris_data[['Petal Length']].values.mean()\n",
    "print('Petal Length sample mean')\n",
    "print(sl_Xbar)\n",
    "#sl_stddev = math.sqrt(np.var(iris_data[['Sepal Length']].values))\n",
    "sl_stddev = generate_stddev(iris_data, 'Petal Length', 50, 30)\n",
    "print('Petal Length sample standard deviation')\n",
    "print(sl_stddev)\n",
    "sl_cinterval = (sl_Xbar - (1.96*sl_stddev / math.sqrt(n)), sl_Xbar + (1.96*sl_stddev / math.sqrt(n)))\n",
    "print('Confidence Interval for Petal Length')\n",
    "print(sl_cinterval)\n",
    "# Petal Width\n",
    "n = len(iris_data[['Petal Width']].values) # Sample size\n",
    "sl_Xbar = iris_data[['Petal Width']].values.mean()\n",
    "print('Petal Width sample mean')\n",
    "print(sl_Xbar)\n",
    "#sl_stddev = math.sqrt(np.var(iris_data[['Sepal Length']].values))\n",
    "sl_stddev = generate_stddev(iris_data, 'Petal Width', 50, 30)\n",
    "print('Petal Width sample standard deviation')\n",
    "print(sl_stddev)\n",
    "sl_cinterval = (sl_Xbar - (1.96*sl_stddev / math.sqrt(n)), sl_Xbar + (1.96*sl_stddev / math.sqrt(n)))\n",
    "print('Confidence Interval for Petal Width')\n",
    "print(sl_cinterval)\n",
    "# TODO Still need GRAPHS"
   ]
  },
  {
   "cell_type": "code",
   "execution_count": 45,
   "metadata": {},
   "outputs": [],
   "source": [
    "# 5. \n",
    "# Next, compute the mean of sepal and petal measurements with 95% confidence intervals, but this time\n",
    "# separated by each of the three classes (so you will have a total of 12 bars and intervals).\n"
   ]
  },
  {
   "cell_type": "code",
   "execution_count": 46,
   "metadata": {},
   "outputs": [],
   "source": [
    "# 6.\n",
    "# From the two mean estimates above, draw at least one relationship conclusion (e.g. the mean of X is\n",
    "# larger than the mean of Y ) and find the p-value that shows the strength of that conclusion. Does this\n",
    "# mean you can reject your hypothesis or not?\n"
   ]
  },
  {
   "cell_type": "code",
   "execution_count": 47,
   "metadata": {},
   "outputs": [],
   "source": [
    "# 7. \n",
    "# Among the sepal/petal length/width measurements, we can define six different pairwise comparisons\n",
    "# (sepal length vs petal width, sepal length vs sepal width, etc.); show these two parameters together in\n",
    "# (six) different scatter plots, where each class is shown by a different color and shape marker.\n",
    "# (a) What is the correlation coefficient for each pair of measurements when class is disregarded?\n",
    "\n",
    "# (b) What is the correlation coefficient for each pair of measurements when taking into account only\n",
    "# measurements within the same class. I.e. what is the correlation between sepal length and width\n",
    "# overall, and what is the correlation coefficient between sepal length and width among the Setosa\n",
    "# class, Versicolour class, and Virginica class?\n"
   ]
  },
  {
   "cell_type": "code",
   "execution_count": null,
   "metadata": {},
   "outputs": [],
   "source": []
  }
 ],
 "metadata": {
  "kernelspec": {
   "display_name": "Python 3",
   "language": "python",
   "name": "python3"
  },
  "language_info": {
   "codemirror_mode": {
    "name": "ipython",
    "version": 3
   },
   "file_extension": ".py",
   "mimetype": "text/x-python",
   "name": "python",
   "nbconvert_exporter": "python",
   "pygments_lexer": "ipython3",
   "version": "3.6.7"
  }
 },
 "nbformat": 4,
 "nbformat_minor": 2
}
