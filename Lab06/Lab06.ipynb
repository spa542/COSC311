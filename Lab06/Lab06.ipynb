{
 "cells": [
  {
   "cell_type": "code",
   "execution_count": 35,
   "metadata": {},
   "outputs": [],
   "source": [
    "\n",
    "import numpy as np\n",
    "import math\n",
    "import numpy.linalg as la"
   ]
  },
  {
   "cell_type": "code",
   "execution_count": 36,
   "metadata": {},
   "outputs": [],
   "source": [
    "class KNN:\n",
    "    def __init__(self, X=np.array([]), Predict=np.array([])):\n",
    "        self._Training = X\n",
    "        self._Predict = Y\n",
    "        \n",
    "    def getTrain(self):\n",
    "        return self._Training\n",
    "    def getPred(self):\n",
    "        return self._Predict\n",
    "    \n",
    "    def setTrain(self, P):\n",
    "        self._Training = P\n",
    "    def setPred(self, P):\n",
    "        self._Predict = P\n",
    "        \n",
    "    def appendTrain(self):\n",
    "        return self._Training\n",
    "    def appendPred(self):\n",
    "        return self._Predict\n",
    "    \n",
    "    def distances(self, points, x):#x is a 1-by-d 1 sample of d dimenssions\n",
    "        return la.norm(points - x, axis=1)\n",
    "    \n",
    "    def kClosesestT(self, x):\n",
    "        tmp = self.distances(self._Training, x) \n",
    "        tmp2 = tmp.argsort()[:3]\n",
    "        rtn = np.where(tmp == tmp[0])\n",
    "        rtn.append(np.where(tmp == tmp[1]))\n",
    "        rtn.append(np.where(tmp == tmp[2]))\n",
    "    \n",
    "    "
   ]
  },
  {
   "cell_type": "code",
   "execution_count": 70,
   "metadata": {},
   "outputs": [
    {
     "name": "stdout",
     "output_type": "stream",
     "text": [
      "[[-4 -1]\n",
      " [ 1 -3]\n",
      " [ 4  9]\n",
      " [ 1  2]\n",
      " [ 2  3]]\n",
      "[[ 1  5]\n",
      " [ 6  3]\n",
      " [ 9 15]\n",
      " [ 6  8]\n",
      " [ 7  9]]\n",
      "\n",
      "[ 4.12310563  3.16227766  9.8488578   2.23606798  3.60555128]\n",
      "(array([3]),)\n",
      "(array([1]),)\n",
      "(array([4]),)\n",
      "[[6 8]]\n",
      "[[6 8]\n",
      " [6 3]\n",
      " [7 9]]\n"
     ]
    }
   ],
   "source": [
    "def distances(points, x):#x is a 1-by-d 1 sample of d dimenssions\n",
    "    tmp = points - x\n",
    "    print(tmp)\n",
    "    return la.norm(tmp, axis=1)\n",
    "\n",
    "k=3\n",
    "\n",
    "arr = np.array([[1,5],[6,3],[9,15], [6, 8], [7, 9]])\n",
    "\n",
    "tmp = distances(arr, np.array([[5, 6]])) \n",
    "print(arr)\n",
    "print()\n",
    "print(tmp)\n",
    "t = np.sort(tmp)[:k]\n",
    "print(np.where(tmp == t[0]))\n",
    "print(np.where(tmp == t[1]))\n",
    "print(np.where(tmp == t[2]))\n",
    "rtn=[]\n",
    "rtn = arr[np.where(tmp == t[0])]\n",
    "print(rtn)\n",
    "rtn = np.concatenate((rtn, arr[np.where(tmp == t[1])]), axis=0)\n",
    "rtn = np.concatenate((rtn, arr[np.where(tmp == t[2])]), axis=0)\n",
    "\n",
    "print(rtn)"
   ]
  },
  {
   "cell_type": "code",
   "execution_count": null,
   "metadata": {},
   "outputs": [],
   "source": []
  },
  {
   "cell_type": "code",
   "execution_count": null,
   "metadata": {},
   "outputs": [],
   "source": []
  }
 ],
 "metadata": {
  "kernelspec": {
   "display_name": "Python 3",
   "language": "python",
   "name": "python3"
  },
  "language_info": {
   "codemirror_mode": {
    "name": "ipython",
    "version": 3
   },
   "file_extension": ".py",
   "mimetype": "text/x-python",
   "name": "python",
   "nbconvert_exporter": "python",
   "pygments_lexer": "ipython3",
   "version": "3.6.7"
  }
 },
 "nbformat": 4,
 "nbformat_minor": 2
}
