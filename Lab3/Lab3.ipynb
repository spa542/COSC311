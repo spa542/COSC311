{
 "cells": [
  {
   "cell_type": "markdown",
   "metadata": {},
   "source": [
    "# Lab 3\n",
    "\n",
    "Author: Ryan Rosiak [rrosiak1@gulls.salisbury.edu]\n",
    "\n",
    "Date: 9/17/20\n",
    "\n",
    "Description: Working with the adult dataset and starting some real data visualization"
   ]
  },
  {
   "cell_type": "code",
   "execution_count": 1,
   "metadata": {},
   "outputs": [],
   "source": [
    "import pandas as pd # Pandas library\n",
    "import numpy as np # Numpy library\n",
    "import matplotlib.pyplot as plt # Matplotlib library for plotting"
   ]
  },
  {
   "cell_type": "code",
   "execution_count": 2,
   "metadata": {},
   "outputs": [
    {
     "data": {
      "text/html": [
       "<div>\n",
       "<style scoped>\n",
       "    .dataframe tbody tr th:only-of-type {\n",
       "        vertical-align: middle;\n",
       "    }\n",
       "\n",
       "    .dataframe tbody tr th {\n",
       "        vertical-align: top;\n",
       "    }\n",
       "\n",
       "    .dataframe thead th {\n",
       "        text-align: right;\n",
       "    }\n",
       "</style>\n",
       "<table border=\"1\" class=\"dataframe\">\n",
       "  <thead>\n",
       "    <tr style=\"text-align: right;\">\n",
       "      <th></th>\n",
       "      <th>age</th>\n",
       "      <th>workclass</th>\n",
       "      <th>fnlwgt</th>\n",
       "      <th>education</th>\n",
       "      <th>education-num</th>\n",
       "      <th>marital-status</th>\n",
       "      <th>occupation</th>\n",
       "      <th>relationship</th>\n",
       "      <th>race</th>\n",
       "      <th>sex</th>\n",
       "      <th>capital_gain</th>\n",
       "      <th>capital_loss</th>\n",
       "      <th>hr_per_week</th>\n",
       "      <th>country</th>\n",
       "      <th>income</th>\n",
       "    </tr>\n",
       "  </thead>\n",
       "  <tbody>\n",
       "    <tr>\n",
       "      <th>0</th>\n",
       "      <td>39</td>\n",
       "      <td>State-gov</td>\n",
       "      <td>77516</td>\n",
       "      <td>Bachelors</td>\n",
       "      <td>13</td>\n",
       "      <td>Never-married</td>\n",
       "      <td>Adm-clerical</td>\n",
       "      <td>Not-in-family</td>\n",
       "      <td>White</td>\n",
       "      <td>Male</td>\n",
       "      <td>2174</td>\n",
       "      <td>0</td>\n",
       "      <td>40</td>\n",
       "      <td>United-States</td>\n",
       "      <td>&lt;=50K</td>\n",
       "    </tr>\n",
       "    <tr>\n",
       "      <th>1</th>\n",
       "      <td>50</td>\n",
       "      <td>Self-emp-not-inc</td>\n",
       "      <td>83311</td>\n",
       "      <td>Bachelors</td>\n",
       "      <td>13</td>\n",
       "      <td>Married-civ-spouse</td>\n",
       "      <td>Exec-managerial</td>\n",
       "      <td>Husband</td>\n",
       "      <td>White</td>\n",
       "      <td>Male</td>\n",
       "      <td>0</td>\n",
       "      <td>0</td>\n",
       "      <td>13</td>\n",
       "      <td>United-States</td>\n",
       "      <td>&lt;=50K</td>\n",
       "    </tr>\n",
       "    <tr>\n",
       "      <th>2</th>\n",
       "      <td>38</td>\n",
       "      <td>Private</td>\n",
       "      <td>215646</td>\n",
       "      <td>HS-grad</td>\n",
       "      <td>9</td>\n",
       "      <td>Divorced</td>\n",
       "      <td>Handlers-cleaners</td>\n",
       "      <td>Not-in-family</td>\n",
       "      <td>White</td>\n",
       "      <td>Male</td>\n",
       "      <td>0</td>\n",
       "      <td>0</td>\n",
       "      <td>40</td>\n",
       "      <td>United-States</td>\n",
       "      <td>&lt;=50K</td>\n",
       "    </tr>\n",
       "    <tr>\n",
       "      <th>3</th>\n",
       "      <td>53</td>\n",
       "      <td>Private</td>\n",
       "      <td>234721</td>\n",
       "      <td>11th</td>\n",
       "      <td>7</td>\n",
       "      <td>Married-civ-spouse</td>\n",
       "      <td>Handlers-cleaners</td>\n",
       "      <td>Husband</td>\n",
       "      <td>Black</td>\n",
       "      <td>Male</td>\n",
       "      <td>0</td>\n",
       "      <td>0</td>\n",
       "      <td>40</td>\n",
       "      <td>United-States</td>\n",
       "      <td>&lt;=50K</td>\n",
       "    </tr>\n",
       "    <tr>\n",
       "      <th>4</th>\n",
       "      <td>28</td>\n",
       "      <td>Private</td>\n",
       "      <td>338409</td>\n",
       "      <td>Bachelors</td>\n",
       "      <td>13</td>\n",
       "      <td>Married-civ-spouse</td>\n",
       "      <td>Prof-specialty</td>\n",
       "      <td>Wife</td>\n",
       "      <td>Black</td>\n",
       "      <td>Female</td>\n",
       "      <td>0</td>\n",
       "      <td>0</td>\n",
       "      <td>40</td>\n",
       "      <td>Cuba</td>\n",
       "      <td>&lt;=50K</td>\n",
       "    </tr>\n",
       "  </tbody>\n",
       "</table>\n",
       "</div>"
      ],
      "text/plain": [
       "   age         workclass  fnlwgt  education  education-num  \\\n",
       "0   39         State-gov   77516  Bachelors             13   \n",
       "1   50  Self-emp-not-inc   83311  Bachelors             13   \n",
       "2   38           Private  215646    HS-grad              9   \n",
       "3   53           Private  234721       11th              7   \n",
       "4   28           Private  338409  Bachelors             13   \n",
       "\n",
       "       marital-status         occupation   relationship   race     sex  \\\n",
       "0       Never-married       Adm-clerical  Not-in-family  White    Male   \n",
       "1  Married-civ-spouse    Exec-managerial        Husband  White    Male   \n",
       "2            Divorced  Handlers-cleaners  Not-in-family  White    Male   \n",
       "3  Married-civ-spouse  Handlers-cleaners        Husband  Black    Male   \n",
       "4  Married-civ-spouse     Prof-specialty           Wife  Black  Female   \n",
       "\n",
       "   capital_gain  capital_loss  hr_per_week        country income  \n",
       "0          2174             0           40  United-States  <=50K  \n",
       "1             0             0           13  United-States  <=50K  \n",
       "2             0             0           40  United-States  <=50K  \n",
       "3             0             0           40  United-States  <=50K  \n",
       "4             0             0           40           Cuba  <=50K  "
      ]
     },
     "execution_count": 2,
     "metadata": {},
     "output_type": "execute_result"
    }
   ],
   "source": [
    "# Parse the file\n",
    "adult_data = pd.read_csv('./adult.data',\n",
    "                      header=None,\n",
    "                      skipinitialspace=True,\n",
    "                      names=['age', 'workclass', 'fnlwgt', 'education',\n",
    "                             'education-num', 'marital-status', \n",
    "                             'occupation', 'relationship', 'race',\n",
    "                             'sex', 'capital_gain', 'capital_loss',\n",
    "                             'hr_per_week', 'country', 'income'\n",
    "                            ]\n",
    "                     )\n",
    "adult_data.head() # Printing the first couple sets of data"
   ]
  },
  {
   "cell_type": "code",
   "execution_count": 3,
   "metadata": {},
   "outputs": [
    {
     "data": {
      "text/html": [
       "<div>\n",
       "<style scoped>\n",
       "    .dataframe tbody tr th:only-of-type {\n",
       "        vertical-align: middle;\n",
       "    }\n",
       "\n",
       "    .dataframe tbody tr th {\n",
       "        vertical-align: top;\n",
       "    }\n",
       "\n",
       "    .dataframe thead th {\n",
       "        text-align: right;\n",
       "    }\n",
       "</style>\n",
       "<table border=\"1\" class=\"dataframe\">\n",
       "  <thead>\n",
       "    <tr style=\"text-align: right;\">\n",
       "      <th></th>\n",
       "      <th>occupation</th>\n",
       "      <th>income</th>\n",
       "    </tr>\n",
       "  </thead>\n",
       "  <tbody>\n",
       "    <tr>\n",
       "      <th>0</th>\n",
       "      <td>Adm-clerical</td>\n",
       "      <td>&lt;=50K</td>\n",
       "    </tr>\n",
       "    <tr>\n",
       "      <th>1</th>\n",
       "      <td>Exec-managerial</td>\n",
       "      <td>&lt;=50K</td>\n",
       "    </tr>\n",
       "    <tr>\n",
       "      <th>2</th>\n",
       "      <td>Handlers-cleaners</td>\n",
       "      <td>&lt;=50K</td>\n",
       "    </tr>\n",
       "    <tr>\n",
       "      <th>3</th>\n",
       "      <td>Handlers-cleaners</td>\n",
       "      <td>&lt;=50K</td>\n",
       "    </tr>\n",
       "    <tr>\n",
       "      <th>4</th>\n",
       "      <td>Prof-specialty</td>\n",
       "      <td>&lt;=50K</td>\n",
       "    </tr>\n",
       "  </tbody>\n",
       "</table>\n",
       "</div>"
      ],
      "text/plain": [
       "          occupation income\n",
       "0       Adm-clerical  <=50K\n",
       "1    Exec-managerial  <=50K\n",
       "2  Handlers-cleaners  <=50K\n",
       "3  Handlers-cleaners  <=50K\n",
       "4     Prof-specialty  <=50K"
      ]
     },
     "execution_count": 3,
     "metadata": {},
     "output_type": "execute_result"
    }
   ],
   "source": [
    "adult_data[['occupation', 'income']].head() # Printing the data of occupation and income"
   ]
  },
  {
   "cell_type": "code",
   "execution_count": 4,
   "metadata": {},
   "outputs": [
    {
     "data": {
      "text/html": [
       "<div>\n",
       "<style scoped>\n",
       "    .dataframe tbody tr th:only-of-type {\n",
       "        vertical-align: middle;\n",
       "    }\n",
       "\n",
       "    .dataframe tbody tr th {\n",
       "        vertical-align: top;\n",
       "    }\n",
       "\n",
       "    .dataframe thead th {\n",
       "        text-align: right;\n",
       "    }\n",
       "</style>\n",
       "<table border=\"1\" class=\"dataframe\">\n",
       "  <thead>\n",
       "    <tr style=\"text-align: right;\">\n",
       "      <th></th>\n",
       "      <th>income</th>\n",
       "    </tr>\n",
       "    <tr>\n",
       "      <th>occupation</th>\n",
       "      <th></th>\n",
       "    </tr>\n",
       "  </thead>\n",
       "  <tbody>\n",
       "    <tr>\n",
       "      <th>Exec-managerial</th>\n",
       "      <td>1968</td>\n",
       "    </tr>\n",
       "    <tr>\n",
       "      <th>Prof-specialty</th>\n",
       "      <td>1859</td>\n",
       "    </tr>\n",
       "    <tr>\n",
       "      <th>Sales</th>\n",
       "      <td>983</td>\n",
       "    </tr>\n",
       "    <tr>\n",
       "      <th>Craft-repair</th>\n",
       "      <td>929</td>\n",
       "    </tr>\n",
       "    <tr>\n",
       "      <th>Adm-clerical</th>\n",
       "      <td>507</td>\n",
       "    </tr>\n",
       "    <tr>\n",
       "      <th>Transport-moving</th>\n",
       "      <td>320</td>\n",
       "    </tr>\n",
       "    <tr>\n",
       "      <th>Tech-support</th>\n",
       "      <td>283</td>\n",
       "    </tr>\n",
       "    <tr>\n",
       "      <th>Machine-op-inspct</th>\n",
       "      <td>250</td>\n",
       "    </tr>\n",
       "    <tr>\n",
       "      <th>Protective-serv</th>\n",
       "      <td>211</td>\n",
       "    </tr>\n",
       "    <tr>\n",
       "      <th>?</th>\n",
       "      <td>191</td>\n",
       "    </tr>\n",
       "    <tr>\n",
       "      <th>Other-service</th>\n",
       "      <td>137</td>\n",
       "    </tr>\n",
       "    <tr>\n",
       "      <th>Farming-fishing</th>\n",
       "      <td>115</td>\n",
       "    </tr>\n",
       "    <tr>\n",
       "      <th>Handlers-cleaners</th>\n",
       "      <td>86</td>\n",
       "    </tr>\n",
       "    <tr>\n",
       "      <th>Armed-Forces</th>\n",
       "      <td>1</td>\n",
       "    </tr>\n",
       "    <tr>\n",
       "      <th>Priv-house-serv</th>\n",
       "      <td>1</td>\n",
       "    </tr>\n",
       "  </tbody>\n",
       "</table>\n",
       "</div>"
      ],
      "text/plain": [
       "                   income\n",
       "occupation               \n",
       "Exec-managerial      1968\n",
       "Prof-specialty       1859\n",
       "Sales                 983\n",
       "Craft-repair          929\n",
       "Adm-clerical          507\n",
       "Transport-moving      320\n",
       "Tech-support          283\n",
       "Machine-op-inspct     250\n",
       "Protective-serv       211\n",
       "?                     191\n",
       "Other-service         137\n",
       "Farming-fishing       115\n",
       "Handlers-cleaners      86\n",
       "Armed-Forces            1\n",
       "Priv-house-serv         1"
      ]
     },
     "execution_count": 4,
     "metadata": {},
     "output_type": "execute_result"
    }
   ],
   "source": [
    "# 3.a Rank the data in terms of most likely to make the most money\n",
    "# Select what columns I want first\n",
    "tmp = adult_data[['occupation', 'income']]\n",
    "# Sort the data by occupations that make more than 50k and then group by their occupation and count the amount, sort their incomes in descending order\n",
    "tmp[tmp['income'] == \">50K\"].groupby(by='occupation').count().sort_values(by='income', ascending=False)"
   ]
  },
  {
   "cell_type": "code",
   "execution_count": 5,
   "metadata": {},
   "outputs": [
    {
     "name": "stdout",
     "output_type": "stream",
     "text": [
      "The median age for people that make more than 50K\n",
      "44.0\n",
      "The median age for people that make less than 50K\n",
      "34.0\n",
      "The median age for men that make more than 50K\n",
      "44.0\n",
      "The median age for women that make more than 50K\n",
      "41.0\n",
      "The median age for men that make less than 50K\n",
      "35.0\n",
      "The median age for women that make less than 50K\n",
      "34.0\n"
     ]
    }
   ],
   "source": [
    "# 3.b\n",
    "tmp = adult_data[['age', 'sex', 'income']]\n",
    "# The median age for people that make more than 50K\n",
    "print('The median age for people that make more than 50K')\n",
    "print(tmp[tmp['income'] == \">50K\"].loc[:,'age'].median())\n",
    "# The median age for people that make less than 50K\n",
    "print('The median age for people that make less than 50K')\n",
    "print(tmp[tmp['income'] == \"<=50K\"].loc[:,'age'].median())\n",
    "# The median age for people (split by men and women) that make more than 50K\n",
    "print('The median age for men that make more than 50K')\n",
    "sub_tmp = tmp[tmp['income'] == \">50K\"]\n",
    "print(sub_tmp[sub_tmp['sex'] == \"Male\"].loc[:,'age'].median())\n",
    "print('The median age for women that make more than 50K')\n",
    "print(sub_tmp[sub_tmp['sex'] == \"Female\"].loc[:,'age'].median())\n",
    "# The median age for people (split by men and women) that make less than 50K\n",
    "print('The median age for men that make less than 50K')\n",
    "sub_tmp = tmp[tmp['income'] == \"<=50K\"]\n",
    "print(sub_tmp[sub_tmp['sex'] == \"Male\"].loc[:,'age'].median())\n",
    "print('The median age for women that make less than 50K')\n",
    "print(sub_tmp[sub_tmp['sex'] == \"Female\"].loc[:,'age'].median())"
   ]
  },
  {
   "cell_type": "code",
   "execution_count": 6,
   "metadata": {},
   "outputs": [
    {
     "name": "stdout",
     "output_type": "stream",
     "text": [
      "The mean number of years of education for adults that make more than 50K\n",
      "11.6116566764\n",
      "The median number of years of education for adults that make more than 50K\n",
      "12.0\n",
      "The mean number of years of education for adults that make less than 50K\n",
      "9.59506472492\n",
      "The median number of years of education for adults that make less than 50K\n",
      "9.0\n"
     ]
    }
   ],
   "source": [
    "# 3.c\n",
    "tmp = adult_data[['education-num', 'income']]\n",
    "# The mean and median number of years of education for adults that make more than 50K\n",
    "print('The mean number of years of education for adults that make more than 50K')\n",
    "print(tmp[tmp['income'] == \">50K\"].loc[:,'education-num'].mean())\n",
    "print('The median number of years of education for adults that make more than 50K')\n",
    "print(tmp[tmp['income'] == \">50K\"].loc[:,'education-num'].median())\n",
    "# The mean and median number of years of education for adults that make less than 50K\n",
    "print('The mean number of years of education for adults that make less than 50K')\n",
    "print(tmp[tmp['income'] == \"<=50K\"].loc[:,'education-num'].mean())\n",
    "print('The median number of years of education for adults that make less than 50K')\n",
    "print(tmp[tmp['income'] == \"<=50K\"].loc[:,'education-num'].median())"
   ]
  },
  {
   "cell_type": "code",
   "execution_count": 7,
   "metadata": {},
   "outputs": [
    {
     "data": {
      "text/plain": [
       "<matplotlib.axes._subplots.AxesSubplot at 0x7f04ea3f5b70>"
      ]
     },
     "execution_count": 7,
     "metadata": {},
     "output_type": "execute_result"
    },
    {
     "data": {
      "image/png": "[encoded data removed]",
      "text/plain": [
       "<Figure size 432x288 with 1 Axes>"
      ]
     },
     "metadata": {
      "needs_background": "light"
     },
     "output_type": "display_data"
    }
   ],
   "source": [
    "# 3.d \n",
    "# Plotting a histogram to see the distribution of years of education held by adults who make more and less than 50K\n",
    "tmp = adult_data[['education-num', 'income']]\n",
    "moreThan = tmp[tmp['income'] == \">50K\"]\n",
    "lessThan = tmp[tmp['income'] == \"<=50K\"]\n",
    "lessThan['education-num'].hist() # blue\n",
    "moreThan['education-num'].hist() # orange"
   ]
  },
  {
   "cell_type": "code",
   "execution_count": 8,
   "metadata": {},
   "outputs": [
    {
     "data": {
      "text/plain": [
       "<matplotlib.axes._subplots.AxesSubplot at 0x7f04e8347828>"
      ]
     },
     "execution_count": 8,
     "metadata": {},
     "output_type": "execute_result"
    },
    {
     "data": {
      "image/png": "[encoded data removed]",
      "text/plain": [
       "<Figure size 432x288 with 1 Axes>"
      ]
     },
     "metadata": {
      "needs_background": "light"
     },
     "output_type": "display_data"
    }
   ],
   "source": [
    "# 3.e\n",
    "# Plotting a histogram to see the distribution of ages of adults who make more and less than 50K\n",
    "tmp = adult_data[['age', 'income']]\n",
    "moreThan = tmp[tmp['income'] == \">50K\"]\n",
    "lessThan = tmp[tmp['income'] == \"<=50K\"]\n",
    "lessThan['age'].hist() # blue\n",
    "moreThan['age'].hist() # orange"
   ]
  },
  {
   "cell_type": "code",
   "execution_count": 9,
   "metadata": {},
   "outputs": [
    {
     "data": {
      "text/plain": [
       "<matplotlib.axes._subplots.AxesSubplot at 0x7f04e8277c88>"
      ]
     },
     "execution_count": 9,
     "metadata": {},
     "output_type": "execute_result"
    },
    {
     "data": {
      "image/png": "[encoded data removed]",
      "text/plain": [
       "<Figure size 432x288 with 1 Axes>"
      ]
     },
     "metadata": {
      "needs_background": "light"
     },
     "output_type": "display_data"
    }
   ],
   "source": [
    "# 4.a\n",
    "# Plotting a bar plot that shows a trend within a variable that does not have inter-relationship\n",
    "# Count of adults at various relationships statuses\n",
    "marital_status_data = adult_data[['relationship', 'income']]\n",
    "marital_status_count = marital_status_data.groupby(by='relationship').count()\n",
    "marital_status_count.plot.bar()"
   ]
  },
  {
   "cell_type": "code",
   "execution_count": 10,
   "metadata": {},
   "outputs": [
    {
     "data": {
      "text/plain": [
       "<matplotlib.axes._subplots.AxesSubplot at 0x7f04e81fda58>"
      ]
     },
     "execution_count": 10,
     "metadata": {},
     "output_type": "execute_result"
    },
    {
     "data": {
      "image/png": "[encoded data removed]",
      "text/plain": [
       "<Figure size 432x288 with 1 Axes>"
      ]
     },
     "metadata": {
      "needs_background": "light"
     },
     "output_type": "display_data"
    }
   ],
   "source": [
    "# 4.b\n",
    "# Plotting a line plot where the x-axis variable manifests fully across the plot domain\n",
    "line_data = adult_data[['age', 'hr_per_week']]\n",
    "line_data.groupby(by='age').mean().plot.line()"
   ]
  },
  {
   "cell_type": "code",
   "execution_count": 11,
   "metadata": {},
   "outputs": [
    {
     "data": {
      "text/plain": [
       "<matplotlib.axes._subplots.AxesSubplot at 0x7f04e815ef60>"
      ]
     },
     "execution_count": 11,
     "metadata": {},
     "output_type": "execute_result"
    },
    {
     "data": {
      "image/png": "[encoded data removed]",
      "text/plain": [
       "<Figure size 432x288 with 1 Axes>"
      ]
     },
     "metadata": {
      "needs_background": "light"
     },
     "output_type": "display_data"
    }
   ],
   "source": [
    "# 4.c\n",
    "# Plotting a scatter plot of the data that suggests a relationship between two discrete variables\n",
    "# where the x-axis has an inter-related progression\n",
    "scatter_data = adult_data[['age', 'hr_per_week']]\n",
    "# Number of people that work more than 25 hours a week as age increases\n",
    "scatter_data[scatter_data['hr_per_week'] > 25].groupby(by='age').count().reset_index().plot.scatter(x='age', y='hr_per_week')"
   ]
  },
  {
   "cell_type": "code",
   "execution_count": 104,
   "metadata": {},
   "outputs": [
    {
     "data": {
      "text/plain": [
       "<matplotlib.axes._subplots.AxesSubplot at 0x7f04e4906278>"
      ]
     },
     "execution_count": 104,
     "metadata": {},
     "output_type": "execute_result"
    },
    {
     "data": {
      "image/png": "[encoded data removed]",
      "text/plain": [
       "<Figure size 432x288 with 1 Axes>"
      ]
     },
     "metadata": {
      "needs_background": "light"
     },
     "output_type": "display_data"
    }
   ],
   "source": [
    "# 4.d\n",
    "# Plotting a histogram of a quantity that varies across the x-axis domain, but where we would like to\n",
    "# consider a general distribution\n",
    "ed_data = adult_data[['education-num', 'hr_per_week']]\n",
    "ed_data['education-num'].hist()"
   ]
  },
  {
   "cell_type": "markdown",
   "metadata": {},
   "source": [
    "# What is the relationship between between gender and whether a person makes more than $50k?"
   ]
  },
  {
   "cell_type": "code",
   "execution_count": 13,
   "metadata": {},
   "outputs": [
    {
     "data": {
      "text/plain": [
       "<matplotlib.axes._subplots.AxesSubplot at 0x7f04e80de278>"
      ]
     },
     "execution_count": 13,
     "metadata": {},
     "output_type": "execute_result"
    },
    {
     "data": {
      "image/png": "[encoded data removed]",
      "text/plain": [
       "<Figure size 432x288 with 1 Axes>"
      ]
     },
     "metadata": {
      "needs_background": "light"
     },
     "output_type": "display_data"
    }
   ],
   "source": [
    "# 5.a\n",
    "# What is the relationship between between gender and whether a person makes more than $50k?\n",
    "gender_pay = adult_data[['sex', 'income']]\n",
    "more = gender_pay[gender_pay['income'] == '>50K'].groupby(by='sex').count()\n",
    "less = gender_pay[gender_pay['income'] == '<=50K'].groupby(by='sex').count()\n",
    "more.rename(columns={'income': '>50K'}, inplace=True)\n",
    "less.rename(columns={'income': '<=50K'}, inplace=True)\n",
    "combined = pd.concat((more, less), axis=1)\n",
    "combined.plot.bar()"
   ]
  },
  {
   "cell_type": "markdown",
   "metadata": {},
   "source": [
    "The relationship between the gender and whether a person makes more than 50K or not is that, according to the data set,\n",
    "there are a lot more men that make more than 50K than women. There is also a lot more men that make less than 50K then women. This is because\n",
    "there is a big difference in the amount of men compared to the amount of women so the value can be skewed. Generally, the scaling is pretty\n",
    "accurate to support both of these claims. It would seem that men tend to make more than women."
   ]
  },
  {
   "cell_type": "markdown",
   "metadata": {},
   "source": [
    "# When a person makes more than $50K, what is the relationship between gender and occupation? What about for less?"
   ]
  },
  {
   "cell_type": "code",
   "execution_count": 14,
   "metadata": {},
   "outputs": [
    {
     "data": {
      "text/plain": [
       "<matplotlib.axes._subplots.AxesSubplot at 0x7f04e80c1400>"
      ]
     },
     "execution_count": 14,
     "metadata": {},
     "output_type": "execute_result"
    },
    {
     "data": {
      "image/png": "[encoded data removed]",
      "text/plain": [
       "<Figure size 432x288 with 1 Axes>"
      ]
     },
     "metadata": {
      "needs_background": "light"
     },
     "output_type": "display_data"
    }
   ],
   "source": [
    "# 5.b\n",
    "# When a person makes more than $50K, what is the relationship between gender and occupation? What about for less?\n",
    "occ_data = adult_data[['occupation', 'income']]\n",
    "occ_plot = occ_data[occ_data['income'] == \">50K\"].groupby(by='occupation').count().sort_values(by='income', ascending=False)\n",
    "occ_plot.plot.bar(title='Top Income Occupations')"
   ]
  },
  {
   "cell_type": "code",
   "execution_count": 15,
   "metadata": {},
   "outputs": [
    {
     "data": {
      "text/plain": [
       "<matplotlib.axes._subplots.AxesSubplot at 0x7f04e7f8a0b8>"
      ]
     },
     "execution_count": 15,
     "metadata": {},
     "output_type": "execute_result"
    },
    {
     "data": {
      "image/png": "[encoded data removed]",
      "text/plain": [
       "<Figure size 432x288 with 1 Axes>"
      ]
     },
     "metadata": {
      "needs_background": "light"
     },
     "output_type": "display_data"
    },
    {
     "data": {
      "image/png": "[encoded data removed]",
      "text/plain": [
       "<Figure size 432x288 with 1 Axes>"
      ]
     },
     "metadata": {
      "needs_background": "light"
     },
     "output_type": "display_data"
    }
   ],
   "source": [
    "gend_occ_data = adult_data[['occupation', 'sex', 'income']]\n",
    "more = gend_occ_data[gend_occ_data['income'] == '>50K'].groupby(['occupation', 'sex']).count()\n",
    "less = gend_occ_data[gend_occ_data['income'] == '<=50K'].groupby(['occupation', 'sex']).count()\n",
    "plot_data = more.reset_index()\n",
    "plot_data = plot_data.pivot(index='occupation', columns='sex', values='income')\n",
    "plot_data.plot.bar(title='Gender Count >50K', stacked=True)\n",
    "plot_data = less.reset_index()\n",
    "plot_data = plot_data.pivot(index='occupation', columns='sex', values='income')\n",
    "plot_data.plot.bar(title='Gender Count <=50K', stacked=True)"
   ]
  },
  {
   "cell_type": "markdown",
   "metadata": {},
   "source": [
    "From the first graph, you can see the highest paid occupations in the data set. Not every occupation is shown in that graph, meaning that the \n",
    "rest of the occupations (occupations with \"0\") do not have a person within that job with a recorded income above 50K. The second and third graph are representing male and female counts recorded for each job, one graph for >50K and the other for <=50K. What we can see is that when a person makes more than 50K, men tend to make more than women because they tend to work in higher paying jobs as shown in the first graph. When\n",
    "a person makes less thatn 50K, both men and women are fairly even on their pay scale. This is also due to the fact that men seem to dominate the higher paying jobs in the data set. Overall, men make more than women because of the income of the occupation they tend to have."
   ]
  },
  {
   "cell_type": "markdown",
   "metadata": {},
   "source": [
    "# What are the “richest” professions in each possible native country?"
   ]
  },
  {
   "cell_type": "code",
   "execution_count": 41,
   "metadata": {},
   "outputs": [
    {
     "name": "stdout",
     "output_type": "stream",
     "text": [
      "                           occupation  income\n",
      "country                                      \n",
      "?                    Transport-moving      48\n",
      "Cambodia                        Sales       2\n",
      "Canada               Transport-moving       8\n",
      "China                    Tech-support      11\n",
      "Columbia                 Tech-support       1\n",
      "Cuba                 Transport-moving       7\n",
      "Dominican-Republic              Sales       1\n",
      "Ecuador              Transport-moving       1\n",
      "El-Salvador                     Sales       3\n",
      "England                  Tech-support      10\n",
      "France                   Tech-support       5\n",
      "Germany              Transport-moving      15\n",
      "Greece                 Prof-specialty       6\n",
      "Guatemala                Tech-support       2\n",
      "Haiti                  Prof-specialty       2\n",
      "Honduras               Prof-specialty       1\n",
      "Hong                  Protective-serv       3\n",
      "Hungary              Transport-moving       1\n",
      "India                Transport-moving      25\n",
      "Iran                            Sales       8\n",
      "Ireland                Prof-specialty       2\n",
      "Italy                Transport-moving       7\n",
      "Jamaica                  Tech-support       2\n",
      "Japan                           Sales      13\n",
      "Laos                Machine-op-inspct       1\n",
      "Mexico               Transport-moving       7\n",
      "Nicaragua            Transport-moving       1\n",
      "Peru                   Prof-specialty       2\n",
      "Philippines          Transport-moving      20\n",
      "Poland               Transport-moving       4\n",
      "Portugal                Other-service       2\n",
      "Puerto-Rico                     Sales       5\n",
      "Scotland               Prof-specialty       1\n",
      "South                           Sales       4\n",
      "Taiwan                 Prof-specialty      13\n",
      "Thailand               Prof-specialty       2\n",
      "Trinadad&Tobago          Tech-support       1\n",
      "United-States        Transport-moving    1818\n",
      "Vietnam                Prof-specialty       2\n",
      "Yugoslavia              Other-service       2\n"
     ]
    }
   ],
   "source": [
    "# 5.c\n",
    "# What are the “richest” professions in each possible native country?\n",
    "country_data = adult_data[['occupation', 'country', 'income']]\n",
    "country_data = country_data[country_data['income'] == '>50K']\n",
    "plot_data = country_data.groupby(['country', 'occupation']).count()\n",
    "plot_data = plot_data.reset_index()\n",
    "plot_data = plot_data.groupby(by='country').max()\n",
    "print(plot_data)"
   ]
  },
  {
   "cell_type": "markdown",
   "metadata": {},
   "source": [
    "Based off this table, we can see the profession from each country that has the most amount of people that make more than 50K. This is the best\n",
    "we can do in finding the \"richest\" professions because we are given no more data other than if people make more or less than 50K. This does,\n",
    "however, give us a pretty good estimate of what professions are doing the \"best\" in each country."
   ]
  },
  {
   "cell_type": "markdown",
   "metadata": {},
   "source": [
    "# What is the relationship between race and level of education? Does it further seem to relate to whether a person makes more than $50k?"
   ]
  },
  {
   "cell_type": "code",
   "execution_count": 65,
   "metadata": {},
   "outputs": [
    {
     "name": "stdout",
     "output_type": "stream",
     "text": [
      "Average Education-num per Race\n"
     ]
    },
    {
     "data": {
      "text/html": [
       "<div>\n",
       "<style scoped>\n",
       "    .dataframe tbody tr th:only-of-type {\n",
       "        vertical-align: middle;\n",
       "    }\n",
       "\n",
       "    .dataframe tbody tr th {\n",
       "        vertical-align: top;\n",
       "    }\n",
       "\n",
       "    .dataframe thead th {\n",
       "        text-align: right;\n",
       "    }\n",
       "</style>\n",
       "<table border=\"1\" class=\"dataframe\">\n",
       "  <thead>\n",
       "    <tr style=\"text-align: right;\">\n",
       "      <th></th>\n",
       "      <th>education-num</th>\n",
       "    </tr>\n",
       "    <tr>\n",
       "      <th>race</th>\n",
       "      <th></th>\n",
       "    </tr>\n",
       "  </thead>\n",
       "  <tbody>\n",
       "    <tr>\n",
       "      <th>Asian-Pac-Islander</th>\n",
       "      <td>10.960539</td>\n",
       "    </tr>\n",
       "    <tr>\n",
       "      <th>White</th>\n",
       "      <td>10.135246</td>\n",
       "    </tr>\n",
       "    <tr>\n",
       "      <th>Black</th>\n",
       "      <td>9.486236</td>\n",
       "    </tr>\n",
       "    <tr>\n",
       "      <th>Amer-Indian-Eskimo</th>\n",
       "      <td>9.311897</td>\n",
       "    </tr>\n",
       "    <tr>\n",
       "      <th>Other</th>\n",
       "      <td>8.841328</td>\n",
       "    </tr>\n",
       "  </tbody>\n",
       "</table>\n",
       "</div>"
      ],
      "text/plain": [
       "                    education-num\n",
       "race                             \n",
       "Asian-Pac-Islander      10.960539\n",
       "White                   10.135246\n",
       "Black                    9.486236\n",
       "Amer-Indian-Eskimo       9.311897\n",
       "Other                    8.841328"
      ]
     },
     "execution_count": 65,
     "metadata": {},
     "output_type": "execute_result"
    }
   ],
   "source": [
    "# 5.d\n",
    "# What is the relationship between race and level of education? Does it further seem to relate to whether a person makes more than $50k?\n",
    "race_data = adult_data[['education-num', 'race', 'income']]\n",
    "plot_race_ed = race_data[['education-num', 'race']]\n",
    "print('Average Education-num per Race')\n",
    "plot_race_ed.groupby(by='race').mean().sort_values(by='education-num', ascending=False)"
   ]
  },
  {
   "cell_type": "code",
   "execution_count": 66,
   "metadata": {},
   "outputs": [
    {
     "name": "stdout",
     "output_type": "stream",
     "text": [
      "Race Count >50K\n"
     ]
    },
    {
     "data": {
      "text/html": [
       "<div>\n",
       "<style scoped>\n",
       "    .dataframe tbody tr th:only-of-type {\n",
       "        vertical-align: middle;\n",
       "    }\n",
       "\n",
       "    .dataframe tbody tr th {\n",
       "        vertical-align: top;\n",
       "    }\n",
       "\n",
       "    .dataframe thead th {\n",
       "        text-align: right;\n",
       "    }\n",
       "</style>\n",
       "<table border=\"1\" class=\"dataframe\">\n",
       "  <thead>\n",
       "    <tr style=\"text-align: right;\">\n",
       "      <th></th>\n",
       "      <th>income</th>\n",
       "    </tr>\n",
       "    <tr>\n",
       "      <th>race</th>\n",
       "      <th></th>\n",
       "    </tr>\n",
       "  </thead>\n",
       "  <tbody>\n",
       "    <tr>\n",
       "      <th>White</th>\n",
       "      <td>7117</td>\n",
       "    </tr>\n",
       "    <tr>\n",
       "      <th>Black</th>\n",
       "      <td>387</td>\n",
       "    </tr>\n",
       "    <tr>\n",
       "      <th>Asian-Pac-Islander</th>\n",
       "      <td>276</td>\n",
       "    </tr>\n",
       "    <tr>\n",
       "      <th>Amer-Indian-Eskimo</th>\n",
       "      <td>36</td>\n",
       "    </tr>\n",
       "    <tr>\n",
       "      <th>Other</th>\n",
       "      <td>25</td>\n",
       "    </tr>\n",
       "  </tbody>\n",
       "</table>\n",
       "</div>"
      ],
      "text/plain": [
       "                    income\n",
       "race                      \n",
       "White                 7117\n",
       "Black                  387\n",
       "Asian-Pac-Islander     276\n",
       "Amer-Indian-Eskimo      36\n",
       "Other                   25"
      ]
     },
     "execution_count": 66,
     "metadata": {},
     "output_type": "execute_result"
    }
   ],
   "source": [
    "plot_race_inc = race_data[['race', 'income']]\n",
    "print('Race Count >50K')\n",
    "plot_race_inc[plot_race_inc['income'] == '>50K'].groupby(by='race').count().sort_values(by='income', ascending=False)"
   ]
  },
  {
   "cell_type": "code",
   "execution_count": 67,
   "metadata": {},
   "outputs": [
    {
     "name": "stdout",
     "output_type": "stream",
     "text": [
      "Race count <=50K\n"
     ]
    },
    {
     "data": {
      "text/html": [
       "<div>\n",
       "<style scoped>\n",
       "    .dataframe tbody tr th:only-of-type {\n",
       "        vertical-align: middle;\n",
       "    }\n",
       "\n",
       "    .dataframe tbody tr th {\n",
       "        vertical-align: top;\n",
       "    }\n",
       "\n",
       "    .dataframe thead th {\n",
       "        text-align: right;\n",
       "    }\n",
       "</style>\n",
       "<table border=\"1\" class=\"dataframe\">\n",
       "  <thead>\n",
       "    <tr style=\"text-align: right;\">\n",
       "      <th></th>\n",
       "      <th>income</th>\n",
       "    </tr>\n",
       "    <tr>\n",
       "      <th>race</th>\n",
       "      <th></th>\n",
       "    </tr>\n",
       "  </thead>\n",
       "  <tbody>\n",
       "    <tr>\n",
       "      <th>White</th>\n",
       "      <td>20699</td>\n",
       "    </tr>\n",
       "    <tr>\n",
       "      <th>Black</th>\n",
       "      <td>2737</td>\n",
       "    </tr>\n",
       "    <tr>\n",
       "      <th>Asian-Pac-Islander</th>\n",
       "      <td>763</td>\n",
       "    </tr>\n",
       "    <tr>\n",
       "      <th>Amer-Indian-Eskimo</th>\n",
       "      <td>275</td>\n",
       "    </tr>\n",
       "    <tr>\n",
       "      <th>Other</th>\n",
       "      <td>246</td>\n",
       "    </tr>\n",
       "  </tbody>\n",
       "</table>\n",
       "</div>"
      ],
      "text/plain": [
       "                    income\n",
       "race                      \n",
       "White                20699\n",
       "Black                 2737\n",
       "Asian-Pac-Islander     763\n",
       "Amer-Indian-Eskimo     275\n",
       "Other                  246"
      ]
     },
     "execution_count": 67,
     "metadata": {},
     "output_type": "execute_result"
    }
   ],
   "source": [
    "print('Race count <=50K')\n",
    "plot_race_inc[plot_race_inc['income'] == '<=50K'].groupby(by='race').count().sort_values(by='income', ascending=False)"
   ]
  },
  {
   "cell_type": "markdown",
   "metadata": {},
   "source": [
    "The relationship between race and education is that there are some races that actualy average a higher amount of years of education than \n",
    "others. This can be seen in the first table where we see that Asian and White seem to average 2-3 years more than races not specified and about \n",
    "1-2 years more than Black and Indian. This statistic does translate to the amount of people makeing more and less than 50K per race. From the\n",
    "second table, you can see that White people have the most amount that make more than 50K. This would make sense because they have the second highest average education-num. One minor issue is that White people also have the most people that make less than 50K by a substantial margin. I believe that there are not enough data points to make a very strong conclusion on every race because there are so many White compared to all the other recorded races. Nonetheless, the trend does seem to be that the more years of education you have, the more money you tend to make."
   ]
  },
  {
   "cell_type": "code",
   "execution_count": null,
   "metadata": {},
   "outputs": [],
   "source": []
  }
 ],
 "metadata": {
  "kernelspec": {
   "display_name": "Python 3",
   "language": "python",
   "name": "python3"
  },
  "language_info": {
   "codemirror_mode": {
    "name": "ipython",
    "version": 3
   },
   "file_extension": ".py",
   "mimetype": "text/x-python",
   "name": "python",
   "nbconvert_exporter": "python",
   "pygments_lexer": "ipython3",
   "version": "3.6.7"
  }
 },
 "nbformat": 4,
 "nbformat_minor": 2
}
