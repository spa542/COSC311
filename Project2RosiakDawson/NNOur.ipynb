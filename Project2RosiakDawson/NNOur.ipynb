{
 "cells": [
  {
   "cell_type": "code",
   "execution_count": 1,
   "metadata": {},
   "outputs": [],
   "source": [
    "import numpy as np\n",
    "import numpy.random\n",
    "import numpy.matlib\n",
    "import matplotlib.pyplot as plt\n",
    "from matplotlib import cm\n",
    "import pandas as pd # Pandas library\n",
    "import numpy as np # Numpy library\n",
    "import matplotlib.pyplot as plt # Matplotlib library\n",
    "import numpy.linalg as la # Linear algebra functions\n",
    "import math # Math library\n",
    "import random # Random library\n",
    "import seaborn as sns # Seaborn library\n",
    "\n",
    "crime_data = pd.read_csv('./SanFranciscoCrimeDataset/crime.csv',\n",
    "                          header=1,\n",
    "                          skipinitialspace=False,\n",
    "                          names=['IncidntNum', 'Category', 'Descript', 'DayOfWeek', 'Date', 'Time',\n",
    "                                'PdDistrict', 'Resolution', 'Address', 'X', 'Y', 'Location', 'PdId'])\n",
    "crime_data = crime_data[ ~crime_data['PdDistrict'].isna() ]"
   ]
  },
  {
   "cell_type": "code",
   "execution_count": 2,
   "metadata": {},
   "outputs": [
    {
     "name": "stdout",
     "output_type": "stream",
     "text": [
      "Done Time\n",
      "Done Date\n",
      "Done PD District\n",
      "Done Day of Week\n",
      "Done\n"
     ]
    }
   ],
   "source": [
    "crime_data = pd.read_csv('./SanFranciscoCrimeDataset/crime.csv',\n",
    "                          header=1,\n",
    "                          skipinitialspace=False,\n",
    "                          names=['IncidntNum', 'Category', 'Descript', 'DayOfWeek', 'Date', 'Time',\n",
    "                                'PdDistrict', 'Resolution', 'Address', 'X', 'Y', 'Location', 'PdId'])\n",
    "crime_data = crime_data[ ~crime_data['PdDistrict'].isna() ]\n",
    "\n",
    "#Time\n",
    "crime_data_timeMin = [((int(i.split(':')[0])*60) + int(i.split(':')[1])) for i in crime_data['Time']]\n",
    "crime_data['Time in Min'] = crime_data_timeMin\n",
    "print(\"Done Time\")\n",
    "\n",
    "#Date\n",
    "crime_data_date = [i.split()[0] for i in crime_data['Date']]\n",
    "crime_data_dateDays = [ ((int(i.split('/')[0])-1)*30.4167) + (int(i.split('/')[1])) for i in crime_data_date]\n",
    "crime_data['Date in Days'] = crime_data_dateDays\n",
    "print(\"Done Date\")\n",
    "\n",
    "#PD District\n",
    "District_Parse = list(set([i[0] for i in crime_data[['PdDistrict']].values]))\n",
    "crime_data_District = [np.array([0 if District_Parse.index(d)!=i else\\\n",
    " 1 for (i,p) in enumerate(District_Parse)]) for d in\\\n",
    "crime_data[['PdDistrict']].values]\n",
    "\n",
    "crime_data['One Hot Encoding PdDist'] = crime_data_District\n",
    "print(\"Done PD District\")\n",
    "\n",
    "#Day of week\n",
    "Day_Parse = list(set([i[0] for i in crime_data[['DayOfWeek']].values]))\n",
    "crime_data_Day = [np.array([0 if Day_Parse.index(d)!=i else 1 for\\\n",
    "(i,p) in enumerate(Day_Parse)]) for d in crime_data[['DayOfWeek']]\\\n",
    ".values]\n",
    "\n",
    "crime_data['One Hot Encoding DayOfWeek'] = crime_data_Day\n",
    "\n",
    "print(\"Done Day of Week\")\n",
    "\n",
    "#Category\n",
    "Category_Parse = list(set([i[0] for i in crime_data[['Category']].values]))\n",
    "crime_data_Category = [np.array([0 if Category_Parse.index(d)!=i\\\n",
    "else 1 for (i,p) in enumerate(Category_Parse)]) for d in\\\n",
    "crime_data[['Category']].values]\n",
    "\n",
    "crime_data['One Hot Encoding Category'] = crime_data_Category\n",
    "\n",
    "print(\"Done\")"
   ]
  },
  {
   "cell_type": "code",
   "execution_count": 3,
   "metadata": {},
   "outputs": [
    {
     "name": "stdout",
     "output_type": "stream",
     "text": [
      "[[ -1.22423956e+02   3.77619449e+01   1.20000000e+03 ...,   0.00000000e+00\n",
      "    1.00000000e+00   0.00000000e+00]\n",
      " [ -1.22419835e+02   3.77863580e+01   8.37000000e+02 ...,   0.00000000e+00\n",
      "    0.00000000e+00   0.00000000e+00]\n",
      " [ -1.22409248e+02   3.77813987e+01   4.38000000e+02 ...,   0.00000000e+00\n",
      "    0.00000000e+00   1.00000000e+00]\n",
      " ..., \n",
      " [ -1.22409792e+02   3.77985083e+01   8.25000000e+02 ...,   1.00000000e+00\n",
      "    0.00000000e+00   0.00000000e+00]\n",
      " [ -1.22397202e+02   3.77535351e+01   7.69000000e+02 ...,   0.00000000e+00\n",
      "    0.00000000e+00   0.00000000e+00]\n",
      " [ -1.22412515e+02   3.77804777e+01   3.20000000e+02 ...,   0.00000000e+00\n",
      "    0.00000000e+00   0.00000000e+00]]\n",
      "[[0 0 0 ..., 0 0 1]\n",
      " [0 0 0 ..., 0 0 0]\n",
      " [0 0 0 ..., 0 0 1]\n",
      " ..., \n",
      " [0 0 1 ..., 0 0 0]\n",
      " [0 0 0 ..., 0 0 0]\n",
      " [0 0 0 ..., 0 0 0]]\n"
     ]
    }
   ],
   "source": [
    "def split_sets(dataframe, train_p):\n",
    "    \"\"\"\n",
    "    Returns 2 lists of the form needed to use the KNN class using the San Francisco Crime dataset\n",
    "    -- The function uses x and y coordinate data for graphing and the type of crime as our labels.\n",
    "    **The dataframe passed can be subset to go by location to see how KNN works on each \"area\"\n",
    "    \"\"\"\n",
    "    assert(train_p < 1) # Make sure that p is a percentage\n",
    "    assert(train_p > 0) # Make sure that p is non-negative\n",
    "    \n",
    "    # Split dataframe into training and test/prediction sets\n",
    "    train_count = int(dataframe.shape[0] * train_p)\n",
    "    predict_count = int(dataframe.shape[0] * (1 - train_p))\n",
    "    train_count_Y = int(dataframe.shape[0] * train_p)\n",
    "    predict_count_Y = int(dataframe.shape[0] * (1 - train_p))\n",
    "    \n",
    "    \n",
    "    tmp_list = dataframe.values[:]\n",
    "    np.random.shuffle(tmp_list) # Shuffle the rows\n",
    "    train_list = tmp_list[0:train_count] # Take the first train_p percentage for the training data\n",
    "    predict_list = tmp_list[train_count:] # The rest go to predict data\n",
    "    \n",
    "\n",
    "    rtn_train = [[i[9], i[10], i[13], i[14], *i[15], *i[16]] for i in train_list]\n",
    "    rtn_predict = [[i[9], i[10], i[13], i[14], *i[15], *i[16]]for i in predict_list]\n",
    "    \n",
    "    rtn_train_Y = [i[17] for i in train_list]\n",
    "    rtn_predict_Y = [ i[17] for i in predict_list]\n",
    "    \n",
    "    return rtn_train, rtn_predict, rtn_train_Y, rtn_predict_Y\n",
    "\n",
    "\n",
    "train_NN1, predict_NN1, train_NN1_Y, predict_NN1_Y = split_sets(crime_data, .3)\n",
    "\n",
    "train_NN = np.array(train_NN1)\n",
    "train_NN_Y = np.array(train_NN1_Y)\n",
    "\n",
    "print(train_NN)\n",
    "print(train_NN_Y)"
   ]
  },
  {
   "cell_type": "code",
   "execution_count": 4,
   "metadata": {},
   "outputs": [
    {
     "data": {
      "text/html": [
       "<div>\n",
       "<style scoped>\n",
       "    .dataframe tbody tr th:only-of-type {\n",
       "        vertical-align: middle;\n",
       "    }\n",
       "\n",
       "    .dataframe tbody tr th {\n",
       "        vertical-align: top;\n",
       "    }\n",
       "\n",
       "    .dataframe thead th {\n",
       "        text-align: right;\n",
       "    }\n",
       "</style>\n",
       "<table border=\"1\" class=\"dataframe\">\n",
       "  <thead>\n",
       "    <tr style=\"text-align: right;\">\n",
       "      <th></th>\n",
       "      <th>IncidntNum</th>\n",
       "      <th>Category</th>\n",
       "      <th>Descript</th>\n",
       "      <th>DayOfWeek</th>\n",
       "      <th>Date</th>\n",
       "      <th>Time</th>\n",
       "      <th>PdDistrict</th>\n",
       "      <th>Resolution</th>\n",
       "      <th>Address</th>\n",
       "      <th>X</th>\n",
       "      <th>Y</th>\n",
       "      <th>Location</th>\n",
       "      <th>PdId</th>\n",
       "      <th>Time in Min</th>\n",
       "      <th>Date in Days</th>\n",
       "      <th>One Hot Encoding PdDist</th>\n",
       "      <th>One Hot Encoding DayOfWeek</th>\n",
       "      <th>One Hot Encoding Category</th>\n",
       "    </tr>\n",
       "  </thead>\n",
       "  <tbody>\n",
       "    <tr>\n",
       "      <th>0</th>\n",
       "      <td>120058272</td>\n",
       "      <td>WEAPON LAWS</td>\n",
       "      <td>FIREARM, LOADED, IN VEHICLE, POSSESSION OR USE</td>\n",
       "      <td>Friday</td>\n",
       "      <td>01/29/2016 12:00:00 AM</td>\n",
       "      <td>11:00</td>\n",
       "      <td>SOUTHERN</td>\n",
       "      <td>ARREST, BOOKED</td>\n",
       "      <td>800 Block of BRYANT ST</td>\n",
       "      <td>-122.403405</td>\n",
       "      <td>37.775421</td>\n",
       "      <td>(37.775420706711, -122.403404791479)</td>\n",
       "      <td>12005827212168</td>\n",
       "      <td>660</td>\n",
       "      <td>29.0000</td>\n",
       "      <td>[1, 0, 0, 0, 0, 0, 0, 0, 0, 0]</td>\n",
       "      <td>[0, 0, 1, 0, 0, 0, 0]</td>\n",
       "      <td>[0, 0, 0, 0, 0, 0, 0, 0, 0, 0, 0, 0, 0, 1, 0, ...</td>\n",
       "    </tr>\n",
       "    <tr>\n",
       "      <th>1</th>\n",
       "      <td>141059263</td>\n",
       "      <td>WARRANTS</td>\n",
       "      <td>WARRANT ARREST</td>\n",
       "      <td>Monday</td>\n",
       "      <td>04/25/2016 12:00:00 AM</td>\n",
       "      <td>14:59</td>\n",
       "      <td>BAYVIEW</td>\n",
       "      <td>ARREST, BOOKED</td>\n",
       "      <td>KEITH ST / SHAFTER AV</td>\n",
       "      <td>-122.388856</td>\n",
       "      <td>37.729981</td>\n",
       "      <td>(37.7299809672996, -122.388856204292)</td>\n",
       "      <td>14105926363010</td>\n",
       "      <td>899</td>\n",
       "      <td>116.2501</td>\n",
       "      <td>[0, 0, 0, 0, 0, 0, 0, 0, 0, 1]</td>\n",
       "      <td>[1, 0, 0, 0, 0, 0, 0]</td>\n",
       "      <td>[0, 0, 0, 0, 0, 0, 0, 0, 0, 0, 0, 0, 0, 0, 0, ...</td>\n",
       "    </tr>\n",
       "    <tr>\n",
       "      <th>2</th>\n",
       "      <td>160013662</td>\n",
       "      <td>NON-CRIMINAL</td>\n",
       "      <td>LOST PROPERTY</td>\n",
       "      <td>Tuesday</td>\n",
       "      <td>01/05/2016 12:00:00 AM</td>\n",
       "      <td>23:50</td>\n",
       "      <td>TENDERLOIN</td>\n",
       "      <td>NONE</td>\n",
       "      <td>JONES ST / OFARRELL ST</td>\n",
       "      <td>-122.412971</td>\n",
       "      <td>37.785788</td>\n",
       "      <td>(37.7857883766888, -122.412970537591)</td>\n",
       "      <td>16001366271000</td>\n",
       "      <td>1430</td>\n",
       "      <td>5.0000</td>\n",
       "      <td>[0, 0, 0, 0, 1, 0, 0, 0, 0, 0]</td>\n",
       "      <td>[0, 1, 0, 0, 0, 0, 0]</td>\n",
       "      <td>[0, 0, 0, 0, 0, 0, 0, 0, 0, 0, 0, 0, 0, 0, 0, ...</td>\n",
       "    </tr>\n",
       "    <tr>\n",
       "      <th>3</th>\n",
       "      <td>160002740</td>\n",
       "      <td>NON-CRIMINAL</td>\n",
       "      <td>LOST PROPERTY</td>\n",
       "      <td>Friday</td>\n",
       "      <td>01/01/2016 12:00:00 AM</td>\n",
       "      <td>00:30</td>\n",
       "      <td>MISSION</td>\n",
       "      <td>NONE</td>\n",
       "      <td>16TH ST / MISSION ST</td>\n",
       "      <td>-122.419672</td>\n",
       "      <td>37.765050</td>\n",
       "      <td>(37.7650501214668, -122.419671780296)</td>\n",
       "      <td>16000274071000</td>\n",
       "      <td>30</td>\n",
       "      <td>1.0000</td>\n",
       "      <td>[0, 0, 0, 0, 0, 0, 0, 1, 0, 0]</td>\n",
       "      <td>[0, 0, 1, 0, 0, 0, 0]</td>\n",
       "      <td>[0, 0, 0, 0, 0, 0, 0, 0, 0, 0, 0, 0, 0, 0, 0, ...</td>\n",
       "    </tr>\n",
       "    <tr>\n",
       "      <th>4</th>\n",
       "      <td>160002869</td>\n",
       "      <td>ASSAULT</td>\n",
       "      <td>BATTERY</td>\n",
       "      <td>Friday</td>\n",
       "      <td>01/01/2016 12:00:00 AM</td>\n",
       "      <td>21:35</td>\n",
       "      <td>NORTHERN</td>\n",
       "      <td>NONE</td>\n",
       "      <td>1700 Block of BUSH ST</td>\n",
       "      <td>-122.426077</td>\n",
       "      <td>37.788019</td>\n",
       "      <td>(37.788018555829, -122.426077177375)</td>\n",
       "      <td>16000286904134</td>\n",
       "      <td>1295</td>\n",
       "      <td>1.0000</td>\n",
       "      <td>[0, 0, 0, 0, 0, 1, 0, 0, 0, 0]</td>\n",
       "      <td>[0, 0, 1, 0, 0, 0, 0]</td>\n",
       "      <td>[0, 0, 0, 0, 0, 0, 0, 0, 0, 0, 0, 0, 0, 0, 0, ...</td>\n",
       "    </tr>\n",
       "  </tbody>\n",
       "</table>\n",
       "</div>"
      ],
      "text/plain": [
       "   IncidntNum      Category                                        Descript  \\\n",
       "0   120058272   WEAPON LAWS  FIREARM, LOADED, IN VEHICLE, POSSESSION OR USE   \n",
       "1   141059263      WARRANTS                                  WARRANT ARREST   \n",
       "2   160013662  NON-CRIMINAL                                   LOST PROPERTY   \n",
       "3   160002740  NON-CRIMINAL                                   LOST PROPERTY   \n",
       "4   160002869       ASSAULT                                         BATTERY   \n",
       "\n",
       "  DayOfWeek                    Date   Time  PdDistrict      Resolution  \\\n",
       "0    Friday  01/29/2016 12:00:00 AM  11:00    SOUTHERN  ARREST, BOOKED   \n",
       "1    Monday  04/25/2016 12:00:00 AM  14:59     BAYVIEW  ARREST, BOOKED   \n",
       "2   Tuesday  01/05/2016 12:00:00 AM  23:50  TENDERLOIN            NONE   \n",
       "3    Friday  01/01/2016 12:00:00 AM  00:30     MISSION            NONE   \n",
       "4    Friday  01/01/2016 12:00:00 AM  21:35    NORTHERN            NONE   \n",
       "\n",
       "                  Address           X          Y  \\\n",
       "0  800 Block of BRYANT ST -122.403405  37.775421   \n",
       "1   KEITH ST / SHAFTER AV -122.388856  37.729981   \n",
       "2  JONES ST / OFARRELL ST -122.412971  37.785788   \n",
       "3    16TH ST / MISSION ST -122.419672  37.765050   \n",
       "4   1700 Block of BUSH ST -122.426077  37.788019   \n",
       "\n",
       "                                Location            PdId  Time in Min  \\\n",
       "0   (37.775420706711, -122.403404791479)  12005827212168          660   \n",
       "1  (37.7299809672996, -122.388856204292)  14105926363010          899   \n",
       "2  (37.7857883766888, -122.412970537591)  16001366271000         1430   \n",
       "3  (37.7650501214668, -122.419671780296)  16000274071000           30   \n",
       "4   (37.788018555829, -122.426077177375)  16000286904134         1295   \n",
       "\n",
       "   Date in Days         One Hot Encoding PdDist One Hot Encoding DayOfWeek  \\\n",
       "0       29.0000  [1, 0, 0, 0, 0, 0, 0, 0, 0, 0]      [0, 0, 1, 0, 0, 0, 0]   \n",
       "1      116.2501  [0, 0, 0, 0, 0, 0, 0, 0, 0, 1]      [1, 0, 0, 0, 0, 0, 0]   \n",
       "2        5.0000  [0, 0, 0, 0, 1, 0, 0, 0, 0, 0]      [0, 1, 0, 0, 0, 0, 0]   \n",
       "3        1.0000  [0, 0, 0, 0, 0, 0, 0, 1, 0, 0]      [0, 0, 1, 0, 0, 0, 0]   \n",
       "4        1.0000  [0, 0, 0, 0, 0, 1, 0, 0, 0, 0]      [0, 0, 1, 0, 0, 0, 0]   \n",
       "\n",
       "                           One Hot Encoding Category  \n",
       "0  [0, 0, 0, 0, 0, 0, 0, 0, 0, 0, 0, 0, 0, 1, 0, ...  \n",
       "1  [0, 0, 0, 0, 0, 0, 0, 0, 0, 0, 0, 0, 0, 0, 0, ...  \n",
       "2  [0, 0, 0, 0, 0, 0, 0, 0, 0, 0, 0, 0, 0, 0, 0, ...  \n",
       "3  [0, 0, 0, 0, 0, 0, 0, 0, 0, 0, 0, 0, 0, 0, 0, ...  \n",
       "4  [0, 0, 0, 0, 0, 0, 0, 0, 0, 0, 0, 0, 0, 0, 0, ...  "
      ]
     },
     "execution_count": 4,
     "metadata": {},
     "output_type": "execute_result"
    }
   ],
   "source": [
    "crime_data.head()"
   ]
  },
  {
   "cell_type": "code",
   "execution_count": 9,
   "metadata": {},
   "outputs": [],
   "source": [
    "from nn import NN\n",
    "import importlib # needed to reload a module\n",
    "#importlib.reload(nn) # reload to get the new defs"
   ]
  },
  {
   "cell_type": "code",
   "execution_count": 11,
   "metadata": {},
   "outputs": [
    {
     "name": "stdout",
     "output_type": "stream",
     "text": [
      "Current loss: 886.157778361\n",
      "Done\n"
     ]
    }
   ],
   "source": [
    "parse_crimes = list(set([i[0] for i in crime_data[['Category']].values]))\n",
    "\n",
    "test = NN(21, 1,2,  .1, True, len(parse_crimes))\n",
    "test.reset()\n",
    "test.train_rounds(train_NN[:100], train_NN_Y[:100], 1)\n",
    "print(\"Done\")"
   ]
  },
  {
   "cell_type": "code",
   "execution_count": 13,
   "metadata": {},
   "outputs": [
    {
     "name": "stdout",
     "output_type": "stream",
     "text": [
      "Current loss: 116.712637906\n"
     ]
    }
   ],
   "source": [
    "test.train_rounds(train_NN[:100], train_NN_Y[:100], 1000)"
   ]
  },
  {
   "cell_type": "code",
   "execution_count": 14,
   "metadata": {},
   "outputs": [
    {
     "name": "stdout",
     "output_type": "stream",
     "text": [
      "Current loss: 114.060898944\n"
     ]
    }
   ],
   "source": [
    "test.train_rounds(train_NN[:100], train_NN_Y[:100], 10000)"
   ]
  },
  {
   "cell_type": "code",
   "execution_count": 15,
   "metadata": {},
   "outputs": [
    {
     "name": "stdout",
     "output_type": "stream",
     "text": [
      "Current loss: 113.623486112\n"
     ]
    }
   ],
   "source": [
    "test.train_rounds(train_NN[:100], train_NN_Y[:100], 10000)"
   ]
  },
  {
   "cell_type": "code",
   "execution_count": 16,
   "metadata": {},
   "outputs": [
    {
     "name": "stdout",
     "output_type": "stream",
     "text": [
      "Current loss: 113.39195978\n"
     ]
    }
   ],
   "source": [
    "test.train_rounds(train_NN[:100], train_NN_Y[:100], 10000)"
   ]
  },
  {
   "cell_type": "code",
   "execution_count": 17,
   "metadata": {},
   "outputs": [
    {
     "name": "stdout",
     "output_type": "stream",
     "text": [
      "Current loss: 113.223373287\n"
     ]
    }
   ],
   "source": [
    "test.train_rounds(train_NN[:100], train_NN_Y[:100], 10000)"
   ]
  },
  {
   "cell_type": "code",
   "execution_count": null,
   "metadata": {},
   "outputs": [],
   "source": []
  }
 ],
 "metadata": {
  "kernelspec": {
   "display_name": "Python 3",
   "language": "python",
   "name": "python3"
  },
  "language_info": {
   "codemirror_mode": {
    "name": "ipython",
    "version": 3
   },
   "file_extension": ".py",
   "mimetype": "text/x-python",
   "name": "python",
   "nbconvert_exporter": "python",
   "pygments_lexer": "ipython3",
   "version": "3.6.7"
  }
 },
 "nbformat": 4,
 "nbformat_minor": 2
}
