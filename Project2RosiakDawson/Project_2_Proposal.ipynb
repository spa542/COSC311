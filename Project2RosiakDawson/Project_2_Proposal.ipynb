{
 "cells": [
  {
   "cell_type": "markdown",
   "metadata": {},
   "source": [
    "## COSC 311 - Project 2 Proposal\n",
    "\n",
    "#### Grant Dawson and Ryan Rosiak\n",
    "\n",
    "\n",
    "\n",
    "The data we plan on preforming this project on is the police dataset. This dataset seemed to be the most diverse ebcasue it has so a large quanitity of data points and so many atributes per data point. Per data point in this dataset has attributes ranging from date/time to location to the crime committed. THe data set is the crime in San Francisco from an entire year. \n",
    "\n",
    "We plan to use *k nearest* and a *linear regretion*. We need to do more research into what we can apply these algirthms to data. But that is some of the fun for the next few weeks and this Thanksgiving break. But if we have to put something down I have the short hand idea that we can make some sort of k nearest map of the physical map of the San Francisco where if give a point we can predict what sort of crime was commited based on the past incidents. This can be interesting a fun because we have gps localiotns for the incidents so we can plot the incidents and the place an image of San Fransisco in the background to show where the incidents are happening and where the predictions will happen physically. This will be able to show where some crimes are more likely to happen. We have done tests in line plots to see what time have the most crime but now we can see geographical locations.\n",
    "\n",
    "The second algorithm we were going to use on our data was linear regretion. Here we were going to conducte a regression on the number of crimes commited and the time. This hopefully to show us what time will have to most crime committed per incident. This is a bit of a rough subm,ittion for linear regrettion and we realize we need to more thought into it. \n",
    "\n"
   ]
  }
 ],
 "metadata": {
  "kernelspec": {
   "display_name": "Python 3",
   "language": "python",
   "name": "python3"
  },
  "language_info": {
   "codemirror_mode": {
    "name": "ipython",
    "version": 3
   },
   "file_extension": ".py",
   "mimetype": "text/x-python",
   "name": "python",
   "nbconvert_exporter": "python",
   "pygments_lexer": "ipython3",
   "version": "3.6.7"
  }
 },
 "nbformat": 4,
 "nbformat_minor": 2
}
