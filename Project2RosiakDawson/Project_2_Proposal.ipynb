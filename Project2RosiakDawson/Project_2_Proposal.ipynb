{
 "cells": [
  {
   "cell_type": "markdown",
   "metadata": {},
   "source": [
    "## COSC 311 - Project 2 Proposal\n",
    "\n",
    "#### Grant Dawson and Ryan Rosiak\n",
    "\n",
    "\n",
    "\n",
    "The data we plan on performing this project on is the police dataset. This dataset seemed to be the most diverse because it has so many data points and so many attributes per data point. Per data point in this dataset has characteristics ranging from date/time to the location to the crime committed. The data set is the crime in San Francisco for an entire year. \n",
    "\n",
    "We plan to use *k nearest* and a *linear regression*. We need to do more research into what we can apply these algorithms to data. But that is some of the fun for the next few weeks and this Thanksgiving break. But if we have to put something down, I have the shorthand idea that we can make some k nearest map of the physical map of the San Francisco where if give a point we can predict what sort of crime was committed based on the past incidents. This can be interesting a fun because we have GPS locations for the incidents so we can plot the incidents and the place an image of San Fransisco in the background to show where the incidents are happening and where the predictions will happen physically. This will be able to show where some crimes are more likely to happen. We have done tests in line plots to see what time has the most crime, but now we can see geographical locations.\n",
    "\n",
    "The second algorithm we were going to use on our data was linear regression. Here we were going to conduct a regression on the number of crimes committed and the time. This hopefully to shows us what time will have to the most crime committed per incident. This is a bit of a rough submission for linear regression, and we realize we need more thought. \n",
    "\n"
   ]
  },
  {
   "cell_type": "code",
   "execution_count": null,
   "metadata": {},
   "outputs": [],
   "source": []
  }
 ],
 "metadata": {
  "kernelspec": {
   "display_name": "Python 3",
   "language": "python",
   "name": "python3"
  },
  "language_info": {
   "codemirror_mode": {
    "name": "ipython",
    "version": 3
   },
   "file_extension": ".py",
   "mimetype": "text/x-python",
   "name": "python",
   "nbconvert_exporter": "python",
   "pygments_lexer": "ipython3",
   "version": "3.6.7"
  }
 },
 "nbformat": 4,
 "nbformat_minor": 2
}
