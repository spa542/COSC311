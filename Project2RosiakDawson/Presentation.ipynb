{
 "cells": [
  {
   "cell_type": "markdown",
   "metadata": {},
   "source": [
    "# Project 2 San Francisco Crime Dataset\n",
    "\n",
    "Date: 11/23/20\n",
    "\n",
    "Description: Continuing work on San Francisco Crime Dataset"
   ]
  },
  {
   "cell_type": "markdown",
   "metadata": {},
   "source": [
    "## Authors: \n",
    "Ryan Rosiak [rrosiak1@gulls.salisbury.edu]\n",
    "\n",
    "Grant Dawson [gdawson1@gulls.salisbury.edu]"
   ]
  },
  {
   "cell_type": "markdown",
   "metadata": {},
   "source": [
    "1. Effectively summarize the data: what is it? what does it represent? How was it gathered?\n"
   ]
  },
  {
   "cell_type": "markdown",
   "metadata": {},
   "source": [
    "The San Francisco Crime Dataset is exactly where each data point is a seperate incident or crime that was commited in the year 2016 in the city San Francisco. This dataset represnts the city of Sanfrancisco experienced. Grant it some crime amay have not been accounted for but there were over 150,000 diffrent incidents recorded. And this data was collected from none other than the wounder police department in San Francisco "
   ]
  },
  {
   "cell_type": "markdown",
   "metadata": {},
   "source": [
    "2. What “classes” are present within the data? Just by looking at some primitive plots or graphical\n",
    "breakdowns, are there features that “give away” which class a sample belongs to? For instance, in the\n",
    "adults dataset, the classes are whether the person makes more or less than $50k; a relevant question\n",
    "to ask is that, since this doesn’t correlate with any single attribute, perhaps there is a specific pairing\n",
    "of attributes for which a certain combination of values means that somebody is at a particular income\n",
    "level.\n"
   ]
  },
  {
   "cell_type": "markdown",
   "metadata": {},
   "source": [
    "There is no way to be sure that just one attribute will be enough to give away the class of specfic incident. We are calling the category as the class. But if we combine most of the data, time, date, localtion, and the Police district there can defenitily is enough information to say what that class the incident was."
   ]
  },
  {
   "cell_type": "markdown",
   "metadata": {},
   "source": [
    "3. What attributes look like they are parameters of an underlying population that could be learned by\n",
    "an unsupervised machine learning algorithm? For example, in the adults dataset, does it seem like\n",
    "any of the numerical parameters follow a specific distribution within different sub-populations? One\n",
    "example might be that if you know a person’s occupation, education, and income, can you effectively\n",
    "model their hours worked per week?\n"
   ]
  },
  {
   "cell_type": "markdown",
   "metadata": {},
   "source": [
    "The San Francisco dataset allowed seemed as if most of the data given/attributes were parameters for the underlying population in regards to the type of incident/category. The real question is how deep are you willing to look. One big contrivuter is geological location which is given either as an adress or as a (X,Y) location. This makes sense since certian neghborhoods or certian areas of the city will be known for certian incidents/crimes than others. Like one block may be known for drugs and another street corner may be know for prostituion and rich areas have issues with theft and so on. But if you are willing to look into more of the data most of the given attributes we can think of the ways it will affect what the crime could be. The day of the week since people work typically during the day on week days we can know that most people won;t be in their homes, the time of the day could show a change in category since most robberies don;t happen in the daylight, date can also be a contributor when it is closer to christmas there we can expect more thefts. All of these we can make sense of how they will affect or have some sort of affect on the people doing the crimes. "
   ]
  },
  {
   "cell_type": "markdown",
   "metadata": {},
   "source": [
    "4. Implement your own version (not using pre-built libraries) of two supervised machine learning algorithms. Some suggestions include but are not limited to:\n",
    "1\n",
    "(a) Decision trees\n",
    "(b) Support vector machine\n",
    "(c) Nearest neighbors\n",
    "(d) AdaBoost or other boosting (using your other algorithm as the weak learner)\n",
    "(e) Standard neural network\n"
   ]
  },
  {
   "cell_type": "markdown",
   "metadata": {},
   "source": [
    "We used both KNN (K Nearest Neighbors) and a NN (Nerual Network). As we talked about before we can use just geolgical location (X,Y)'s which works great for our KNN. Grant it we can make anydata work but we can now visualizes this data on a physical map allowing for use to have a real idea of what the data means and a great visualization for someone who is not as close to the dataset as us. We also used NN because this is something extremely interesting and that it allwos for such diverse inputs and can be edited so much and tweeked so much that we can expect there will be some combination of layers that will yeild good results. That and we can think of this in a real world application because we could make a system where real time police dispatchers can plug in the data they receive from a 911 call and plug it into the NN. This can give the responding police an idea of what to expect. On paper this sounds amazing and especially with the climate of police this would eb a great thing for the news media to get a hold of that police deparements are using. "
   ]
  },
  {
   "cell_type": "markdown",
   "metadata": {},
   "source": [
    "5. Show a visualization of each feature in the dataset.\n",
    "(a) For at least two of these, use a non-standard graphic (outside the standard bar, line, scatter\n",
    "plot) to represent and summarize it. Be creative! Think about visualizations the rely on maps\n",
    "or external structures to present spacial relationships, or perhaps an animated visual of some\n",
    "feature/structure changing over time (matplotlib.animation can help here).\n",
    "(b) The visualization should emphasize both the values of the feature and their relationship to other\n",
    "aspects such as membership in a particular population within the data.\n"
   ]
  },
  {
   "cell_type": "code",
   "execution_count": null,
   "metadata": {},
   "outputs": [],
   "source": []
  },
  {
   "cell_type": "markdown",
   "metadata": {},
   "source": [
    "Talk to andy dog!!\n",
    "\n",
    "\n",
    "##### Category/Description \n",
    "\n",
    "\n",
    "##### Date\n",
    "\n",
    "##### Time\n",
    "\n",
    "##### Pd District \n",
    "\n",
    "##### Resolution\n",
    "\n",
    "##### Location\n"
   ]
  },
  {
   "cell_type": "markdown",
   "metadata": {},
   "source": [
    "6. Show the behavior of your machine learning algorithms on the data. Specifically, consider the following:\n",
    "(a) Show the “learning curve” of your algorithm: how the error changes with more training (either\n",
    "more training data or more epochs, depending on the algorithm). Include the performance on\n",
    "both testing and training datasets during this process, when applicable.\n",
    "(b) Show the generalization error by using different sets of data for testing, training, and validation.\n",
    "(c) How does the algorithm perform when you restrict the dimension of your data? This may be done\n",
    "by removing columns, or by using other dimension reduction algorithms (Principle Component\n",
    "Analysis, Multi-dimensional scaling, etc.). If you can get good behavior using only 2 or 3 features,\n",
    "try to visualize the algorithms results on the full domain, to show the “decision surface”.\n",
    "(d) Use more “classical” statistic techniques to motivate the success (or failure) of your machine\n",
    "learning algorithm: are the features uncorrolated with the label? Do hypothesis tests reject\n",
    "assumptions that would make prediction possible?\n"
   ]
  },
  {
   "cell_type": "markdown",
   "metadata": {},
   "source": [
    "7. Finally, you will present this data and your results to your classmates on the final exam date, December 17. The presentation should be 10-15 minutes long, and will take the place of the final exam grade.\n",
    "Your presentation should focus on:\n",
    "(a) Creative ways to visualize the data, and the results/reasoning behind your machine learning\n",
    "algorithms,\n",
    "(b) Clearly explaining why your results make sense in a boarder context, and whether they inform\n",
    "new information that is not directly captured by the dataset,\n",
    "(c) Providing “next steps” to somebody with more domain knowledge, that might lead to better or\n",
    "more meaningful outcomes.\n"
   ]
  }
 ],
 "metadata": {
  "kernelspec": {
   "display_name": "Python 3",
   "language": "python",
   "name": "python3"
  },
  "language_info": {
   "codemirror_mode": {
    "name": "ipython",
    "version": 3
   },
   "file_extension": ".py",
   "mimetype": "text/x-python",
   "name": "python",
   "nbconvert_exporter": "python",
   "pygments_lexer": "ipython3",
   "version": "3.6.7"
  }
 },
 "nbformat": 4,
 "nbformat_minor": 2
}
