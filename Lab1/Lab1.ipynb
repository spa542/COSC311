{
 "cells": [
  {
   "cell_type": "markdown",
   "metadata": {},
   "source": [
    "# Lab 1\n",
    "\n",
    "Author: Ryan Rosiak [rrosiak1@gulls.salisbury.edu]\n",
    "\n",
    "Date: 9/3/20\n",
    "\n",
    "Description: First lab for getting familiar with python and jupyter notebooks"
   ]
  },
  {
   "cell_type": "code",
   "execution_count": 2,
   "metadata": {},
   "outputs": [
    {
     "name": "stdout",
     "output_type": "stream",
     "text": [
      "[{'id': 0, 'name': 'Susan Tedeschi'}, {'id': 1, 'name': 'Bob Dylan'}, {'id': 2, 'name': 'Motley Crue'}, {'id': 3, 'name': 'Def Leppard'}, {'id': 4, 'name': 'Polaris'}, {'id': 5, 'name': 'Spiritbox'}, {'id': 6, 'name': 'Dealer'}, {'id': 7, 'name': 'Alpha Wolf'}, {'id': 8, 'name': 'Beartooth'}, {'id': 9, 'name': 'Of Mice and Men'}]\n"
     ]
    }
   ],
   "source": [
    "# Dictionary of artists\n",
    "artists = [{ \"id\": 0, \"name\": \"Susan Tedeschi\" },\n",
    "           { \"id\": 1, \"name\": \"Bob Dylan\" },\n",
    "           { \"id\": 2, \"name\": \"Motley Crue\"},\n",
    "           { \"id\": 3, \"name\": \"Def Leppard\"},\n",
    "           { \"id\": 4, \"name\": \"Polaris\"},\n",
    "           { \"id\": 5, \"name\": \"Spiritbox\"},\n",
    "           { \"id\": 6, \"name\": \"Dealer\"},\n",
    "           { \"id\": 7, \"name\": \"Alpha Wolf\"},\n",
    "           { \"id\": 8, \"name\": \"Beartooth\"},\n",
    "           { \"id\": 9, \"name\": \"Of Mice and Men\"}\n",
    "         ]\n",
    "print(artists)"
   ]
  },
  {
   "cell_type": "code",
   "execution_count": 3,
   "metadata": {},
   "outputs": [
    {
     "name": "stdout",
     "output_type": "stream",
     "text": [
      "[{'id': 0, 'name': 'Angel from Montgomery'}, {'id': 1, 'name': \"Don't Think Twice, It's Alright\"}, {'id': 2, 'name': 'It Hurt So Bad'}, {'id': 3, 'name': 'Simple Twist of Fate'}, {'id': 4, 'name': 'Rooster'}, {'id': 5, 'name': 'One More'}, {'id': 6, 'name': 'Yeet My Name'}, {'id': 7, 'name': 'WAP'}, {'id': 8, 'name': 'Take It All'}, {'id': 9, 'name': 'Woah There Buckaroo'}, {'id': 10, 'name': 'Hol Up'}, {'id': 11, 'name': 'Love The Way You Lie'}]\n"
     ]
    }
   ],
   "source": [
    "# Dictionary of songs\n",
    "songs = [{ \"id\": 0, \"name\": \"Angel from Montgomery\"},\n",
    "         { \"id\": 1, \"name\": \"Don't Think Twice, It's Alright\"}, \n",
    "         { \"id\": 2, \"name\": \"It Hurt So Bad\"},\n",
    "         { \"id\": 3, \"name\": \"Simple Twist of Fate\"},\n",
    "         { \"id\": 4, \"name\": \"Rooster\"},\n",
    "         { \"id\": 5, \"name\": \"One More\"},\n",
    "         { \"id\": 6, \"name\": \"Yeet My Name\"},\n",
    "         { \"id\": 7, \"name\": \"Yaga\"},\n",
    "         { \"id\": 8, \"name\": \"Take It All\"},\n",
    "         { \"id\": 9, \"name\": \"Woah There Buckaroo\"},\n",
    "         { \"id\": 10, \"name\": \"Hol Up\"},\n",
    "         { \"id\": 11, \"name\": \"Love The Way You Lie\"}\n",
    "        ]\n",
    "print(songs)"
   ]
  },
  {
   "cell_type": "code",
   "execution_count": 4,
   "metadata": {},
   "outputs": [
    {
     "name": "stdout",
     "output_type": "stream",
     "text": [
      "[(0, 0), (1, 1), (1, 11), (2, 2), (2, 1), (3, 3), (3, 4), (3, 8), (3, 11), (4, 4), (5, 5), (5, 2), (5, 3), (6, 6), (6, 7), (7, 7), (7, 10), (8, 8), (8, 1), (8, 2), (9, 9), (9, 10), (9, 10)]\n"
     ]
    }
   ],
   "source": [
    "# List of tuples for artists songs\n",
    "artists_songs = [(0,0), \n",
    "                 (1,1), (1,11),\n",
    "                 (2,2), (2,1),\n",
    "                 (3,3), (3,4), (3,8), (3,11),\n",
    "                 (4,4), \n",
    "                 (5,5), (5,2), (5,3),\n",
    "                 (6,6), (6,7),\n",
    "                 (7,7), (7,10),\n",
    "                 (8,8), (8,1), (8, 2), \n",
    "                 (9,9), (9,10), (9, 10)\n",
    "                ]\n",
    "print(artists_songs)"
   ]
  },
  {
   "cell_type": "code",
   "execution_count": 29,
   "metadata": {},
   "outputs": [],
   "source": [
    "# who_covered Function\n",
    "def who_covered(song_name):\n",
    "    song_id_list = [i for i in songs if i[\"name\"] == song_name]\n",
    "    print(song_id_list)\n",
    "    \n",
    "    if song_id_list == []:\n",
    "        return None\n",
    "            \n",
    "    artist_song_list = [item for item in artists_songs if item[1] == song_id_list[0][\"id\"]]\n",
    "    print(artist_song_list)\n",
    "    \n",
    "    artist_list = [i for i in artist_song_list if i[0] == artists[\"id\"]]\n",
    "    \n",
    "    return artist_list"
   ]
  },
  {
   "cell_type": "code",
   "execution_count": 30,
   "metadata": {},
   "outputs": [
    {
     "name": "stdout",
     "output_type": "stream",
     "text": [
      "Looking for Hol Up which is id 10\n",
      "[{'id': 10, 'name': 'Hol Up'}]\n",
      "[(7, 10), (9, 10), (9, 10)]\n"
     ]
    },
    {
     "ename": "TypeError",
     "evalue": "list indices must be integers or slices, not str",
     "output_type": "error",
     "traceback": [
      "\u001b[0;31m---------------------------------------------------------------------------\u001b[0m",
      "\u001b[0;31mTypeError\u001b[0m                                 Traceback (most recent call last)",
      "\u001b[0;32m<ipython-input-30-75034d2975a7>\u001b[0m in \u001b[0;36m<module>\u001b[0;34m\u001b[0m\n\u001b[1;32m      1\u001b[0m \u001b[0;31m# Tests for who_covered Function\u001b[0m\u001b[0;34m\u001b[0m\u001b[0;34m\u001b[0m\u001b[0;34m\u001b[0m\u001b[0m\n\u001b[1;32m      2\u001b[0m \u001b[0mprint\u001b[0m\u001b[0;34m(\u001b[0m\u001b[0;34m\"Looking for Hol Up which is id 10\"\u001b[0m\u001b[0;34m)\u001b[0m\u001b[0;34m\u001b[0m\u001b[0;34m\u001b[0m\u001b[0m\n\u001b[0;32m----> 3\u001b[0;31m \u001b[0mprint\u001b[0m\u001b[0;34m(\u001b[0m\u001b[0mwho_covered\u001b[0m\u001b[0;34m(\u001b[0m\u001b[0;34m\"Hol Up\"\u001b[0m\u001b[0;34m)\u001b[0m\u001b[0;34m)\u001b[0m\u001b[0;34m\u001b[0m\u001b[0;34m\u001b[0m\u001b[0m\n\u001b[0m\u001b[1;32m      4\u001b[0m \u001b[0mprint\u001b[0m\u001b[0;34m(\u001b[0m\u001b[0;34m\"Looking for Rooster which is id 4\"\u001b[0m\u001b[0;34m)\u001b[0m\u001b[0;34m\u001b[0m\u001b[0;34m\u001b[0m\u001b[0m\n\u001b[1;32m      5\u001b[0m \u001b[0mprint\u001b[0m\u001b[0;34m(\u001b[0m\u001b[0mwho_covered\u001b[0m\u001b[0;34m(\u001b[0m\u001b[0;34m\"Rooster\"\u001b[0m\u001b[0;34m)\u001b[0m\u001b[0;34m)\u001b[0m\u001b[0;34m\u001b[0m\u001b[0;34m\u001b[0m\u001b[0m\n",
      "\u001b[0;32m<ipython-input-29-dd207d12dda5>\u001b[0m in \u001b[0;36mwho_covered\u001b[0;34m(song_name)\u001b[0m\n\u001b[1;32m     10\u001b[0m     \u001b[0mprint\u001b[0m\u001b[0;34m(\u001b[0m\u001b[0martist_song_list\u001b[0m\u001b[0;34m)\u001b[0m\u001b[0;34m\u001b[0m\u001b[0;34m\u001b[0m\u001b[0m\n\u001b[1;32m     11\u001b[0m \u001b[0;34m\u001b[0m\u001b[0m\n\u001b[0;32m---> 12\u001b[0;31m     \u001b[0martist_list\u001b[0m \u001b[0;34m=\u001b[0m \u001b[0;34m[\u001b[0m\u001b[0mi\u001b[0m \u001b[0;32mfor\u001b[0m \u001b[0mi\u001b[0m \u001b[0;32min\u001b[0m \u001b[0martist_song_list\u001b[0m \u001b[0;32mif\u001b[0m \u001b[0mi\u001b[0m\u001b[0;34m[\u001b[0m\u001b[0;36m0\u001b[0m\u001b[0;34m]\u001b[0m \u001b[0;34m==\u001b[0m \u001b[0martists\u001b[0m\u001b[0;34m[\u001b[0m\u001b[0;34m\"id\"\u001b[0m\u001b[0;34m]\u001b[0m\u001b[0;34m]\u001b[0m\u001b[0;34m\u001b[0m\u001b[0;34m\u001b[0m\u001b[0m\n\u001b[0m\u001b[1;32m     13\u001b[0m \u001b[0;34m\u001b[0m\u001b[0m\n\u001b[1;32m     14\u001b[0m     \u001b[0;32mreturn\u001b[0m \u001b[0martist_list\u001b[0m\u001b[0;34m\u001b[0m\u001b[0;34m\u001b[0m\u001b[0m\n",
      "\u001b[0;32m<ipython-input-29-dd207d12dda5>\u001b[0m in \u001b[0;36m<listcomp>\u001b[0;34m(.0)\u001b[0m\n\u001b[1;32m     10\u001b[0m     \u001b[0mprint\u001b[0m\u001b[0;34m(\u001b[0m\u001b[0martist_song_list\u001b[0m\u001b[0;34m)\u001b[0m\u001b[0;34m\u001b[0m\u001b[0;34m\u001b[0m\u001b[0m\n\u001b[1;32m     11\u001b[0m \u001b[0;34m\u001b[0m\u001b[0m\n\u001b[0;32m---> 12\u001b[0;31m     \u001b[0martist_list\u001b[0m \u001b[0;34m=\u001b[0m \u001b[0;34m[\u001b[0m\u001b[0mi\u001b[0m \u001b[0;32mfor\u001b[0m \u001b[0mi\u001b[0m \u001b[0;32min\u001b[0m \u001b[0martist_song_list\u001b[0m \u001b[0;32mif\u001b[0m \u001b[0mi\u001b[0m\u001b[0;34m[\u001b[0m\u001b[0;36m0\u001b[0m\u001b[0;34m]\u001b[0m \u001b[0;34m==\u001b[0m \u001b[0martists\u001b[0m\u001b[0;34m[\u001b[0m\u001b[0;34m\"id\"\u001b[0m\u001b[0;34m]\u001b[0m\u001b[0;34m]\u001b[0m\u001b[0;34m\u001b[0m\u001b[0;34m\u001b[0m\u001b[0m\n\u001b[0m\u001b[1;32m     13\u001b[0m \u001b[0;34m\u001b[0m\u001b[0m\n\u001b[1;32m     14\u001b[0m     \u001b[0;32mreturn\u001b[0m \u001b[0martist_list\u001b[0m\u001b[0;34m\u001b[0m\u001b[0;34m\u001b[0m\u001b[0m\n",
      "\u001b[0;31mTypeError\u001b[0m: list indices must be integers or slices, not str"
     ]
    }
   ],
   "source": [
    "# Tests for who_covered Function\n",
    "print(\"Looking for Hol Up which is id 10\")\n",
    "print(who_covered(\"Hol Up\"))\n",
    "print(\"Looking for Rooster which is id 4\")\n",
    "print(who_covered(\"Rooster\"))"
   ]
  },
  {
   "cell_type": "code",
   "execution_count": null,
   "metadata": {},
   "outputs": [],
   "source": []
  }
 ],
 "metadata": {
  "kernelspec": {
   "display_name": "Python 3",
   "language": "python",
   "name": "python3"
  },
  "language_info": {
   "codemirror_mode": {
    "name": "ipython",
    "version": 3
   },
   "file_extension": ".py",
   "mimetype": "text/x-python",
   "name": "python",
   "nbconvert_exporter": "python",
   "pygments_lexer": "ipython3",
   "version": "3.6.7"
  }
 },
 "nbformat": 4,
 "nbformat_minor": 2
}
