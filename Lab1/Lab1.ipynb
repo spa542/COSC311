{
 "cells": [
  {
   "cell_type": "markdown",
   "metadata": {},
   "source": [
    "# Lab 1\n",
    "\n",
    "Author: Ryan Rosiak [rrosiak1@gulls.salisbury.edu]\n",
    "\n",
    "Date: 9/3/20\n",
    "\n",
    "Description: First lab for getting familiar with python and jupyter notebooks"
   ]
  },
  {
   "cell_type": "code",
   "execution_count": 1,
   "metadata": {},
   "outputs": [
    {
     "name": "stdout",
     "output_type": "stream",
     "text": [
      "[{'id': 0, 'name': 'Susan Tedeschi'}, {'id': 1, 'name': 'Bob Dylan'}, {'id': 2, 'name': 'Motley Crue'}, {'id': 3, 'name': 'Def Leppard'}, {'id': 4, 'name': 'Polaris'}, {'id': 5, 'name': 'Spiritbox'}, {'id': 6, 'name': 'Dealer'}, {'id': 7, 'name': 'Alpha Wolf'}, {'id': 8, 'name': 'Beartooth'}, {'id': 9, 'name': 'Of Mice and Men'}]\n"
     ]
    }
   ],
   "source": [
    "# Dictionary of artists\n",
    "artists = [{ \"id\": 0, \"name\": \"Susan Tedeschi\" },\n",
    "           { \"id\": 1, \"name\": \"Bob Dylan\" },\n",
    "           { \"id\": 2, \"name\": \"Motley Crue\"},\n",
    "           { \"id\": 3, \"name\": \"Def Leppard\"},\n",
    "           { \"id\": 4, \"name\": \"Polaris\"},\n",
    "           { \"id\": 5, \"name\": \"Spiritbox\"},\n",
    "           { \"id\": 6, \"name\": \"Dealer\"},\n",
    "           { \"id\": 7, \"name\": \"Alpha Wolf\"},\n",
    "           { \"id\": 8, \"name\": \"Beartooth\"},\n",
    "           { \"id\": 9, \"name\": \"Of Mice and Men\"}\n",
    "         ]\n",
    "print(artists)"
   ]
  },
  {
   "cell_type": "code",
   "execution_count": 2,
   "metadata": {},
   "outputs": [
    {
     "name": "stdout",
     "output_type": "stream",
     "text": [
      "[{'id': 0, 'name': 'Angel from Montgomery'}, {'id': 1, 'name': \"Don't Think Twice, It's Alright\"}, {'id': 2, 'name': 'It Hurt So Bad'}, {'id': 3, 'name': 'Simple Twist of Fate'}, {'id': 4, 'name': 'Rooster'}, {'id': 5, 'name': 'One More'}, {'id': 6, 'name': 'Yeet My Name'}, {'id': 7, 'name': 'Yaga'}, {'id': 8, 'name': 'Take It All'}, {'id': 9, 'name': 'Woah There Buckaroo'}, {'id': 10, 'name': 'Hol Up'}, {'id': 11, 'name': 'Love The Way You Lie'}]\n"
     ]
    }
   ],
   "source": [
    "# Dictionary of songs\n",
    "songs = [{ \"id\": 0, \"name\": \"Angel from Montgomery\"},\n",
    "         { \"id\": 1, \"name\": \"Don't Think Twice, It's Alright\"}, \n",
    "         { \"id\": 2, \"name\": \"It Hurt So Bad\"},\n",
    "         { \"id\": 3, \"name\": \"Simple Twist of Fate\"},\n",
    "         { \"id\": 4, \"name\": \"Rooster\"},\n",
    "         { \"id\": 5, \"name\": \"One More\"},\n",
    "         { \"id\": 6, \"name\": \"Yeet My Name\"},\n",
    "         { \"id\": 7, \"name\": \"Yaga\"},\n",
    "         { \"id\": 8, \"name\": \"Take It All\"},\n",
    "         { \"id\": 9, \"name\": \"Woah There Buckaroo\"},\n",
    "         { \"id\": 10, \"name\": \"Hol Up\"},\n",
    "         { \"id\": 11, \"name\": \"Love The Way You Lie\"}\n",
    "        ]\n",
    "print(songs)"
   ]
  },
  {
   "cell_type": "code",
   "execution_count": 3,
   "metadata": {},
   "outputs": [
    {
     "name": "stdout",
     "output_type": "stream",
     "text": [
      "[(0, 0), (1, 1), (1, 11), (2, 2), (2, 1), (3, 3), (3, 4), (3, 8), (3, 11), (4, 4), (5, 5), (5, 2), (5, 3), (6, 6), (6, 7), (7, 7), (7, 10), (8, 8), (8, 1), (8, 2), (9, 9), (9, 10), (9, 1)]\n"
     ]
    }
   ],
   "source": [
    "# List of tuples for artists songs\n",
    "artists_songs = [(0,0), \n",
    "                 (1,1), (1,11),\n",
    "                 (2,2), (2,1),\n",
    "                 (3,3), (3,4), (3,8), (3,11),\n",
    "                 (4,4), \n",
    "                 (5,5), (5,2), (5,3),\n",
    "                 (6,6), (6,7),\n",
    "                 (7,7), (7,10),\n",
    "                 (8,8), (8,1), (8, 2), \n",
    "                 (9,9), (9,10), (9, 1)\n",
    "                ]\n",
    "print(artists_songs)"
   ]
  },
  {
   "cell_type": "code",
   "execution_count": 4,
   "metadata": {},
   "outputs": [],
   "source": [
    "# who_covered Function\n",
    "def who_covered(song_name):\n",
    "    song_id_list = [i for i in songs if i[\"name\"] == song_name]\n",
    "    print(song_id_list)\n",
    "    \n",
    "    if song_id_list == []:\n",
    "        return None\n",
    "            \n",
    "    artist_song_list = [item for item in artists_songs if item[1] == song_id_list[0][\"id\"]]\n",
    "    \n",
    "    artist_list = []\n",
    "    for i in artist_song_list:\n",
    "        for j in artists:\n",
    "            if i[0] == j[\"id\"]:\n",
    "                artist_list.append(j[\"name\"])\n",
    "                \n",
    "    #artist_list = [i for i in artist_song_list if i[0] == artist[\"name\"] for artist in artists]\n",
    "    \n",
    "    return artist_list"
   ]
  },
  {
   "cell_type": "code",
   "execution_count": 5,
   "metadata": {},
   "outputs": [
    {
     "name": "stdout",
     "output_type": "stream",
     "text": [
      "Looking for Hol Up which is id 10\n",
      "[{'id': 10, 'name': 'Hol Up'}]\n",
      "['Alpha Wolf', 'Of Mice and Men']\n",
      "Looking for Rooster which is id 4\n",
      "[{'id': 4, 'name': 'Rooster'}]\n",
      "['Def Leppard', 'Polaris']\n",
      "Looking for Yeetison which is id ?\n",
      "[]\n",
      "None\n"
     ]
    }
   ],
   "source": [
    "# Tests for who_covered Function\n",
    "print(\"Looking for Hol Up which is id 10\")\n",
    "print(who_covered(\"Hol Up\"))\n",
    "print(\"Looking for Rooster which is id 4\")\n",
    "print(who_covered(\"Rooster\"))\n",
    "print(\"Looking for Yeetison which is id ?\") # Test for error\n",
    "print(who_covered(\"15\"))"
   ]
  },
  {
   "cell_type": "code",
   "execution_count": 6,
   "metadata": {},
   "outputs": [],
   "source": [
    "# shared_songs Function\n",
    "def shared_songs(artist_name):\n",
    "    artist_id_list = [i[\"id\"] for i in artists if i[\"name\"] == artist_name]\n",
    "    \n",
    "    artist_song_list = [i for i in artists_songs if i[0] == artist_id_list[0]]\n",
    "    \n",
    "    shared_song_id_list = []\n",
    "    for i in artist_song_list:\n",
    "        for j in artists_songs:\n",
    "            if i == j:\n",
    "                continue\n",
    "            if i[1] == j[1]:\n",
    "                shared_song_id_list.append(j)\n",
    "                break\n",
    "                \n",
    "    if shared_song_id_list == []:\n",
    "        return None\n",
    "    \n",
    "    shared_song_list = []\n",
    "    for i in shared_song_id_list:\n",
    "        for j in songs:\n",
    "            if j[\"id\"] == i[1]:\n",
    "                shared_song_list.append(j[\"name\"])\n",
    "    \n",
    "    return shared_song_list"
   ]
  },
  {
   "cell_type": "code",
   "execution_count": 7,
   "metadata": {},
   "outputs": [
    {
     "name": "stdout",
     "output_type": "stream",
     "text": [
      "Looking for shared songs with Bob Dylan which sang song with id 1 and 11\n",
      "[\"Don't Think Twice, It's Alright\", 'Love The Way You Lie']\n",
      "Looking for shared songs with Alpha Wolf which sang song with id 7 and 10\n",
      "['Yaga', 'Hol Up']\n",
      "Looking for shared songs with Susan Tedeschi which sang song with id 0 (they dont shared with anyone)\n",
      "None\n"
     ]
    }
   ],
   "source": [
    "# Tests for shared_songs Function\n",
    "print(\"Looking for shared songs with Bob Dylan which sang song with id 1 and 11\")\n",
    "print(shared_songs(\"Bob Dylan\"))\n",
    "print(\"Looking for shared songs with Alpha Wolf which sang song with id 7 and 10\")\n",
    "print(shared_songs(\"Alpha Wolf\"))\n",
    "print(\"Looking for shared songs with Susan Tedeschi which sang song with id 0 (they dont shared with anyone)\")\n",
    "print(shared_songs(\"Susan Tedeschi\"))"
   ]
  },
  {
   "cell_type": "code",
   "execution_count": 8,
   "metadata": {},
   "outputs": [],
   "source": [
    "# song_popularity Function\n",
    "def song_popularity():\n",
    "    song_count = {\n",
    "        0: 0,\n",
    "        1: 0,\n",
    "        2: 0,\n",
    "        3: 0,\n",
    "        4: 0,\n",
    "        5: 0,\n",
    "        6: 0,\n",
    "        7: 0,\n",
    "        8: 0,\n",
    "        9: 0,\n",
    "        10: 0,\n",
    "        11: 0\n",
    "    }\n",
    "    \n",
    "    for i in range(len(song_count)):\n",
    "        count = 0\n",
    "        for j in artists_songs:\n",
    "            if i == j[1]:\n",
    "                count += 1\n",
    "        song_count[i] = count\n",
    "    \n",
    "    song_list = []\n",
    "    for i, item in enumerate(songs):\n",
    "        song_list.append((song_count[i],item[\"name\"]))\n",
    "    \n",
    "    return sorted(song_list, reverse=True)"
   ]
  },
  {
   "cell_type": "code",
   "execution_count": 9,
   "metadata": {},
   "outputs": [
    {
     "name": "stdout",
     "output_type": "stream",
     "text": [
      "Testing song_popularity Function\n",
      "[(4, \"Don't Think Twice, It's Alright\"), (3, 'It Hurt So Bad'), (2, 'Yaga'), (2, 'Take It All'), (2, 'Simple Twist of Fate'), (2, 'Rooster'), (2, 'Love The Way You Lie'), (2, 'Hol Up'), (1, 'Yeet My Name'), (1, 'Woah There Buckaroo'), (1, 'One More'), (1, 'Angel from Montgomery')]\n"
     ]
    }
   ],
   "source": [
    "# Tests for song_popularity Function\n",
    "print(\"Testing song_popularity Function\")\n",
    "print(song_popularity())"
   ]
  },
  {
   "cell_type": "code",
   "execution_count": 10,
   "metadata": {},
   "outputs": [
    {
     "name": "stdout",
     "output_type": "stream",
     "text": [
      "[(0, 'blues'), (0, 'female lead'), (0, 'guitar'), (1, 'folk'), (1, 'guitar'), (1, 'male lead'), (2, 'hard rock'), (2, 'awesome'), (3, 'hard rock'), (3, 'pyromania'), (4, 'metalcore'), (4, 'hard'), (5, 'female'), (5, 'psychadelic'), (6, 'australian'), (6, 'metalcore'), (7, 'australian'), (7, 'metalcore'), (8, 'punk'), (8, 'metal'), (9, 'metalcore'), (9, 'multiple singers')]\n"
     ]
    }
   ],
   "source": [
    "# Keyword Tuples\n",
    "keywords = [\n",
    "    (0, \"blues\"), (0, \"female lead\"), (0, \"guitar\"),\n",
    "    (1, \"folk\"), (1, \"guitar\"), (1, \"male lead\"),\n",
    "    (2, \"hard rock\"), (2, \"awesome\"),\n",
    "    (3, \"hard rock\"), (3, \"pyromania\"),\n",
    "    (4, \"metalcore\"), (4, \"hard\"),\n",
    "    (5, \"female\"), (5, \"psychadelic\"),\n",
    "    (6, \"australian\"), (6, \"metalcore\"),\n",
    "    (7, \"australian\"), (7, \"metalcore\"),\n",
    "    (8, \"punk\"), (8, \"metal\"),\n",
    "    (9, \"metalcore\"), (9, \"multiple singers\")\n",
    "]\n",
    "print(keywords)"
   ]
  },
  {
   "cell_type": "code",
   "execution_count": 23,
   "metadata": {},
   "outputs": [],
   "source": [
    "# similar_artists Function\n",
    "def similar_artists(artist_name):\n",
    "    artist_id_list = [i[\"id\"] for i in artists if i[\"name\"] == artist_name]\n",
    "    \n",
    "    if (artist_id_list == []):\n",
    "        return None\n",
    "    \n",
    "    artist_keywords = [i[1] for i in keywords if i[0] == artist_id_list[0]]\n",
    "    \n",
    "    similar_artist_id = []\n",
    "    for i in artist_keywords:\n",
    "        for j in keywords:\n",
    "            if j[0] == artist_id_list[0]:\n",
    "                continue\n",
    "            if j[0] in similar_artist_id:\n",
    "                continue\n",
    "            if i == j[1]:\n",
    "                similar_artist_id.append(j[0])\n",
    "    \n",
    "    if similar_artist_id == []:\n",
    "        return None\n",
    "    \n",
    "    similar_artist_names = []\n",
    "    for i in similar_artist_id:\n",
    "        for j in artists:\n",
    "            if i == j[\"id\"]:\n",
    "                similar_artist_names.append(j[\"name\"])\n",
    "                \n",
    "    return similar_artist_names"
   ]
  },
  {
   "cell_type": "code",
   "execution_count": 27,
   "metadata": {},
   "outputs": [
    {
     "name": "stdout",
     "output_type": "stream",
     "text": [
      "Testing similar_artists Function\n",
      "Testing with band Alpha Wolf\n",
      "['Dealer', 'Polaris', 'Of Mice and Men']\n",
      "Testing with band Def Leppard\n",
      "['Motley Crue']\n",
      "Testing with Beartooth, who does not share any keywords with any other band\n",
      "None\n"
     ]
    }
   ],
   "source": [
    "print(\"Testing similar_artists Function\")\n",
    "print(\"Testing with band Alpha Wolf\")\n",
    "print(similar_artists(\"Alpha Wolf\"))\n",
    "print(\"Testing with band Def Leppard\")\n",
    "print(similar_artists(\"Def Leppard\"))\n",
    "print(\"Testing with Beartooth, who does not share any keywords with any other band\")\n",
    "print(similar_artists(\"Beartooth\"))"
   ]
  },
  {
   "cell_type": "raw",
   "metadata": {},
   "source": [
    "How can we visualize the “type” of each song? What styles and what types of\n",
    "artists tend to play each song?\n",
    "\n",
    "We can visualize the type of each song by using a pie chart or some kind of bar graph. \n",
    "This can be helpful because we need a way to assign a \"tag\" to each keyword or style for each\n",
    "band. So we could use that as our x-axis value and then each band that is part of that keyword\n",
    "can be tallied in the graph. The other great way to visualize it would be a pie chart. The pie chart\n",
    "can be used to divide up that data and assign bands to specific keyword tags. "
   ]
  },
  {
   "cell_type": "raw",
   "metadata": {},
   "source": [
    "For a specific example, what visualization can answer the question:\n",
    "What style of song is “Simple Twist of Fate”? Does it have a style or does it\n",
    "“defy genre”?\n",
    "\n",
    "Some visualization that could answer this question would be a pie chart. You could title the\n",
    "pie chart as the song title and then let the slices be the various voted on keywords. This could\n",
    "be a good way to understand what people believe the song most generally stylizes with. You would\n",
    "be able to see if it defies genre if there are a lot of genre keywords that are close together in \n",
    "size. This would be an easy way to visualize this."
   ]
  },
  {
   "cell_type": "raw",
   "metadata": {},
   "source": [
    "Write down some (any that you can think of) visualization strategy to answer this question. Can you\n",
    "use line/bar charts to illustrate? Can you use positional data (points), and what might the axes look\n",
    "like? Are there other “non-standard” charting methods you can think of?\n",
    "\n",
    "1. Bar Graph\n",
    "2. Pie Chart\n",
    "3. Web\n",
    "4. Scatter Plot\n",
    "\n",
    "When it comes to classifying the song titles with keywords, points would be pretty hard to translate.\n",
    "You could use some type of scatter plot to see what song are doing better than others in terms of\n",
    "popularity. You could also use a scatter plot for comparing various singers and their songs against\n",
    "each other. For the most part, a pie chart or bar graph could be used to gain rank data on how popular\n",
    "songs are and how many people are searching up specific keywords and such. The one non-standardized charting\n",
    "method I can think of is bringing it back to the web. You could use a web and convert it into some sort of\n",
    "tree structure. You can have different songs and artists that are connected to each other by branches. The more \n",
    "branches one artist has the more \"seasoned\" they may be. Also, you could use the tree too look n nodes away to see\n",
    "what people or songs are related to the keyword that you are searching for."
   ]
  },
  {
   "cell_type": "raw",
   "metadata": {},
   "source": [
    "(a) Sketch by hand or digitally an example of your idea, using the data you entered above\n",
    "(b) Investigate how you might get Python to automate the production of your idea. What libraries\n",
    "can you find that might be useful?\n",
    "(c) Finally, write down one strategy to try answering the above questions about song-style quantitatively. Why? If you’re, say, Spotify, then you would probably like a way to appease a user who\n",
    "says: “I like classic rock that uses lots of keyboard and slow rythm”!"
   ]
  },
  {
   "cell_type": "raw",
   "metadata": {},
   "source": [
    "(a) In word document (People rating songs, the pie chart represents popularity of a song)"
   ]
  },
  {
   "cell_type": "raw",
   "metadata": {},
   "source": [
    "(b) I am sure that matplotplib and pyplot would be good to use. They have a lot of graphing \n",
    "functions and abilities. "
   ]
  },
  {
   "cell_type": "raw",
   "metadata": {},
   "source": [
    "(c) My strategy would be getting ratings for each song. They do this normally on youtube and any other music\n",
    "streaming app. They get you to rate the music or subscribe. The number of subscriptions and high rating are then \n",
    "compared to each other in order to make conclusions on what is popular right now. They probably use some sort of tree\n",
    "in order to link the keywords of songs together. This would be a complicated process but one that has definitely been done\n",
    "one way or another. You would need a lot of data to get broad amount of good analytics but with the amount of people that listen\n",
    "to these services that would be no problem at all."
   ]
  },
  {
   "cell_type": "code",
   "execution_count": null,
   "metadata": {},
   "outputs": [],
   "source": []
  }
 ],
 "metadata": {
  "kernelspec": {
   "display_name": "Python 3",
   "language": "python",
   "name": "python3"
  },
  "language_info": {
   "codemirror_mode": {
    "name": "ipython",
    "version": 3
   },
   "file_extension": ".py",
   "mimetype": "text/x-python",
   "name": "python",
   "nbconvert_exporter": "python",
   "pygments_lexer": "ipython3",
   "version": "3.6.7"
  }
 },
 "nbformat": 4,
 "nbformat_minor": 2
}
