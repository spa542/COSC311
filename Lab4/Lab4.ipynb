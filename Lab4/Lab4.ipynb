{
 "cells": [
  {
   "cell_type": "markdown",
   "metadata": {},
   "source": [
    "# Lab 4\n",
    "\n",
    "Author: Ryan Rosiak [rrosiak1@gulls.salisbury.edu]\n",
    "\n",
    "Date: 10/15/20\n",
    "\n",
    "Description: Continuing to work with the adult data set mixed with probability"
   ]
  },
  {
   "cell_type": "code",
   "execution_count": 2,
   "metadata": {},
   "outputs": [],
   "source": [
    "import pandas as pd # Pandas library\n",
    "import numpy as np # Numpy library\n",
    "import matplotlib.pyplot as plt # Matplotlib library for plotting"
   ]
  },
  {
   "cell_type": "code",
   "execution_count": 3,
   "metadata": {},
   "outputs": [
    {
     "data": {
      "text/html": [
       "<div>\n",
       "<style scoped>\n",
       "    .dataframe tbody tr th:only-of-type {\n",
       "        vertical-align: middle;\n",
       "    }\n",
       "\n",
       "    .dataframe tbody tr th {\n",
       "        vertical-align: top;\n",
       "    }\n",
       "\n",
       "    .dataframe thead th {\n",
       "        text-align: right;\n",
       "    }\n",
       "</style>\n",
       "<table border=\"1\" class=\"dataframe\">\n",
       "  <thead>\n",
       "    <tr style=\"text-align: right;\">\n",
       "      <th></th>\n",
       "      <th>age</th>\n",
       "      <th>workclass</th>\n",
       "      <th>fnlwgt</th>\n",
       "      <th>education</th>\n",
       "      <th>education-num</th>\n",
       "      <th>marital-status</th>\n",
       "      <th>occupation</th>\n",
       "      <th>relationship</th>\n",
       "      <th>race</th>\n",
       "      <th>sex</th>\n",
       "      <th>capital_gain</th>\n",
       "      <th>capital_loss</th>\n",
       "      <th>hr_per_week</th>\n",
       "      <th>country</th>\n",
       "      <th>income</th>\n",
       "    </tr>\n",
       "  </thead>\n",
       "  <tbody>\n",
       "    <tr>\n",
       "      <th>0</th>\n",
       "      <td>39</td>\n",
       "      <td>State-gov</td>\n",
       "      <td>77516</td>\n",
       "      <td>Bachelors</td>\n",
       "      <td>13</td>\n",
       "      <td>Never-married</td>\n",
       "      <td>Adm-clerical</td>\n",
       "      <td>Not-in-family</td>\n",
       "      <td>White</td>\n",
       "      <td>Male</td>\n",
       "      <td>2174</td>\n",
       "      <td>0</td>\n",
       "      <td>40</td>\n",
       "      <td>United-States</td>\n",
       "      <td>&lt;=50K</td>\n",
       "    </tr>\n",
       "    <tr>\n",
       "      <th>1</th>\n",
       "      <td>50</td>\n",
       "      <td>Self-emp-not-inc</td>\n",
       "      <td>83311</td>\n",
       "      <td>Bachelors</td>\n",
       "      <td>13</td>\n",
       "      <td>Married-civ-spouse</td>\n",
       "      <td>Exec-managerial</td>\n",
       "      <td>Husband</td>\n",
       "      <td>White</td>\n",
       "      <td>Male</td>\n",
       "      <td>0</td>\n",
       "      <td>0</td>\n",
       "      <td>13</td>\n",
       "      <td>United-States</td>\n",
       "      <td>&lt;=50K</td>\n",
       "    </tr>\n",
       "    <tr>\n",
       "      <th>2</th>\n",
       "      <td>38</td>\n",
       "      <td>Private</td>\n",
       "      <td>215646</td>\n",
       "      <td>HS-grad</td>\n",
       "      <td>9</td>\n",
       "      <td>Divorced</td>\n",
       "      <td>Handlers-cleaners</td>\n",
       "      <td>Not-in-family</td>\n",
       "      <td>White</td>\n",
       "      <td>Male</td>\n",
       "      <td>0</td>\n",
       "      <td>0</td>\n",
       "      <td>40</td>\n",
       "      <td>United-States</td>\n",
       "      <td>&lt;=50K</td>\n",
       "    </tr>\n",
       "    <tr>\n",
       "      <th>3</th>\n",
       "      <td>53</td>\n",
       "      <td>Private</td>\n",
       "      <td>234721</td>\n",
       "      <td>11th</td>\n",
       "      <td>7</td>\n",
       "      <td>Married-civ-spouse</td>\n",
       "      <td>Handlers-cleaners</td>\n",
       "      <td>Husband</td>\n",
       "      <td>Black</td>\n",
       "      <td>Male</td>\n",
       "      <td>0</td>\n",
       "      <td>0</td>\n",
       "      <td>40</td>\n",
       "      <td>United-States</td>\n",
       "      <td>&lt;=50K</td>\n",
       "    </tr>\n",
       "    <tr>\n",
       "      <th>4</th>\n",
       "      <td>28</td>\n",
       "      <td>Private</td>\n",
       "      <td>338409</td>\n",
       "      <td>Bachelors</td>\n",
       "      <td>13</td>\n",
       "      <td>Married-civ-spouse</td>\n",
       "      <td>Prof-specialty</td>\n",
       "      <td>Wife</td>\n",
       "      <td>Black</td>\n",
       "      <td>Female</td>\n",
       "      <td>0</td>\n",
       "      <td>0</td>\n",
       "      <td>40</td>\n",
       "      <td>Cuba</td>\n",
       "      <td>&lt;=50K</td>\n",
       "    </tr>\n",
       "  </tbody>\n",
       "</table>\n",
       "</div>"
      ],
      "text/plain": [
       "   age         workclass  fnlwgt  education  education-num  \\\n",
       "0   39         State-gov   77516  Bachelors             13   \n",
       "1   50  Self-emp-not-inc   83311  Bachelors             13   \n",
       "2   38           Private  215646    HS-grad              9   \n",
       "3   53           Private  234721       11th              7   \n",
       "4   28           Private  338409  Bachelors             13   \n",
       "\n",
       "       marital-status         occupation   relationship   race     sex  \\\n",
       "0       Never-married       Adm-clerical  Not-in-family  White    Male   \n",
       "1  Married-civ-spouse    Exec-managerial        Husband  White    Male   \n",
       "2            Divorced  Handlers-cleaners  Not-in-family  White    Male   \n",
       "3  Married-civ-spouse  Handlers-cleaners        Husband  Black    Male   \n",
       "4  Married-civ-spouse     Prof-specialty           Wife  Black  Female   \n",
       "\n",
       "   capital_gain  capital_loss  hr_per_week        country income  \n",
       "0          2174             0           40  United-States  <=50K  \n",
       "1             0             0           13  United-States  <=50K  \n",
       "2             0             0           40  United-States  <=50K  \n",
       "3             0             0           40  United-States  <=50K  \n",
       "4             0             0           40           Cuba  <=50K  "
      ]
     },
     "execution_count": 3,
     "metadata": {},
     "output_type": "execute_result"
    }
   ],
   "source": [
    "# Parse the file\n",
    "adult_data = pd.read_csv('./adult.data',\n",
    "                      header=None,\n",
    "                      skipinitialspace=True,\n",
    "                      names=['age', 'workclass', 'fnlwgt', 'education',\n",
    "                             'education-num', 'marital-status', \n",
    "                             'occupation', 'relationship', 'race',\n",
    "                             'sex', 'capital_gain', 'capital_loss',\n",
    "                             'hr_per_week', 'country', 'income'\n",
    "                            ]\n",
    "                     )\n",
    "adult_data.head() # Printing the first couple sets of data"
   ]
  },
  {
   "cell_type": "code",
   "execution_count": 4,
   "metadata": {},
   "outputs": [
    {
     "data": {
      "text/html": [
       "<div>\n",
       "<style scoped>\n",
       "    .dataframe tbody tr th:only-of-type {\n",
       "        vertical-align: middle;\n",
       "    }\n",
       "\n",
       "    .dataframe tbody tr th {\n",
       "        vertical-align: top;\n",
       "    }\n",
       "\n",
       "    .dataframe thead th {\n",
       "        text-align: right;\n",
       "    }\n",
       "</style>\n",
       "<table border=\"1\" class=\"dataframe\">\n",
       "  <thead>\n",
       "    <tr style=\"text-align: right;\">\n",
       "      <th></th>\n",
       "      <th>education-num</th>\n",
       "    </tr>\n",
       "  </thead>\n",
       "  <tbody>\n",
       "    <tr>\n",
       "      <th>count</th>\n",
       "      <td>32561.000000</td>\n",
       "    </tr>\n",
       "    <tr>\n",
       "      <th>mean</th>\n",
       "      <td>10.080679</td>\n",
       "    </tr>\n",
       "    <tr>\n",
       "      <th>std</th>\n",
       "      <td>2.572720</td>\n",
       "    </tr>\n",
       "    <tr>\n",
       "      <th>min</th>\n",
       "      <td>1.000000</td>\n",
       "    </tr>\n",
       "    <tr>\n",
       "      <th>25%</th>\n",
       "      <td>9.000000</td>\n",
       "    </tr>\n",
       "    <tr>\n",
       "      <th>50%</th>\n",
       "      <td>10.000000</td>\n",
       "    </tr>\n",
       "    <tr>\n",
       "      <th>75%</th>\n",
       "      <td>12.000000</td>\n",
       "    </tr>\n",
       "    <tr>\n",
       "      <th>max</th>\n",
       "      <td>16.000000</td>\n",
       "    </tr>\n",
       "  </tbody>\n",
       "</table>\n",
       "</div>"
      ],
      "text/plain": [
       "       education-num\n",
       "count   32561.000000\n",
       "mean       10.080679\n",
       "std         2.572720\n",
       "min         1.000000\n",
       "25%         9.000000\n",
       "50%        10.000000\n",
       "75%        12.000000\n",
       "max        16.000000"
      ]
     },
     "execution_count": 4,
     "metadata": {},
     "output_type": "execute_result"
    }
   ],
   "source": [
    "# Part b\n",
    "# i.\n",
    "ed_col = adult_data[['education-num']]\n",
    "# the 25th, 50th, and 75th percentile of education-num is shown below\n",
    "ed_col.describe()"
   ]
  },
  {
   "cell_type": "code",
   "execution_count": 5,
   "metadata": {},
   "outputs": [
    {
     "name": "stdout",
     "output_type": "stream",
     "text": [
      "P(>50K | first quartile of education-num) = \n",
      "income    0.065033\n",
      "dtype: float64\n",
      "P(>50K | second quartile of education-num) = \n",
      "income    0.08605\n",
      "dtype: float64\n",
      "P(>50K | third quartile of education-num) = \n",
      "income    0.103337\n",
      "dtype: float64\n"
     ]
    }
   ],
   "source": [
    "# ii.\n",
    "# What is the probability that an adult makes more than $50K given that there education nums are given by the above quartiles?\n",
    "# first quartile? ** REMEMBER # of >50K and in the first quartile / # of first quartile ====> The N cancels!!!! So now we can just divide the count by the count\n",
    "prob_data = adult_data[['education-num', 'income']]\n",
    "print(\"P(>50K | first quartile of education-num) = \")\n",
    "print(prob_data[(prob_data['income'] == '>50K') & (prob_data['education-num'] >= 1) & (prob_data['education-num'] <= 9)].groupby(by='education-num').count().sum() \\\n",
    "                                                     / prob_data[(prob_data['education-num'] >= 1) & (prob_data['education-num'] <= 9)].count().sum())\n",
    "# second quartile?\n",
    "print(\"P(>50K | second quartile of education-num) = \")\n",
    "print(prob_data[(prob_data['income'] == '>50K') & (prob_data['education-num'] >= 9) & (prob_data['education-num'] <= 10)].groupby(by='education-num').count().sum() \\\n",
    "                                                     / prob_data[(prob_data['education-num'] >= 9) & (prob_data['education-num'] <= 10)].count().sum())\n",
    "# third quartile?\n",
    "print(\"P(>50K | third quartile of education-num) = \")\n",
    "print(prob_data[(prob_data['income'] == '>50K') & (prob_data['education-num'] >= 10) & (prob_data['education-num'] <= 12)].groupby(by='education-num').count().sum() \\\n",
    "                                                     / prob_data[(prob_data['education-num'] >= 10) & (prob_data['education-num'] <= 12)].count().sum())"
   ]
  },
  {
   "cell_type": "code",
   "execution_count": 66,
   "metadata": {},
   "outputs": [
    {
     "data": {
      "image/png": "[encoded data removed]",
      "text/plain": [
       "<Figure size 432x288 with 1 Axes>"
      ]
     },
     "metadata": {
      "needs_background": "light"
     },
     "output_type": "display_data"
    },
    {
     "data": {
      "image/png": "[encoded data removed]",
      "text/plain": [
       "<Figure size 432x288 with 1 Axes>"
      ]
     },
     "metadata": {
      "needs_background": "light"
     },
     "output_type": "display_data"
    }
   ],
   "source": [
    "# iii.\n",
    "# Plot the change in probability that a person makes more and less than $50K given their years of education\n",
    "plot_prob_data = adult_data[['education-num', 'income']]\n",
    "greater_data = plot_prob_data[plot_prob_data['income'] == '>50K']\n",
    "plot_intersection = greater_data.groupby(by='education-num').count()\n",
    "ed_data = plot_prob_data.groupby(by='education-num').count()\n",
    "plot_intersection = plot_intersection.reset_index()\n",
    "ed_data = ed_data.reset_index()\n",
    "top = [i[1]['income'] for i in plot_intersection.iterrows()]\n",
    "bottom = [i[1]['income'] for i in ed_data.iterrows()]\n",
    "top.insert(0,0)\n",
    "y_values = [i / j for i,j in zip(top, bottom)]\n",
    "x_values = [i for i in range(0, 16)]\n",
    "\n",
    "plt.plot(x_values, y_values)\n",
    "plt.title('Change in Probability >50K given various years of education')\n",
    "plt.xlabel('Years of Education')\n",
    "plt.ylabel('Probability of making >50K')\n",
    "plt.show()\n",
    "\n",
    "plot_prob_data = adult_data[['education-num', 'income']]\n",
    "lesser_data = plot_prob_data[plot_prob_data['income'] == '<=50K']\n",
    "plot_intersection = lesser_data.groupby(by='education-num').count()\n",
    "ed_data = plot_prob_data.groupby(by='education-num').count()\n",
    "plot_intersection = plot_intersection.reset_index()\n",
    "ed_data = ed_data.reset_index()\n",
    "top = [i[1]['income'] for i in plot_intersection.iterrows()]\n",
    "bottom = [i[1]['income'] for i in ed_data.iterrows()]\n",
    "y_values = [i / j for i,j in zip(top, bottom)]\n",
    "x_values = [i for i in range(0, 16)]\n",
    "\n",
    "plt.plot(x_values, y_values)\n",
    "plt.title('Change in Probability <=50K given various years of education')\n",
    "plt.xlabel('Years of Education')\n",
    "plt.ylabel('Probability of making <=50K')\n",
    "plt.show()"
   ]
  },
  {
   "cell_type": "code",
   "execution_count": 12,
   "metadata": {},
   "outputs": [],
   "source": [
    "# iv. \n",
    "# What is the covariance between the number of hours worked per week and education-num?\n"
   ]
  },
  {
   "cell_type": "code",
   "execution_count": 43,
   "metadata": {},
   "outputs": [
    {
     "data": {
      "text/plain": [
       "<matplotlib.axes._subplots.AxesSubplot at 0x7f58b11be470>"
      ]
     },
     "execution_count": 43,
     "metadata": {},
     "output_type": "execute_result"
    },
    {
     "data": {
      "image/png": "[encoded data removed]",
      "text/plain": [
       "<Figure size 432x288 with 1 Axes>"
      ]
     },
     "metadata": {
      "needs_background": "light"
     },
     "output_type": "display_data"
    }
   ],
   "source": [
    "# v. \n",
    "# Use the pandas.DataFrame.boxplot functionality to create a box-and-whisker plot which illustrates the spread of hours worked among adults who make both more and less than $50k.\n",
    "plot_greater = adult_data[['hr_per_week', 'income']]\n",
    "plot_greater = plot_greater[plot_greater['income'] == '>50K']\n",
    "plot_greater = plot_greater.groupby(by='hr_per_week').count()\n",
    "plot_greater.boxplot()\n",
    "plot_lesser = adult_data[['hr_per_week', 'income']]\n",
    "plot_lesser = plot_lesser[plot_lesser['income'] == '<=50K'].groupby(by='hr_per_week').count()\n",
    "plot_lesser.boxplot()"
   ]
  },
  {
   "cell_type": "code",
   "execution_count": 59,
   "metadata": {},
   "outputs": [
    {
     "name": "stdout",
     "output_type": "stream",
     "text": [
      "                    hr_per_week     income\n",
      "country                                   \n",
      "?                     47.684211   7.684211\n",
      "Cambodia              40.000000   7.000000\n",
      "Canada                47.058824   2.294118\n",
      "China                 36.666667   2.222222\n",
      "Columbia              50.000000   2.000000\n",
      "Cuba                  36.777778   2.777778\n",
      "Dominican-Republic    47.000000   1.000000\n",
      "Ecuador               47.500000   2.000000\n",
      "El-Salvador           45.000000   1.800000\n",
      "England               47.583333   2.500000\n",
      "France                58.800000   2.400000\n",
      "Germany               39.400000   4.400000\n",
      "Greece                50.000000   1.600000\n",
      "Guatemala             35.000000   1.500000\n",
      "Haiti                 43.666667   1.333333\n",
      "Honduras              60.000000   1.000000\n",
      "Hong                  50.000000   2.000000\n",
      "Hungary               50.000000   1.000000\n",
      "India                 50.818182   3.636364\n",
      "Iran                  50.833333   3.000000\n",
      "Ireland               50.000000   2.500000\n",
      "Italy                 48.125000   3.125000\n",
      "Jamaica               40.750000   2.500000\n",
      "Japan                 54.100000   2.400000\n",
      "Laos                  40.000000   2.000000\n",
      "Mexico                51.833333   2.750000\n",
      "Nicaragua             37.500000   1.000000\n",
      "Peru                  40.000000   2.000000\n",
      "Philippines           53.272727   5.545455\n",
      "Poland                37.000000   3.000000\n",
      "Portugal              42.000000   1.333333\n",
      "Puerto-Rico           33.250000   3.000000\n",
      "Scotland              50.000000   1.500000\n",
      "South                 50.500000   2.666667\n",
      "Taiwan                52.625000   2.500000\n",
      "Thailand              62.500000   1.500000\n",
      "Trinadad&Tobago       40.000000   2.000000\n",
      "United-States         45.468354  90.772152\n",
      "Vietnam               38.000000   2.500000\n",
      "Yugoslavia            54.250000   1.500000\n"
     ]
    },
    {
     "data": {
      "text/plain": [
       "<matplotlib.axes._subplots.AxesSubplot at 0x7f58b155d4e0>"
      ]
     },
     "execution_count": 59,
     "metadata": {},
     "output_type": "execute_result"
    },
    {
     "data": {
      "image/png": "[encoded data removed]",
      "text/plain": [
       "<Figure size 432x288 with 1 Axes>"
      ]
     },
     "metadata": {
      "needs_background": "light"
     },
     "output_type": "display_data"
    }
   ],
   "source": [
    "# vi. \n",
    "# Use the pandas.DataFrame.boxplot functionality to create a box-and-whisker plot which illustrates the spread of hours worked among adults from each native country and who make\n",
    "# more and less than $50k.\n",
    "plot_greater = adult_data[['hr_per_week', 'country', 'income']]\n",
    "plot_greater = plot_greater[plot_greater['income'] == '>50K'].groupby(by=['country', 'hr_per_week']).count().reset_index().groupby(by='country').mean()\n",
    "print(plot_greater)\n",
    "plot_greater[['hr_per_week']].boxplot()"
   ]
  },
  {
   "cell_type": "code",
   "execution_count": 60,
   "metadata": {},
   "outputs": [],
   "source": [
    "# vii. \n",
    "# Create a table where entry (x, y) contains the conditional probability P(A random adult has level of education x|they have level of education y).\n"
   ]
  },
  {
   "cell_type": "code",
   "execution_count": 61,
   "metadata": {},
   "outputs": [],
   "source": [
    "# viii. Create a table where entry (x, y) contains the conditional probability of having marital status\n",
    "# x given that they have occupation y.\n"
   ]
  },
  {
   "cell_type": "code",
   "execution_count": 67,
   "metadata": {},
   "outputs": [],
   "source": [
    "# ix. What is the conditional probability of making more or less than $50k given that a person\n",
    "# works in each different occupation?\n"
   ]
  },
  {
   "cell_type": "code",
   "execution_count": 68,
   "metadata": {},
   "outputs": [],
   "source": [
    "# x. Plot the change in probability that a person makes more and less than $50k given the amount that they work per week."
   ]
  },
  {
   "cell_type": "code",
   "execution_count": null,
   "metadata": {},
   "outputs": [],
   "source": []
  }
 ],
 "metadata": {
  "kernelspec": {
   "display_name": "Python 3",
   "language": "python",
   "name": "python3"
  },
  "language_info": {
   "codemirror_mode": {
    "name": "ipython",
    "version": 3
   },
   "file_extension": ".py",
   "mimetype": "text/x-python",
   "name": "python",
   "nbconvert_exporter": "python",
   "pygments_lexer": "ipython3",
   "version": "3.6.7"
  }
 },
 "nbformat": 4,
 "nbformat_minor": 2
}
