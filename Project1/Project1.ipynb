{
 "cells": [
  {
   "cell_type": "markdown",
   "metadata": {},
   "source": [
    "# Project 1\n",
    "\n",
    "Author: Ryan Rosiak [rrosiak1@gulls.salisbury.edu] and Grant Dawson [gdawson1@gulls.salisbury.edu]\n",
    "\n",
    "Date: 10/15/20\n",
    "\n",
    "Description: Continuing to work with the adult data set mixed with probability"
   ]
  },
  {
   "cell_type": "code",
   "execution_count": 1,
   "metadata": {},
   "outputs": [],
   "source": [
    "import pandas as pd # Pandas library\n",
    "import numpy as np # Numpy library\n",
    "import matplotlib.pyplot as plt # Matplotlib library"
   ]
  },
  {
   "cell_type": "markdown",
   "metadata": {},
   "source": [
    "# Dataset 1: The Grocery Dataset"
   ]
  },
  {
   "cell_type": "code",
   "execution_count": 2,
   "metadata": {},
   "outputs": [
    {
     "data": {
      "text/html": [
       "<div>\n",
       "<style scoped>\n",
       "    .dataframe tbody tr th:only-of-type {\n",
       "        vertical-align: middle;\n",
       "    }\n",
       "\n",
       "    .dataframe tbody tr th {\n",
       "        vertical-align: top;\n",
       "    }\n",
       "\n",
       "    .dataframe thead th {\n",
       "        text-align: right;\n",
       "    }\n",
       "</style>\n",
       "<table border=\"1\" class=\"dataframe\">\n",
       "  <thead>\n",
       "    <tr style=\"text-align: right;\">\n",
       "      <th></th>\n",
       "      <th>Member_number</th>\n",
       "      <th>Date</th>\n",
       "      <th>itemDescription</th>\n",
       "    </tr>\n",
       "  </thead>\n",
       "  <tbody>\n",
       "    <tr>\n",
       "      <th>0</th>\n",
       "      <td>2552</td>\n",
       "      <td>05-01-2015</td>\n",
       "      <td>whole milk</td>\n",
       "    </tr>\n",
       "    <tr>\n",
       "      <th>1</th>\n",
       "      <td>2300</td>\n",
       "      <td>19-09-2015</td>\n",
       "      <td>pip fruit</td>\n",
       "    </tr>\n",
       "    <tr>\n",
       "      <th>2</th>\n",
       "      <td>1187</td>\n",
       "      <td>12-12-2015</td>\n",
       "      <td>other vegetables</td>\n",
       "    </tr>\n",
       "    <tr>\n",
       "      <th>3</th>\n",
       "      <td>3037</td>\n",
       "      <td>01-02-2015</td>\n",
       "      <td>whole milk</td>\n",
       "    </tr>\n",
       "    <tr>\n",
       "      <th>4</th>\n",
       "      <td>4941</td>\n",
       "      <td>14-02-2015</td>\n",
       "      <td>rolls/buns</td>\n",
       "    </tr>\n",
       "    <tr>\n",
       "      <th>5</th>\n",
       "      <td>4501</td>\n",
       "      <td>08-05-2015</td>\n",
       "      <td>other vegetables</td>\n",
       "    </tr>\n",
       "    <tr>\n",
       "      <th>6</th>\n",
       "      <td>3803</td>\n",
       "      <td>23-12-2015</td>\n",
       "      <td>pot plants</td>\n",
       "    </tr>\n",
       "    <tr>\n",
       "      <th>7</th>\n",
       "      <td>2762</td>\n",
       "      <td>20-03-2015</td>\n",
       "      <td>whole milk</td>\n",
       "    </tr>\n",
       "    <tr>\n",
       "      <th>8</th>\n",
       "      <td>4119</td>\n",
       "      <td>12-02-2015</td>\n",
       "      <td>tropical fruit</td>\n",
       "    </tr>\n",
       "    <tr>\n",
       "      <th>9</th>\n",
       "      <td>1340</td>\n",
       "      <td>24-02-2015</td>\n",
       "      <td>citrus fruit</td>\n",
       "    </tr>\n",
       "  </tbody>\n",
       "</table>\n",
       "</div>"
      ],
      "text/plain": [
       "   Member_number        Date   itemDescription\n",
       "0           2552  05-01-2015        whole milk\n",
       "1           2300  19-09-2015         pip fruit\n",
       "2           1187  12-12-2015  other vegetables\n",
       "3           3037  01-02-2015        whole milk\n",
       "4           4941  14-02-2015        rolls/buns\n",
       "5           4501  08-05-2015  other vegetables\n",
       "6           3803  23-12-2015        pot plants\n",
       "7           2762  20-03-2015        whole milk\n",
       "8           4119  12-02-2015    tropical fruit\n",
       "9           1340  24-02-2015      citrus fruit"
      ]
     },
     "execution_count": 2,
     "metadata": {},
     "output_type": "execute_result"
    }
   ],
   "source": [
    "grocery_data = pd.read_csv('./GroceryDataset/Groceries_dataset.csv',\n",
    "                          header=1,\n",
    "                          skipinitialspace=False,\n",
    "                          names=['Member_number', 'Date', 'itemDescription'])\n",
    "grocery_data.head(10)"
   ]
  },
  {
   "cell_type": "markdown",
   "metadata": {},
   "source": [
    "# What type of population is being sampled? What are the “things” getting measured – usually one per row of data."
   ]
  },
  {
   "cell_type": "markdown",
   "metadata": {},
   "source": [
    "The population of the data set is 38765 purchase orders of people from various grocery stores around the U.S. The \"things\" that are getting measured are the frequency of the most popular item of common grocery store orders. We can look at time trends of when certain items are being bought throughout each year as well as what items seem to be bought more than others. "
   ]
  },
  {
   "cell_type": "markdown",
   "metadata": {},
   "source": [
    "# What features does each sample have, i.e. what is being measured?"
   ]
  },
  {
   "cell_type": "markdown",
   "metadata": {},
   "source": [
    "There are three features to each sample. The first feature is the Member_number which is the id associated with the receipt of each order by various members of each grocery store. The second feature is the Date which is the date of each purchase order. The third feature that is being measured is the itemDescription which is the name of the most popular (largest amount) item from each recorded purchase order. "
   ]
  },
  {
   "cell_type": "markdown",
   "metadata": {},
   "source": [
    "# Are the features quantitative or qualitative? Ordinal or nominal? Continuous or discrete?"
   ]
  },
  {
   "cell_type": "markdown",
   "metadata": {},
   "source": [
    "The features that are being measured are quantitative and qualitative. Member_number and the date are quantitive data because they are recorded numberic data. The itemDescription is qualitative becuase it is non-numeric and provides a classification rather than a number to represent it. The itemDescription is nominal because the data represented is categorical and qualitative. The Date is interval data because it is numeric data that is on a scale. There is no absolute zero because time is continuous. The Member_number is ordinal data because it is numeric but the values do not hold any real weight to them. One number is not \"greater\" than another, it is simply a way of ordering what member has what id. Lastly, itemDescription is discrete because it is nominal categorical finite data. The Member_number is discrete because they are finite whole numeric numbers that represent a categorical ordering rather than a continuous number system. Lastly, the Date is continuous data because time is continuous and the data is not finite. It can be considered discrete because the Date is a set value rather than written down to the exact second, but overall, recorded time is continuous data."
   ]
  },
  {
   "cell_type": "markdown",
   "metadata": {},
   "source": [
    "# Is the data “complete” or do some of the samples have null or absent values for certain features? Why are these samples still useful? Why are they incomplete?"
   ]
  },
  {
   "cell_type": "markdown",
   "metadata": {},
   "source": [
    "The data that is given is complete. There are no null values because in order for someone to complete a purchase, they have to have purchased at least one item, creating the value for itemDescription and they will be buying and item at some point in time of the day filling the Date attribute, and finally they will always have a Member_number associated with their order."
   ]
  },
  {
   "cell_type": "markdown",
   "metadata": {},
   "source": [
    "# Why are these features chosen to be part of the dataset?"
   ]
  },
  {
   "cell_type": "markdown",
   "metadata": {},
   "source": [
    "These features are chosen to be apart of the dataset because we simply want to look at purchase trends for specific items in peoples grocery basket. We want the Member_number as metadata for each purchase, while we want the Date in order to create time trends for the amount of certain items being purchased at various times of the year or just trends in purchases of certain items between different years altogether. Lastly, the item description is needed because we need to know what items are being purchased the most frequently. This is the feature that allows us to examine trends and see differences from purchase to purchase."
   ]
  },
  {
   "cell_type": "markdown",
   "metadata": {},
   "source": [
    "# What are some other features that are not included but that you think might make sense to include for this dataset?"
   ]
  },
  {
   "cell_type": "markdown",
   "metadata": {},
   "source": [
    "I believe that some useful features that are not included could be all of the other items that were purchased within the order. This could help us figure out if there are trends from member to member and multiple items that are trending between all of the purchases rather than just one. Some items could get left out when a trend could clearly be there. Another useful feature could be the specific grocery store in the U.S. that this purchase order is from. This can be used to examine trends in sales from store to store as well as trends from region to region during various times of the year or from year to year in general."
   ]
  },
  {
   "cell_type": "markdown",
   "metadata": {},
   "source": [
    "# Give at least one way that you can pivot the dataset to get a slightly different representation of some values. Explain what this is and how you would use it for a visualization."
   ]
  },
  {
   "cell_type": "markdown",
   "metadata": {},
   "source": [
    "One way that we can pivot the dataset is letting the itemDescription become the index, the Member_number the columns, and the Date as the values. This could give us a better representation of trends in certain items being purchased at various times of the year. We could use this pivoted data to get a running count of how many dates an specific item was purchased the most, and then see when those dates are to determine when items are more likely to be purchased within the year compared to others. This could be used in a line plot to show trends in purchase history of various items over a certain period of time. This would be great to use for finding out when certain stores may go out of stock on certain items as well as when to get ahead of the curve and buy the items you want before you run into a time where the item tends to be bought out in bulk more often."
   ]
  },
  {
   "cell_type": "markdown",
   "metadata": {},
   "source": [
    "# Identify any possible relationships between features included in the data: which ones are likely to affect others?"
   ]
  },
  {
   "cell_type": "markdown",
   "metadata": {},
   "source": [
    "The main relationship within this data set is between the Date purchased and the itemDescription. The key relationship is the time of the year that people are more likely going to buy a certain item the most. For example, certain fruits might be bought at certain points in the year because they are \"in season\" or maybe chocolate is bought more around February because of Valentine's Day. This is a clear cause and effect relationship that can be shown below. "
   ]
  },
  {
   "cell_type": "markdown",
   "metadata": {},
   "source": [
    "# Show at least one plot or visualization to illustrate this (possible) relationship."
   ]
  },
  {
   "cell_type": "code",
   "execution_count": 3,
   "metadata": {},
   "outputs": [
    {
     "data": {
      "text/html": [
       "<div>\n",
       "<style scoped>\n",
       "    .dataframe tbody tr th:only-of-type {\n",
       "        vertical-align: middle;\n",
       "    }\n",
       "\n",
       "    .dataframe tbody tr th {\n",
       "        vertical-align: top;\n",
       "    }\n",
       "\n",
       "    .dataframe thead th {\n",
       "        text-align: right;\n",
       "    }\n",
       "</style>\n",
       "<table border=\"1\" class=\"dataframe\">\n",
       "  <thead>\n",
       "    <tr style=\"text-align: right;\">\n",
       "      <th></th>\n",
       "      <th>itemDescription</th>\n",
       "    </tr>\n",
       "    <tr>\n",
       "      <th>Date</th>\n",
       "      <th></th>\n",
       "    </tr>\n",
       "  </thead>\n",
       "  <tbody>\n",
       "    <tr>\n",
       "      <th>01-01-2014</th>\n",
       "      <td>1</td>\n",
       "    </tr>\n",
       "    <tr>\n",
       "      <th>01-01-2015</th>\n",
       "      <td>1</td>\n",
       "    </tr>\n",
       "    <tr>\n",
       "      <th>01-04-2015</th>\n",
       "      <td>1</td>\n",
       "    </tr>\n",
       "    <tr>\n",
       "      <th>01-05-2015</th>\n",
       "      <td>1</td>\n",
       "    </tr>\n",
       "    <tr>\n",
       "      <th>01-06-2015</th>\n",
       "      <td>1</td>\n",
       "    </tr>\n",
       "    <tr>\n",
       "      <th>01-07-2015</th>\n",
       "      <td>1</td>\n",
       "    </tr>\n",
       "    <tr>\n",
       "      <th>01-08-2014</th>\n",
       "      <td>1</td>\n",
       "    </tr>\n",
       "    <tr>\n",
       "      <th>01-08-2015</th>\n",
       "      <td>1</td>\n",
       "    </tr>\n",
       "    <tr>\n",
       "      <th>01-12-2014</th>\n",
       "      <td>1</td>\n",
       "    </tr>\n",
       "    <tr>\n",
       "      <th>02-03-2015</th>\n",
       "      <td>1</td>\n",
       "    </tr>\n",
       "    <tr>\n",
       "      <th>02-04-2015</th>\n",
       "      <td>1</td>\n",
       "    </tr>\n",
       "    <tr>\n",
       "      <th>02-05-2014</th>\n",
       "      <td>3</td>\n",
       "    </tr>\n",
       "    <tr>\n",
       "      <th>02-06-2014</th>\n",
       "      <td>1</td>\n",
       "    </tr>\n",
       "    <tr>\n",
       "      <th>02-07-2014</th>\n",
       "      <td>1</td>\n",
       "    </tr>\n",
       "    <tr>\n",
       "      <th>02-07-2015</th>\n",
       "      <td>1</td>\n",
       "    </tr>\n",
       "    <tr>\n",
       "      <th>02-08-2015</th>\n",
       "      <td>1</td>\n",
       "    </tr>\n",
       "    <tr>\n",
       "      <th>02-09-2015</th>\n",
       "      <td>1</td>\n",
       "    </tr>\n",
       "    <tr>\n",
       "      <th>02-10-2014</th>\n",
       "      <td>1</td>\n",
       "    </tr>\n",
       "    <tr>\n",
       "      <th>02-10-2015</th>\n",
       "      <td>1</td>\n",
       "    </tr>\n",
       "    <tr>\n",
       "      <th>02-11-2015</th>\n",
       "      <td>1</td>\n",
       "    </tr>\n",
       "    <tr>\n",
       "      <th>03-02-2015</th>\n",
       "      <td>1</td>\n",
       "    </tr>\n",
       "    <tr>\n",
       "      <th>03-03-2014</th>\n",
       "      <td>1</td>\n",
       "    </tr>\n",
       "    <tr>\n",
       "      <th>03-04-2014</th>\n",
       "      <td>1</td>\n",
       "    </tr>\n",
       "    <tr>\n",
       "      <th>03-04-2015</th>\n",
       "      <td>2</td>\n",
       "    </tr>\n",
       "    <tr>\n",
       "      <th>03-05-2014</th>\n",
       "      <td>1</td>\n",
       "    </tr>\n",
       "    <tr>\n",
       "      <th>03-06-2014</th>\n",
       "      <td>1</td>\n",
       "    </tr>\n",
       "    <tr>\n",
       "      <th>03-07-2015</th>\n",
       "      <td>1</td>\n",
       "    </tr>\n",
       "    <tr>\n",
       "      <th>03-08-2015</th>\n",
       "      <td>2</td>\n",
       "    </tr>\n",
       "    <tr>\n",
       "      <th>03-11-2014</th>\n",
       "      <td>1</td>\n",
       "    </tr>\n",
       "    <tr>\n",
       "      <th>04-01-2014</th>\n",
       "      <td>2</td>\n",
       "    </tr>\n",
       "    <tr>\n",
       "      <th>...</th>\n",
       "      <td>...</td>\n",
       "    </tr>\n",
       "    <tr>\n",
       "      <th>28-06-2014</th>\n",
       "      <td>1</td>\n",
       "    </tr>\n",
       "    <tr>\n",
       "      <th>28-07-2014</th>\n",
       "      <td>1</td>\n",
       "    </tr>\n",
       "    <tr>\n",
       "      <th>28-08-2015</th>\n",
       "      <td>1</td>\n",
       "    </tr>\n",
       "    <tr>\n",
       "      <th>28-11-2014</th>\n",
       "      <td>2</td>\n",
       "    </tr>\n",
       "    <tr>\n",
       "      <th>28-11-2015</th>\n",
       "      <td>1</td>\n",
       "    </tr>\n",
       "    <tr>\n",
       "      <th>28-12-2015</th>\n",
       "      <td>1</td>\n",
       "    </tr>\n",
       "    <tr>\n",
       "      <th>29-01-2015</th>\n",
       "      <td>1</td>\n",
       "    </tr>\n",
       "    <tr>\n",
       "      <th>29-03-2014</th>\n",
       "      <td>2</td>\n",
       "    </tr>\n",
       "    <tr>\n",
       "      <th>29-05-2014</th>\n",
       "      <td>1</td>\n",
       "    </tr>\n",
       "    <tr>\n",
       "      <th>29-08-2014</th>\n",
       "      <td>1</td>\n",
       "    </tr>\n",
       "    <tr>\n",
       "      <th>29-08-2015</th>\n",
       "      <td>1</td>\n",
       "    </tr>\n",
       "    <tr>\n",
       "      <th>29-09-2015</th>\n",
       "      <td>1</td>\n",
       "    </tr>\n",
       "    <tr>\n",
       "      <th>29-10-2015</th>\n",
       "      <td>1</td>\n",
       "    </tr>\n",
       "    <tr>\n",
       "      <th>29-11-2014</th>\n",
       "      <td>1</td>\n",
       "    </tr>\n",
       "    <tr>\n",
       "      <th>29-12-2014</th>\n",
       "      <td>1</td>\n",
       "    </tr>\n",
       "    <tr>\n",
       "      <th>29-12-2015</th>\n",
       "      <td>2</td>\n",
       "    </tr>\n",
       "    <tr>\n",
       "      <th>30-01-2014</th>\n",
       "      <td>1</td>\n",
       "    </tr>\n",
       "    <tr>\n",
       "      <th>30-01-2015</th>\n",
       "      <td>1</td>\n",
       "    </tr>\n",
       "    <tr>\n",
       "      <th>30-04-2015</th>\n",
       "      <td>4</td>\n",
       "    </tr>\n",
       "    <tr>\n",
       "      <th>30-05-2015</th>\n",
       "      <td>1</td>\n",
       "    </tr>\n",
       "    <tr>\n",
       "      <th>30-06-2014</th>\n",
       "      <td>3</td>\n",
       "    </tr>\n",
       "    <tr>\n",
       "      <th>30-06-2015</th>\n",
       "      <td>2</td>\n",
       "    </tr>\n",
       "    <tr>\n",
       "      <th>30-07-2014</th>\n",
       "      <td>1</td>\n",
       "    </tr>\n",
       "    <tr>\n",
       "      <th>30-09-2014</th>\n",
       "      <td>1</td>\n",
       "    </tr>\n",
       "    <tr>\n",
       "      <th>30-10-2014</th>\n",
       "      <td>2</td>\n",
       "    </tr>\n",
       "    <tr>\n",
       "      <th>30-12-2014</th>\n",
       "      <td>2</td>\n",
       "    </tr>\n",
       "    <tr>\n",
       "      <th>31-01-2015</th>\n",
       "      <td>1</td>\n",
       "    </tr>\n",
       "    <tr>\n",
       "      <th>31-05-2014</th>\n",
       "      <td>2</td>\n",
       "    </tr>\n",
       "    <tr>\n",
       "      <th>31-08-2014</th>\n",
       "      <td>1</td>\n",
       "    </tr>\n",
       "    <tr>\n",
       "      <th>31-10-2015</th>\n",
       "      <td>2</td>\n",
       "    </tr>\n",
       "  </tbody>\n",
       "</table>\n",
       "<p>293 rows × 1 columns</p>\n",
       "</div>"
      ],
      "text/plain": [
       "            itemDescription\n",
       "Date                       \n",
       "01-01-2014                1\n",
       "01-01-2015                1\n",
       "01-04-2015                1\n",
       "01-05-2015                1\n",
       "01-06-2015                1\n",
       "01-07-2015                1\n",
       "01-08-2014                1\n",
       "01-08-2015                1\n",
       "01-12-2014                1\n",
       "02-03-2015                1\n",
       "02-04-2015                1\n",
       "02-05-2014                3\n",
       "02-06-2014                1\n",
       "02-07-2014                1\n",
       "02-07-2015                1\n",
       "02-08-2015                1\n",
       "02-09-2015                1\n",
       "02-10-2014                1\n",
       "02-10-2015                1\n",
       "02-11-2015                1\n",
       "03-02-2015                1\n",
       "03-03-2014                1\n",
       "03-04-2014                1\n",
       "03-04-2015                2\n",
       "03-05-2014                1\n",
       "03-06-2014                1\n",
       "03-07-2015                1\n",
       "03-08-2015                2\n",
       "03-11-2014                1\n",
       "04-01-2014                2\n",
       "...                     ...\n",
       "28-06-2014                1\n",
       "28-07-2014                1\n",
       "28-08-2015                1\n",
       "28-11-2014                2\n",
       "28-11-2015                1\n",
       "28-12-2015                1\n",
       "29-01-2015                1\n",
       "29-03-2014                2\n",
       "29-05-2014                1\n",
       "29-08-2014                1\n",
       "29-08-2015                1\n",
       "29-09-2015                1\n",
       "29-10-2015                1\n",
       "29-11-2014                1\n",
       "29-12-2014                1\n",
       "29-12-2015                2\n",
       "30-01-2014                1\n",
       "30-01-2015                1\n",
       "30-04-2015                4\n",
       "30-05-2015                1\n",
       "30-06-2014                3\n",
       "30-06-2015                2\n",
       "30-07-2014                1\n",
       "30-09-2014                1\n",
       "30-10-2014                2\n",
       "30-12-2014                2\n",
       "31-01-2015                1\n",
       "31-05-2014                2\n",
       "31-08-2014                1\n",
       "31-10-2015                2\n",
       "\n",
       "[293 rows x 1 columns]"
      ]
     },
     "execution_count": 3,
     "metadata": {},
     "output_type": "execute_result"
    }
   ],
   "source": [
    "sub_data = grocery_data[['Date', 'itemDescription']]\n",
    "sub_data[sub_data['itemDescription'] == 'chocolate'].groupby(by='Date').count()"
   ]
  },
  {
   "cell_type": "markdown",
   "metadata": {},
   "source": [
    "# What numerical or statistical techniques might you consider using to determine whether the relationship is reliable?"
   ]
  },
  {
   "cell_type": "code",
   "execution_count": null,
   "metadata": {},
   "outputs": [],
   "source": []
  },
  {
   "cell_type": "markdown",
   "metadata": {},
   "source": [
    "# Are there external inferences you think might be possible? For instance, can you hypothesize a relationship with data not included in the dataset? Why or why not?"
   ]
  },
  {
   "cell_type": "code",
   "execution_count": null,
   "metadata": {},
   "outputs": [],
   "source": []
  },
  {
   "cell_type": "markdown",
   "metadata": {},
   "source": [
    "# What “extra” features can you perhaps compute from the data? For example, if you have data that includes product dates of purchase, you can “engineer” the data to construct the most popular products over various lengths of time (e.g. a particular holiday season). How might you use this information? Using the holiday example, you might try to correlate holiday sales of a product to some mainstream event that popularized it."
   ]
  },
  {
   "cell_type": "code",
   "execution_count": null,
   "metadata": {},
   "outputs": [],
   "source": []
  },
  {
   "cell_type": "markdown",
   "metadata": {},
   "source": [
    "# Dataset 2: The San Francisco Crime Dataset"
   ]
  },
  {
   "cell_type": "code",
   "execution_count": 4,
   "metadata": {},
   "outputs": [
    {
     "data": {
      "text/html": [
       "<div>\n",
       "<style scoped>\n",
       "    .dataframe tbody tr th:only-of-type {\n",
       "        vertical-align: middle;\n",
       "    }\n",
       "\n",
       "    .dataframe tbody tr th {\n",
       "        vertical-align: top;\n",
       "    }\n",
       "\n",
       "    .dataframe thead th {\n",
       "        text-align: right;\n",
       "    }\n",
       "</style>\n",
       "<table border=\"1\" class=\"dataframe\">\n",
       "  <thead>\n",
       "    <tr style=\"text-align: right;\">\n",
       "      <th></th>\n",
       "      <th>IncidntNum</th>\n",
       "      <th>Category</th>\n",
       "      <th>Descript</th>\n",
       "      <th>DayOfWeek</th>\n",
       "      <th>Date</th>\n",
       "      <th>Time</th>\n",
       "      <th>PdDistrict</th>\n",
       "      <th>Resolution</th>\n",
       "      <th>Address</th>\n",
       "      <th>X</th>\n",
       "      <th>Y</th>\n",
       "      <th>Location</th>\n",
       "      <th>PdId</th>\n",
       "    </tr>\n",
       "  </thead>\n",
       "  <tbody>\n",
       "    <tr>\n",
       "      <th>0</th>\n",
       "      <td>120058272</td>\n",
       "      <td>WEAPON LAWS</td>\n",
       "      <td>FIREARM, LOADED, IN VEHICLE, POSSESSION OR USE</td>\n",
       "      <td>Friday</td>\n",
       "      <td>01/29/2016 12:00:00 AM</td>\n",
       "      <td>11:00</td>\n",
       "      <td>SOUTHERN</td>\n",
       "      <td>ARREST, BOOKED</td>\n",
       "      <td>800 Block of BRYANT ST</td>\n",
       "      <td>-122.403405</td>\n",
       "      <td>37.775421</td>\n",
       "      <td>(37.775420706711, -122.403404791479)</td>\n",
       "      <td>12005827212168</td>\n",
       "    </tr>\n",
       "    <tr>\n",
       "      <th>1</th>\n",
       "      <td>141059263</td>\n",
       "      <td>WARRANTS</td>\n",
       "      <td>WARRANT ARREST</td>\n",
       "      <td>Monday</td>\n",
       "      <td>04/25/2016 12:00:00 AM</td>\n",
       "      <td>14:59</td>\n",
       "      <td>BAYVIEW</td>\n",
       "      <td>ARREST, BOOKED</td>\n",
       "      <td>KEITH ST / SHAFTER AV</td>\n",
       "      <td>-122.388856</td>\n",
       "      <td>37.729981</td>\n",
       "      <td>(37.7299809672996, -122.388856204292)</td>\n",
       "      <td>14105926363010</td>\n",
       "    </tr>\n",
       "    <tr>\n",
       "      <th>2</th>\n",
       "      <td>160013662</td>\n",
       "      <td>NON-CRIMINAL</td>\n",
       "      <td>LOST PROPERTY</td>\n",
       "      <td>Tuesday</td>\n",
       "      <td>01/05/2016 12:00:00 AM</td>\n",
       "      <td>23:50</td>\n",
       "      <td>TENDERLOIN</td>\n",
       "      <td>NONE</td>\n",
       "      <td>JONES ST / OFARRELL ST</td>\n",
       "      <td>-122.412971</td>\n",
       "      <td>37.785788</td>\n",
       "      <td>(37.7857883766888, -122.412970537591)</td>\n",
       "      <td>16001366271000</td>\n",
       "    </tr>\n",
       "    <tr>\n",
       "      <th>3</th>\n",
       "      <td>160002740</td>\n",
       "      <td>NON-CRIMINAL</td>\n",
       "      <td>LOST PROPERTY</td>\n",
       "      <td>Friday</td>\n",
       "      <td>01/01/2016 12:00:00 AM</td>\n",
       "      <td>00:30</td>\n",
       "      <td>MISSION</td>\n",
       "      <td>NONE</td>\n",
       "      <td>16TH ST / MISSION ST</td>\n",
       "      <td>-122.419672</td>\n",
       "      <td>37.765050</td>\n",
       "      <td>(37.7650501214668, -122.419671780296)</td>\n",
       "      <td>16000274071000</td>\n",
       "    </tr>\n",
       "    <tr>\n",
       "      <th>4</th>\n",
       "      <td>160002869</td>\n",
       "      <td>ASSAULT</td>\n",
       "      <td>BATTERY</td>\n",
       "      <td>Friday</td>\n",
       "      <td>01/01/2016 12:00:00 AM</td>\n",
       "      <td>21:35</td>\n",
       "      <td>NORTHERN</td>\n",
       "      <td>NONE</td>\n",
       "      <td>1700 Block of BUSH ST</td>\n",
       "      <td>-122.426077</td>\n",
       "      <td>37.788019</td>\n",
       "      <td>(37.788018555829, -122.426077177375)</td>\n",
       "      <td>16000286904134</td>\n",
       "    </tr>\n",
       "    <tr>\n",
       "      <th>5</th>\n",
       "      <td>160003130</td>\n",
       "      <td>OTHER OFFENSES</td>\n",
       "      <td>PAROLE VIOLATION</td>\n",
       "      <td>Saturday</td>\n",
       "      <td>01/02/2016 12:00:00 AM</td>\n",
       "      <td>00:04</td>\n",
       "      <td>SOUTHERN</td>\n",
       "      <td>ARREST, BOOKED</td>\n",
       "      <td>MARY ST / HOWARD ST</td>\n",
       "      <td>-122.405721</td>\n",
       "      <td>37.780879</td>\n",
       "      <td>(37.7808789360214, -122.405721454567)</td>\n",
       "      <td>16000313026150</td>\n",
       "    </tr>\n",
       "    <tr>\n",
       "      <th>6</th>\n",
       "      <td>160003259</td>\n",
       "      <td>NON-CRIMINAL</td>\n",
       "      <td>FIRE REPORT</td>\n",
       "      <td>Saturday</td>\n",
       "      <td>01/02/2016 12:00:00 AM</td>\n",
       "      <td>01:02</td>\n",
       "      <td>TENDERLOIN</td>\n",
       "      <td>NONE</td>\n",
       "      <td>200 Block of EDDY ST</td>\n",
       "      <td>-122.411778</td>\n",
       "      <td>37.783981</td>\n",
       "      <td>(37.7839805592634, -122.411778295992)</td>\n",
       "      <td>16000325968000</td>\n",
       "    </tr>\n",
       "    <tr>\n",
       "      <th>7</th>\n",
       "      <td>160003970</td>\n",
       "      <td>WARRANTS</td>\n",
       "      <td>WARRANT ARREST</td>\n",
       "      <td>Saturday</td>\n",
       "      <td>01/02/2016 12:00:00 AM</td>\n",
       "      <td>12:21</td>\n",
       "      <td>SOUTHERN</td>\n",
       "      <td>ARREST, BOOKED</td>\n",
       "      <td>4TH ST / BERRY ST</td>\n",
       "      <td>-122.393357</td>\n",
       "      <td>37.775788</td>\n",
       "      <td>(37.7757876218293, -122.393357241451)</td>\n",
       "      <td>16000397063010</td>\n",
       "    </tr>\n",
       "    <tr>\n",
       "      <th>8</th>\n",
       "      <td>160003641</td>\n",
       "      <td>MISSING PERSON</td>\n",
       "      <td>FOUND PERSON</td>\n",
       "      <td>Friday</td>\n",
       "      <td>01/01/2016 12:00:00 AM</td>\n",
       "      <td>10:06</td>\n",
       "      <td>BAYVIEW</td>\n",
       "      <td>NONE</td>\n",
       "      <td>100 Block of CAMERON WY</td>\n",
       "      <td>-122.387182</td>\n",
       "      <td>37.720967</td>\n",
       "      <td>(37.7209669615499, -122.387181635995)</td>\n",
       "      <td>16000364175000</td>\n",
       "    </tr>\n",
       "    <tr>\n",
       "      <th>9</th>\n",
       "      <td>160086863</td>\n",
       "      <td>LARCENY/THEFT</td>\n",
       "      <td>ATTEMPTED THEFT FROM LOCKED VEHICLE</td>\n",
       "      <td>Friday</td>\n",
       "      <td>01/29/2016 12:00:00 AM</td>\n",
       "      <td>22:30</td>\n",
       "      <td>TARAVAL</td>\n",
       "      <td>NONE</td>\n",
       "      <td>1200 Block of 19TH AV</td>\n",
       "      <td>-122.477377</td>\n",
       "      <td>37.764478</td>\n",
       "      <td>(37.7644781578695, -122.477376524003)</td>\n",
       "      <td>16008686306240</td>\n",
       "    </tr>\n",
       "  </tbody>\n",
       "</table>\n",
       "</div>"
      ],
      "text/plain": [
       "   IncidntNum        Category                                        Descript  \\\n",
       "0   120058272     WEAPON LAWS  FIREARM, LOADED, IN VEHICLE, POSSESSION OR USE   \n",
       "1   141059263        WARRANTS                                  WARRANT ARREST   \n",
       "2   160013662    NON-CRIMINAL                                   LOST PROPERTY   \n",
       "3   160002740    NON-CRIMINAL                                   LOST PROPERTY   \n",
       "4   160002869         ASSAULT                                         BATTERY   \n",
       "5   160003130  OTHER OFFENSES                                PAROLE VIOLATION   \n",
       "6   160003259    NON-CRIMINAL                                     FIRE REPORT   \n",
       "7   160003970        WARRANTS                                  WARRANT ARREST   \n",
       "8   160003641  MISSING PERSON                                    FOUND PERSON   \n",
       "9   160086863   LARCENY/THEFT             ATTEMPTED THEFT FROM LOCKED VEHICLE   \n",
       "\n",
       "  DayOfWeek                    Date   Time  PdDistrict      Resolution  \\\n",
       "0    Friday  01/29/2016 12:00:00 AM  11:00    SOUTHERN  ARREST, BOOKED   \n",
       "1    Monday  04/25/2016 12:00:00 AM  14:59     BAYVIEW  ARREST, BOOKED   \n",
       "2   Tuesday  01/05/2016 12:00:00 AM  23:50  TENDERLOIN            NONE   \n",
       "3    Friday  01/01/2016 12:00:00 AM  00:30     MISSION            NONE   \n",
       "4    Friday  01/01/2016 12:00:00 AM  21:35    NORTHERN            NONE   \n",
       "5  Saturday  01/02/2016 12:00:00 AM  00:04    SOUTHERN  ARREST, BOOKED   \n",
       "6  Saturday  01/02/2016 12:00:00 AM  01:02  TENDERLOIN            NONE   \n",
       "7  Saturday  01/02/2016 12:00:00 AM  12:21    SOUTHERN  ARREST, BOOKED   \n",
       "8    Friday  01/01/2016 12:00:00 AM  10:06     BAYVIEW            NONE   \n",
       "9    Friday  01/29/2016 12:00:00 AM  22:30     TARAVAL            NONE   \n",
       "\n",
       "                   Address           X          Y  \\\n",
       "0   800 Block of BRYANT ST -122.403405  37.775421   \n",
       "1    KEITH ST / SHAFTER AV -122.388856  37.729981   \n",
       "2   JONES ST / OFARRELL ST -122.412971  37.785788   \n",
       "3     16TH ST / MISSION ST -122.419672  37.765050   \n",
       "4    1700 Block of BUSH ST -122.426077  37.788019   \n",
       "5      MARY ST / HOWARD ST -122.405721  37.780879   \n",
       "6     200 Block of EDDY ST -122.411778  37.783981   \n",
       "7        4TH ST / BERRY ST -122.393357  37.775788   \n",
       "8  100 Block of CAMERON WY -122.387182  37.720967   \n",
       "9    1200 Block of 19TH AV -122.477377  37.764478   \n",
       "\n",
       "                                Location            PdId  \n",
       "0   (37.775420706711, -122.403404791479)  12005827212168  \n",
       "1  (37.7299809672996, -122.388856204292)  14105926363010  \n",
       "2  (37.7857883766888, -122.412970537591)  16001366271000  \n",
       "3  (37.7650501214668, -122.419671780296)  16000274071000  \n",
       "4   (37.788018555829, -122.426077177375)  16000286904134  \n",
       "5  (37.7808789360214, -122.405721454567)  16000313026150  \n",
       "6  (37.7839805592634, -122.411778295992)  16000325968000  \n",
       "7  (37.7757876218293, -122.393357241451)  16000397063010  \n",
       "8  (37.7209669615499, -122.387181635995)  16000364175000  \n",
       "9  (37.7644781578695, -122.477376524003)  16008686306240  "
      ]
     },
     "execution_count": 4,
     "metadata": {},
     "output_type": "execute_result"
    }
   ],
   "source": [
    "crime_data = pd.read_csv('./SanFranciscoCrimeDataset/crime.csv',\n",
    "                          header=1,\n",
    "                          skipinitialspace=False,\n",
    "                          names=['IncidntNum', 'Category', 'Descript', 'DayOfWeek', 'Date', 'Time',\n",
    "                                'PdDistrict', 'Resolution', 'Address', 'X', 'Y', 'Location', 'PdId'])\n",
    "crime_data.head(10)"
   ]
  },
  {
   "cell_type": "markdown",
   "metadata": {},
   "source": [
    "# What type of population is being sampled? What are the “things” getting measured – usually one per row of data."
   ]
  },
  {
   "cell_type": "markdown",
   "metadata": {},
   "source": [
    "The population of the data set is 150500 different crimes/incidents from San Francisco. Each data point gave extreme detail about where and when and some detail about what the specific incident was. We can look at this data and see many different things because we have many columns/details about one data point/incident. "
   ]
  },
  {
   "cell_type": "markdown",
   "metadata": {},
   "source": [
    "# What features does each sample have, i.e. what is being measured?"
   ]
  },
  {
   "cell_type": "markdown",
   "metadata": {},
   "source": [
    "There are \n",
    "\n",
    "IncidntNum\tCategory\tDescript\tDayOfWeek\tDate\tTime\tPdDistrict\tResolution\tAddress\tX\tY\tLocation\tPdId\n",
    "\n",
    "There are eight features to each sample. \n",
    "#### Feature:\n",
    "1. Incident Number - THe incedent number associated to incident - This number is seperate form the police's ID number but ID's the number \n",
    "2. Category - What type of incedent - This is a single to a few word that best describe he incedent that occured in the row\n",
    "3. Descript - Description of the incident - This gives more detail than the category about the incident\n",
    "4. Day Of Week/Date/Time - date and time when incident occured - These three columns give exact times, dates, and day of the weeks the row's incident occured \n",
    "5. PdDistrict - Police District where incendent occured - This is the district the incident occured in but in the eyes of the  police and their routing.\n",
    "6. Resolution - Ending results - This is what happened to the party commiting the crime/causing the inccident \n",
    "7. Address X/Y/Location - Location Longitude, Latitude - This is the exact geological location of the inccident\n",
    "8. PdId - Police Department Identification Number - This is the ID number but for the police books\n",
    "\n"
   ]
  },
  {
   "cell_type": "markdown",
   "metadata": {},
   "source": [
    "# Are the features quantitative or qualitative? Ordinal or nominal? Continuous or discrete?"
   ]
  },
  {
   "cell_type": "markdown",
   "metadata": {},
   "source": [
    "#### Feature:\n",
    "1. Incident Number - \n",
    "    * Quantitative\n",
    "    * Discrete\n",
    "2. Category - \n",
    "    * Qualitative\n",
    "    * Ordinal\n",
    "3. Descript -\n",
    "    * Qualitative\n",
    "    * Ordinal\n",
    "4. Day Of Week/Date/Time -\n",
    "    * Day of week\n",
    "        * Qualitative\n",
    "        * Ordinal\n",
    "    * Data/Time\n",
    "        * Quantitative\n",
    "        * Discrete\n",
    "5. PdDistrict - \n",
    "    * Qualitative\n",
    "    * Ordinal\n",
    "6. Resolution - \n",
    "    * Qualitative\n",
    "    * Ordinal\n",
    "7. Address X/Y/Location - \n",
    "    * Quantitative\n",
    "    * Continuous\n",
    "8. PdId - \n",
    "    * Quantitive\n",
    "    * Discrete"
   ]
  },
  {
   "cell_type": "markdown",
   "metadata": {},
   "source": [
    "# Is the data “complete” or do some of the samples have null or absent values for certain features? Why are these samples still useful? Why are they incomplete?"
   ]
  },
  {
   "cell_type": "markdown",
   "metadata": {},
   "source": [
    "The data is filled out. It may seem like the Resolution column may have missing data when it says \"NONE,\" But this is an actual case. This is possible that the police were not able to charge anyone for the crome/incident committed. If we were to consider \"NONE\" as null, then these points are still valid. These \"null\" points have meaning because these locations have potential criminals that have experience in evading the law. "
   ]
  },
  {
   "cell_type": "markdown",
   "metadata": {},
   "source": [
    "# Why are these features chosen to be part of the dataset?"
   ]
  },
  {
   "cell_type": "markdown",
   "metadata": {},
   "source": [
    "#### Feature:\n",
    "1. Incident Number - \n",
    "2. Category - Similar amoung most of the population - Broad desciption of incidents - Allows for search of a inccident\n",
    "3. Descript - Less frequent amoung the population - Specific exsamples of incidents - Does the same as Categories but much moire specific exsamples\n",
    "4. Day Of Week/Date/Time - Tells us when incidents occured\n",
    "5. PdDistrict - Says stuff about location from police side of things, typically same group of police patrol the same aprts of town. \n",
    "6. Resolution - Tells us what happened to the offenders in the end, if anything.\n",
    "7. Address X/Y/Location - Geographic location of incident/Tells us where is happened.\n",
    "8. PdId - Allows for future look up in police records. "
   ]
  },
  {
   "cell_type": "markdown",
   "metadata": {},
   "source": [
    "# What are some other features that are not included but that you think might make sense to include for this dataset?"
   ]
  },
  {
   "cell_type": "markdown",
   "metadata": {},
   "source": [
    "Some other features that could have been added could have been the races of the perpetrators and victims. The addition of these new features adds some exciting relationships and statistics. We can show what race is causing the most considerable amount of crime. It can also show crime rates between races. It would also be interesting to see if the police knew it was gang violence or not. This may not be known for every incident, but it makes some fascinating data about gangs' locations for the ones that it is known. Disputes could be happening at HQ locations or on the edge of territories where we can then section the city species on a map into a gang \"turfs.\""
   ]
  },
  {
   "cell_type": "markdown",
   "metadata": {},
   "source": [
    "# Give at least one way that you can pivot the dataset to get a slightly different representation of some values. Explain what this is and how you would use it for a visualization."
   ]
  },
  {
   "cell_type": "markdown",
   "metadata": {},
   "source": []
  },
  {
   "cell_type": "markdown",
   "metadata": {},
   "source": [
    "# Identify any possible relationships between features included in the data: which ones are likely to affect others?"
   ]
  },
  {
   "cell_type": "markdown",
   "metadata": {},
   "source": [
    "Times and type of Incident, typically robberies and car jacking ahppens at night and not while tohe sun is up. "
   ]
  },
  {
   "cell_type": "markdown",
   "metadata": {},
   "source": [
    "# Show at least one plot or visualization to illustrate this (possible) relationship."
   ]
  },
  {
   "cell_type": "code",
   "execution_count": 5,
   "metadata": {},
   "outputs": [
    {
     "name": "stdout",
     "output_type": "stream",
     "text": [
      "Time        object\n",
      "Category    object\n",
      "dtype: object\n",
      "i[0] 11:00 | i[1] WEAPON LAWS | hours 11\n"
     ]
    },
    {
     "ename": "KeyError",
     "evalue": "11",
     "output_type": "error",
     "traceback": [
      "\u001b[0;31m---------------------------------------------------------------------------\u001b[0m",
      "\u001b[0;31mKeyError\u001b[0m                                  Traceback (most recent call last)",
      "\u001b[0;32m/opt/conda/lib/python3.6/site-packages/pandas/core/indexes/base.py\u001b[0m in \u001b[0;36mget_loc\u001b[0;34m(self, key, method, tolerance)\u001b[0m\n\u001b[1;32m   3077\u001b[0m             \u001b[0;32mtry\u001b[0m\u001b[0;34m:\u001b[0m\u001b[0;34m\u001b[0m\u001b[0;34m\u001b[0m\u001b[0m\n\u001b[0;32m-> 3078\u001b[0;31m                 \u001b[0;32mreturn\u001b[0m \u001b[0mself\u001b[0m\u001b[0;34m.\u001b[0m\u001b[0m_engine\u001b[0m\u001b[0;34m.\u001b[0m\u001b[0mget_loc\u001b[0m\u001b[0;34m(\u001b[0m\u001b[0mkey\u001b[0m\u001b[0;34m)\u001b[0m\u001b[0;34m\u001b[0m\u001b[0;34m\u001b[0m\u001b[0m\n\u001b[0m\u001b[1;32m   3079\u001b[0m             \u001b[0;32mexcept\u001b[0m \u001b[0mKeyError\u001b[0m\u001b[0;34m:\u001b[0m\u001b[0;34m\u001b[0m\u001b[0;34m\u001b[0m\u001b[0m\n",
      "\u001b[0;32mpandas/_libs/index.pyx\u001b[0m in \u001b[0;36mpandas._libs.index.IndexEngine.get_loc\u001b[0;34m()\u001b[0m\n",
      "\u001b[0;32mpandas/_libs/index.pyx\u001b[0m in \u001b[0;36mpandas._libs.index.IndexEngine.get_loc\u001b[0;34m()\u001b[0m\n",
      "\u001b[0;32mpandas/_libs/hashtable_class_helper.pxi\u001b[0m in \u001b[0;36mpandas._libs.hashtable.PyObjectHashTable.get_item\u001b[0;34m()\u001b[0m\n",
      "\u001b[0;32mpandas/_libs/hashtable_class_helper.pxi\u001b[0m in \u001b[0;36mpandas._libs.hashtable.PyObjectHashTable.get_item\u001b[0;34m()\u001b[0m\n",
      "\u001b[0;31mKeyError\u001b[0m: 11",
      "\nDuring handling of the above exception, another exception occurred:\n",
      "\u001b[0;31mKeyError\u001b[0m                                  Traceback (most recent call last)",
      "\u001b[0;32m<ipython-input-5-862e487c54f6>\u001b[0m in \u001b[0;36m<module>\u001b[0;34m\u001b[0m\n\u001b[1;32m     34\u001b[0m     \u001b[0mhours\u001b[0m \u001b[0;34m=\u001b[0m \u001b[0mint\u001b[0m\u001b[0;34m(\u001b[0m\u001b[0mhours\u001b[0m\u001b[0;34m)\u001b[0m\u001b[0;34m\u001b[0m\u001b[0;34m\u001b[0m\u001b[0m\n\u001b[1;32m     35\u001b[0m     \u001b[0mprint\u001b[0m\u001b[0;34m(\u001b[0m\u001b[0;34mf\"i[0] {i[0]} | i[1] {i[1]} | hours {hours}\"\u001b[0m\u001b[0;34m)\u001b[0m\u001b[0;34m\u001b[0m\u001b[0;34m\u001b[0m\u001b[0m\n\u001b[0;32m---> 36\u001b[0;31m     \u001b[0mcrimeData\u001b[0m\u001b[0;34m[\u001b[0m\u001b[0mhours\u001b[0m\u001b[0;34m]\u001b[0m\u001b[0;34m[\u001b[0m\u001b[0mi\u001b[0m\u001b[0;34m[\u001b[0m\u001b[0;36m1\u001b[0m\u001b[0;34m]\u001b[0m\u001b[0;34m]\u001b[0m\u001b[0;34m\u001b[0m\u001b[0;34m\u001b[0m\u001b[0m\n\u001b[0m\u001b[1;32m     37\u001b[0m \u001b[0;34m\u001b[0m\u001b[0m\n\u001b[1;32m     38\u001b[0m \u001b[0mprint\u001b[0m\u001b[0;34m(\u001b[0m\u001b[0mcrimeData\u001b[0m\u001b[0;34m)\u001b[0m\u001b[0;34m\u001b[0m\u001b[0;34m\u001b[0m\u001b[0m\n",
      "\u001b[0;32m/opt/conda/lib/python3.6/site-packages/pandas/core/frame.py\u001b[0m in \u001b[0;36m__getitem__\u001b[0;34m(self, key)\u001b[0m\n\u001b[1;32m   2686\u001b[0m             \u001b[0;32mreturn\u001b[0m \u001b[0mself\u001b[0m\u001b[0;34m.\u001b[0m\u001b[0m_getitem_multilevel\u001b[0m\u001b[0;34m(\u001b[0m\u001b[0mkey\u001b[0m\u001b[0;34m)\u001b[0m\u001b[0;34m\u001b[0m\u001b[0;34m\u001b[0m\u001b[0m\n\u001b[1;32m   2687\u001b[0m         \u001b[0;32melse\u001b[0m\u001b[0;34m:\u001b[0m\u001b[0;34m\u001b[0m\u001b[0;34m\u001b[0m\u001b[0m\n\u001b[0;32m-> 2688\u001b[0;31m             \u001b[0;32mreturn\u001b[0m \u001b[0mself\u001b[0m\u001b[0;34m.\u001b[0m\u001b[0m_getitem_column\u001b[0m\u001b[0;34m(\u001b[0m\u001b[0mkey\u001b[0m\u001b[0;34m)\u001b[0m\u001b[0;34m\u001b[0m\u001b[0;34m\u001b[0m\u001b[0m\n\u001b[0m\u001b[1;32m   2689\u001b[0m \u001b[0;34m\u001b[0m\u001b[0m\n\u001b[1;32m   2690\u001b[0m     \u001b[0;32mdef\u001b[0m \u001b[0m_getitem_column\u001b[0m\u001b[0;34m(\u001b[0m\u001b[0mself\u001b[0m\u001b[0;34m,\u001b[0m \u001b[0mkey\u001b[0m\u001b[0;34m)\u001b[0m\u001b[0;34m:\u001b[0m\u001b[0;34m\u001b[0m\u001b[0;34m\u001b[0m\u001b[0m\n",
      "\u001b[0;32m/opt/conda/lib/python3.6/site-packages/pandas/core/frame.py\u001b[0m in \u001b[0;36m_getitem_column\u001b[0;34m(self, key)\u001b[0m\n\u001b[1;32m   2693\u001b[0m         \u001b[0;31m# get column\u001b[0m\u001b[0;34m\u001b[0m\u001b[0;34m\u001b[0m\u001b[0;34m\u001b[0m\u001b[0m\n\u001b[1;32m   2694\u001b[0m         \u001b[0;32mif\u001b[0m \u001b[0mself\u001b[0m\u001b[0;34m.\u001b[0m\u001b[0mcolumns\u001b[0m\u001b[0;34m.\u001b[0m\u001b[0mis_unique\u001b[0m\u001b[0;34m:\u001b[0m\u001b[0;34m\u001b[0m\u001b[0;34m\u001b[0m\u001b[0m\n\u001b[0;32m-> 2695\u001b[0;31m             \u001b[0;32mreturn\u001b[0m \u001b[0mself\u001b[0m\u001b[0;34m.\u001b[0m\u001b[0m_get_item_cache\u001b[0m\u001b[0;34m(\u001b[0m\u001b[0mkey\u001b[0m\u001b[0;34m)\u001b[0m\u001b[0;34m\u001b[0m\u001b[0;34m\u001b[0m\u001b[0m\n\u001b[0m\u001b[1;32m   2696\u001b[0m \u001b[0;34m\u001b[0m\u001b[0m\n\u001b[1;32m   2697\u001b[0m         \u001b[0;31m# duplicate columns & possible reduce dimensionality\u001b[0m\u001b[0;34m\u001b[0m\u001b[0;34m\u001b[0m\u001b[0;34m\u001b[0m\u001b[0m\n",
      "\u001b[0;32m/opt/conda/lib/python3.6/site-packages/pandas/core/generic.py\u001b[0m in \u001b[0;36m_get_item_cache\u001b[0;34m(self, item)\u001b[0m\n\u001b[1;32m   2487\u001b[0m         \u001b[0mres\u001b[0m \u001b[0;34m=\u001b[0m \u001b[0mcache\u001b[0m\u001b[0;34m.\u001b[0m\u001b[0mget\u001b[0m\u001b[0;34m(\u001b[0m\u001b[0mitem\u001b[0m\u001b[0;34m)\u001b[0m\u001b[0;34m\u001b[0m\u001b[0;34m\u001b[0m\u001b[0m\n\u001b[1;32m   2488\u001b[0m         \u001b[0;32mif\u001b[0m \u001b[0mres\u001b[0m \u001b[0;32mis\u001b[0m \u001b[0;32mNone\u001b[0m\u001b[0;34m:\u001b[0m\u001b[0;34m\u001b[0m\u001b[0;34m\u001b[0m\u001b[0m\n\u001b[0;32m-> 2489\u001b[0;31m             \u001b[0mvalues\u001b[0m \u001b[0;34m=\u001b[0m \u001b[0mself\u001b[0m\u001b[0;34m.\u001b[0m\u001b[0m_data\u001b[0m\u001b[0;34m.\u001b[0m\u001b[0mget\u001b[0m\u001b[0;34m(\u001b[0m\u001b[0mitem\u001b[0m\u001b[0;34m)\u001b[0m\u001b[0;34m\u001b[0m\u001b[0;34m\u001b[0m\u001b[0m\n\u001b[0m\u001b[1;32m   2490\u001b[0m             \u001b[0mres\u001b[0m \u001b[0;34m=\u001b[0m \u001b[0mself\u001b[0m\u001b[0;34m.\u001b[0m\u001b[0m_box_item_values\u001b[0m\u001b[0;34m(\u001b[0m\u001b[0mitem\u001b[0m\u001b[0;34m,\u001b[0m \u001b[0mvalues\u001b[0m\u001b[0;34m)\u001b[0m\u001b[0;34m\u001b[0m\u001b[0;34m\u001b[0m\u001b[0m\n\u001b[1;32m   2491\u001b[0m             \u001b[0mcache\u001b[0m\u001b[0;34m[\u001b[0m\u001b[0mitem\u001b[0m\u001b[0;34m]\u001b[0m \u001b[0;34m=\u001b[0m \u001b[0mres\u001b[0m\u001b[0;34m\u001b[0m\u001b[0;34m\u001b[0m\u001b[0m\n",
      "\u001b[0;32m/opt/conda/lib/python3.6/site-packages/pandas/core/internals.py\u001b[0m in \u001b[0;36mget\u001b[0;34m(self, item, fastpath)\u001b[0m\n\u001b[1;32m   4113\u001b[0m \u001b[0;34m\u001b[0m\u001b[0m\n\u001b[1;32m   4114\u001b[0m             \u001b[0;32mif\u001b[0m \u001b[0;32mnot\u001b[0m \u001b[0misna\u001b[0m\u001b[0;34m(\u001b[0m\u001b[0mitem\u001b[0m\u001b[0;34m)\u001b[0m\u001b[0;34m:\u001b[0m\u001b[0;34m\u001b[0m\u001b[0;34m\u001b[0m\u001b[0m\n\u001b[0;32m-> 4115\u001b[0;31m                 \u001b[0mloc\u001b[0m \u001b[0;34m=\u001b[0m \u001b[0mself\u001b[0m\u001b[0;34m.\u001b[0m\u001b[0mitems\u001b[0m\u001b[0;34m.\u001b[0m\u001b[0mget_loc\u001b[0m\u001b[0;34m(\u001b[0m\u001b[0mitem\u001b[0m\u001b[0;34m)\u001b[0m\u001b[0;34m\u001b[0m\u001b[0;34m\u001b[0m\u001b[0m\n\u001b[0m\u001b[1;32m   4116\u001b[0m             \u001b[0;32melse\u001b[0m\u001b[0;34m:\u001b[0m\u001b[0;34m\u001b[0m\u001b[0;34m\u001b[0m\u001b[0m\n\u001b[1;32m   4117\u001b[0m                 \u001b[0mindexer\u001b[0m \u001b[0;34m=\u001b[0m \u001b[0mnp\u001b[0m\u001b[0;34m.\u001b[0m\u001b[0marange\u001b[0m\u001b[0;34m(\u001b[0m\u001b[0mlen\u001b[0m\u001b[0;34m(\u001b[0m\u001b[0mself\u001b[0m\u001b[0;34m.\u001b[0m\u001b[0mitems\u001b[0m\u001b[0;34m)\u001b[0m\u001b[0;34m)\u001b[0m\u001b[0;34m[\u001b[0m\u001b[0misna\u001b[0m\u001b[0;34m(\u001b[0m\u001b[0mself\u001b[0m\u001b[0;34m.\u001b[0m\u001b[0mitems\u001b[0m\u001b[0;34m)\u001b[0m\u001b[0;34m]\u001b[0m\u001b[0;34m\u001b[0m\u001b[0;34m\u001b[0m\u001b[0m\n",
      "\u001b[0;32m/opt/conda/lib/python3.6/site-packages/pandas/core/indexes/base.py\u001b[0m in \u001b[0;36mget_loc\u001b[0;34m(self, key, method, tolerance)\u001b[0m\n\u001b[1;32m   3078\u001b[0m                 \u001b[0;32mreturn\u001b[0m \u001b[0mself\u001b[0m\u001b[0;34m.\u001b[0m\u001b[0m_engine\u001b[0m\u001b[0;34m.\u001b[0m\u001b[0mget_loc\u001b[0m\u001b[0;34m(\u001b[0m\u001b[0mkey\u001b[0m\u001b[0;34m)\u001b[0m\u001b[0;34m\u001b[0m\u001b[0;34m\u001b[0m\u001b[0m\n\u001b[1;32m   3079\u001b[0m             \u001b[0;32mexcept\u001b[0m \u001b[0mKeyError\u001b[0m\u001b[0;34m:\u001b[0m\u001b[0;34m\u001b[0m\u001b[0;34m\u001b[0m\u001b[0m\n\u001b[0;32m-> 3080\u001b[0;31m                 \u001b[0;32mreturn\u001b[0m \u001b[0mself\u001b[0m\u001b[0;34m.\u001b[0m\u001b[0m_engine\u001b[0m\u001b[0;34m.\u001b[0m\u001b[0mget_loc\u001b[0m\u001b[0;34m(\u001b[0m\u001b[0mself\u001b[0m\u001b[0;34m.\u001b[0m\u001b[0m_maybe_cast_indexer\u001b[0m\u001b[0;34m(\u001b[0m\u001b[0mkey\u001b[0m\u001b[0;34m)\u001b[0m\u001b[0;34m)\u001b[0m\u001b[0;34m\u001b[0m\u001b[0;34m\u001b[0m\u001b[0m\n\u001b[0m\u001b[1;32m   3081\u001b[0m \u001b[0;34m\u001b[0m\u001b[0m\n\u001b[1;32m   3082\u001b[0m         \u001b[0mindexer\u001b[0m \u001b[0;34m=\u001b[0m \u001b[0mself\u001b[0m\u001b[0;34m.\u001b[0m\u001b[0mget_indexer\u001b[0m\u001b[0;34m(\u001b[0m\u001b[0;34m[\u001b[0m\u001b[0mkey\u001b[0m\u001b[0;34m]\u001b[0m\u001b[0;34m,\u001b[0m \u001b[0mmethod\u001b[0m\u001b[0;34m=\u001b[0m\u001b[0mmethod\u001b[0m\u001b[0;34m,\u001b[0m \u001b[0mtolerance\u001b[0m\u001b[0;34m=\u001b[0m\u001b[0mtolerance\u001b[0m\u001b[0;34m)\u001b[0m\u001b[0;34m\u001b[0m\u001b[0;34m\u001b[0m\u001b[0m\n",
      "\u001b[0;32mpandas/_libs/index.pyx\u001b[0m in \u001b[0;36mpandas._libs.index.IndexEngine.get_loc\u001b[0;34m()\u001b[0m\n",
      "\u001b[0;32mpandas/_libs/index.pyx\u001b[0m in \u001b[0;36mpandas._libs.index.IndexEngine.get_loc\u001b[0;34m()\u001b[0m\n",
      "\u001b[0;32mpandas/_libs/hashtable_class_helper.pxi\u001b[0m in \u001b[0;36mpandas._libs.hashtable.PyObjectHashTable.get_item\u001b[0;34m()\u001b[0m\n",
      "\u001b[0;32mpandas/_libs/hashtable_class_helper.pxi\u001b[0m in \u001b[0;36mpandas._libs.hashtable.PyObjectHashTable.get_item\u001b[0;34m()\u001b[0m\n",
      "\u001b[0;31mKeyError\u001b[0m: 11"
     ]
    }
   ],
   "source": [
    "TimeType = crime_data[['Time', 'Category']]\n",
    "\n",
    "d = set(TimeType['Category'])\n",
    "\n",
    "crime = {\n",
    "     #'Time':range(0,24)\n",
    "}\n",
    "# crime['Time']=[]\n",
    "\n",
    "print(TimeType.dtypes)\n",
    "\n",
    "\n",
    "# for i in TimeType['Time']:\n",
    "#     hours,mins = i.split(':')\n",
    "#     hours = float(hours)\n",
    "#     mins = float(mins)\n",
    "#     time = float(hours + mins/60)\n",
    "#     crime['Time'].append(time)\n",
    "\n",
    "for i in d:\n",
    "    crime[i] = np.zeros(len(range(0,24)))\n",
    "\n",
    "crimeData = pd.DataFrame(crime)\n",
    "crimeData.index.name = 'Time'\n",
    "\n",
    "# print(crimeData)\n",
    "\n",
    "# print(TimeType['Time'])\n",
    "\n",
    "# print(TimeType['Time'])\n",
    "\n",
    "for i in TimeType.values:\n",
    "    hours,mins = i[0].split(':')\n",
    "    hours = int(hours)\n",
    "    print(f\"i[0] {i[0]} | i[1] {i[1]} | hours {hours}\")\n",
    "    crimeData[hours][i[1]]\n",
    "\n",
    "print(crimeData)"
   ]
  },
  {
   "cell_type": "markdown",
   "metadata": {},
   "source": [
    "# What numerical or statistical techniques might you consider using to determine whether the relationship is reliable?"
   ]
  },
  {
   "cell_type": "markdown",
   "metadata": {},
   "source": []
  },
  {
   "cell_type": "markdown",
   "metadata": {},
   "source": [
    "# Are there external inferences you think might be possible? For instance, can you hypothesize a relationship with data not included in the dataset? Why or why not?"
   ]
  },
  {
   "cell_type": "markdown",
   "metadata": {},
   "source": [
    "For most data there is always some sort of external inference that can be made. THis is purely from the fact that a typical dataset never has all the data you can think of. People think diffrently which leads to data being collected you may hve not thought of and data not colleced that would have be interesting/nice to have. But for our dataset we could see more with a race of the person committing the crimes. We can see if there is relations between the race and the cimes a particullar race that was involved. Another external infrences could be if applicable the cost of damages, we could see if there was a higher probability of being caught if you do more than say $10,000 worth of damage."
   ]
  },
  {
   "cell_type": "markdown",
   "metadata": {},
   "source": [
    "#  What “extra” features can you perhaps compute from the data? For example, if you have data that includes product dates of purchase, you can “engineer” the data to construct the most popular products over various lengths of time (e.g. a particular holiday season). How might you use this information? Using the holiday example, you might try to correlate holiday sales of a product to some mainstream event that popularized it."
   ]
  },
  {
   "cell_type": "markdown",
   "metadata": {},
   "source": [
    "With the data we have we can make guesses about connections between crimes. Say if there is a yearly robbery in the same neighborhood orsomething to the extent of paterns of crimes we can take guesses that some crimes were related to one another. We can also make inferences about police officers biases/oruption. THis may be a bit of a stretch but if we notice that there is a sppecific type of crime that never has anyone getting caught/the result is none then we can chalk it up to the police being crupt or that there are experienced people in that area/PD district."
   ]
  },
  {
   "cell_type": "markdown",
   "metadata": {},
   "source": [
    "# Dataset 3: The Wine Quality Dataset"
   ]
  },
  {
   "cell_type": "code",
   "execution_count": null,
   "metadata": {},
   "outputs": [],
   "source": [
    "red_wine_data = pd.read_csv('./WineQualityDataset/winequality-red.csv',\n",
    "                          header=1,\n",
    "                          skipinitialspace=False,\n",
    "                          delimiter=';',\n",
    "                          names=['fixed acidity', 'volatile acidity', 'citric acid', \n",
    "                                 'residual sugar', 'chlorides', 'free sulfur dioxide',\n",
    "                                 'total sulfur dioxide', 'density', 'pH', 'sulphates',\n",
    "                                 'alcohol', 'quality'])\n",
    "red_wine_data.head(10)"
   ]
  },
  {
   "cell_type": "code",
   "execution_count": null,
   "metadata": {},
   "outputs": [],
   "source": [
    "white_wine_data = pd.read_csv('./WineQualityDataset/winequality-white.csv',\n",
    "                          header=1,\n",
    "                          skipinitialspace=False,\n",
    "                          delimiter=';',\n",
    "                          names=['fixed acidity', 'volatile acidity', 'citric acid', \n",
    "                                 'residual sugar', 'chlorides', 'free sulfur dioxide',\n",
    "                                 'total sulfur dioxide', 'density', 'pH', 'sulphates',\n",
    "                                 'alcohol', 'quality'])\n",
    "white_wine_data.head(10)"
   ]
  },
  {
   "cell_type": "markdown",
   "metadata": {},
   "source": [
    "# What type of population is being sampled? What are the “things” getting measured – usually one per row of data."
   ]
  },
  {
   "cell_type": "markdown",
   "metadata": {},
   "source": [
    "There are about 1600 red wines and 4900 white wines. Each row is a seperate \"wine\", each row represents a diffrent white wine or a diffrent red wine that was analysed and tested on the corresponding attributes. The wine is being measured mainly for chemical make up and a rated quality of the wine overall."
   ]
  },
  {
   "cell_type": "markdown",
   "metadata": {},
   "source": [
    "# What features does each sample have, i.e. what is being measured?"
   ]
  },
  {
   "cell_type": "markdown",
   "metadata": {},
   "source": [
    "The features that each sample has is fixed acidity, volatile acidity, citric acid, residual sugar, chlorides, free sulfur dioxide, total sulfur dioxide, density, pH, sulphates, alcohol content, and overall quality. The chemical makeup of each type of wine is what is overall being measured as the dataset looks at what is actually in the wine rather than a strict quality scale."
   ]
  },
  {
   "cell_type": "markdown",
   "metadata": {},
   "source": [
    "# Are the features quantitative or qualitative? Ordinal or nominal? Continuous or discrete?"
   ]
  },
  {
   "cell_type": "markdown",
   "metadata": {},
   "source": [
    "#### Features:\n",
    "1. fixed acidity\n",
    "    - Quantitative\n",
    "    - Ratio Data\n",
    "    - Discrete Values\n",
    "2. volatile acidity\n",
    "    - Quantitative\n",
    "    - Ratio Data\n",
    "    - Discrete Values\n",
    "3. citric acid\n",
    "    - Quantitative\n",
    "    - Ratio Data\n",
    "    - Discrete Values\n",
    "4. residual sugar\n",
    "    - Quantitative\n",
    "    - Ratio Data\n",
    "    - Discrete Values\n",
    "5. chlorides\n",
    "    - Quantitative\n",
    "    - Ratio Data\n",
    "    - Discrete Values\n",
    "6. free sulfur dioxide\n",
    "    - Quantitative\n",
    "    - Ratio Data\n",
    "    - Discrete Values\n",
    "7. total sulfur dioxide\n",
    "    - Quantitative\n",
    "    - Ratio Data\n",
    "    - Discrete Values\n",
    "8. density\n",
    "    - Quantitative\n",
    "    - Ratio Data\n",
    "    - Discrete Values\n",
    "9. pH\n",
    "    - Quantitative\n",
    "    - Ratio Data\n",
    "    - Discrete Values\n",
    "10. sulphates\n",
    "    - Quantitative\n",
    "    - Ratio Data\n",
    "    - Discrete Values\n",
    "11. alcohol\n",
    "    - Quantitative\n",
    "    - Ratio Data\n",
    "    - Discrete Values\n",
    "12. quality\n",
    "    - Quantitative\n",
    "    - Ordinal Data\n",
    "    - Discrete Values\n",
    "\n",
    "All of the data is quantitative because they are all some form of numerical measurement. All of the data except quality is ratio because they are exact units of measurement with an absolute 0. The quality attribute is ordinal because it is a \"ranking\" of the quality of the specified wine sample as it pertains to its other attribute's values provided corresponding with the evaluation of the wine by the people who ranked it. All of the data is discrete because we are looking at finite units of measurement that are bounded on a scale and do not reach values such as infinity or values outside of the reals."
   ]
  },
  {
   "cell_type": "markdown",
   "metadata": {},
   "source": [
    "#  Is the data “complete” or do some of the samples have null or absent values for certain features? Why are these samples still useful? Why are they incomplete?"
   ]
  },
  {
   "cell_type": "markdown",
   "metadata": {},
   "source": [
    "This data set is complete because none of the samples have unfilled values. 11 of the 12 attributes that are provided are chemical measurements of the wine. These can be recorded in all instances and are needed to help determing the final attribute being the quality. The quality is useful because the dataset was created to form correlations between the chemical makeup of the wine and the observed \"quality\" of the wine. The quality values are all filled as well because they are pivotal to making further connections with all of the wine samples rather than just  observing strict differences between white and red wine (chemically)."
   ]
  },
  {
   "cell_type": "markdown",
   "metadata": {},
   "source": [
    "# Why are these features chosen to be part of the dataset?"
   ]
  },
  {
   "cell_type": "markdown",
   "metadata": {},
   "source": [
    "#### Features:\n",
    "1. fixed acidity\n",
    "2. volatile acidity\n",
    "3. citric acid\n",
    "4. residual sugar\n",
    "5. chlorides\n",
    "6. free sulfur dioxide\n",
    "7. total sulfur dioxide\n",
    "8. density\n",
    "9. pH\n",
    "10. sulphates\n",
    "11. alcohol\n",
    "12. quality\n",
    "\n",
    "The first 11 features are chosen to be apart of the dataset because they are all of the major elements of the chemical makeup of wine. These are all recorded in order to find differences between red and white wine as well as differences between various types of white wines and red wines. These attributes can be paired with the quality attribute to provide explanations to why some white/red wine might be rated higher or lower quality than others. Is it because some wine is more acidic that it is loved more? Is it because the alcohol content is high that people hate the wine? These are some questions that can be answered when looking at the wine makeup and the quality that the wine sample was rated. All of these features are closely related which is why they are all included."
   ]
  },
  {
   "cell_type": "markdown",
   "metadata": {},
   "source": [
    "# What are some other features that are not included but that you think might make sense to include for this dataset?"
   ]
  },
  {
   "cell_type": "markdown",
   "metadata": {},
   "source": [
    "I would like to see more features added to the wine rating. The quality attribute is ranked by ratings of people in correlation with the make up of each wine sample. If there were more attributes of what people thought of each sample, than more correlations could be made. Such as a taste column. Maybe if the wine is more acidic than it will taste more bitter. Or, maybe if there is more alcohol than the wine tastes more smoothe. There should be something more to go off of rather than just a strict quality rating. If there were more attributes about what people thought of each sample (taste-wise), then there could be more things to go off of meaning more correlations to create."
   ]
  },
  {
   "cell_type": "markdown",
   "metadata": {},
   "source": [
    "# Give at least one way that you can pivot the dataset to get a slightly different representation of some values. Explain what this is and how you would use it for a visualization."
   ]
  },
  {
   "cell_type": "markdown",
   "metadata": {},
   "source": [
    "One great way to pivot the data is to get the aggregated count of the pH level (index), residual sugar (columns), and the quality rank (values) to create an interesting graphic. This could show the change in quality ranking when you put pH against residual sugar. The aggregated counts would be used for a perfect scatter plot. The plot can be used to see where quality ranks lie as pH levels and residual sugar increase. There could could be a positive correlation there because people like sugar and maybe sugar and acidity go well together. That is just one possible conclusion out of many that could be made using this form of pivoted data. There are a lot of various pivots like this between the various measurement attributes."
   ]
  },
  {
   "cell_type": "markdown",
   "metadata": {},
   "source": [
    "#  Identify any possible relationships between features included in the data: which ones are likely to affect others?"
   ]
  },
  {
   "cell_type": "markdown",
   "metadata": {},
   "source": []
  },
  {
   "cell_type": "markdown",
   "metadata": {},
   "source": [
    "#  Show at least one plot or visualization to illustrate this (possible) relationship."
   ]
  },
  {
   "cell_type": "code",
   "execution_count": null,
   "metadata": {},
   "outputs": [],
   "source": []
  },
  {
   "cell_type": "markdown",
   "metadata": {},
   "source": [
    "# What numerical or statistical techniques might you consider using to determine whether the relationship is reliable?"
   ]
  },
  {
   "cell_type": "markdown",
   "metadata": {},
   "source": []
  },
  {
   "cell_type": "markdown",
   "metadata": {},
   "source": [
    "# Are there external inferences you think might be possible? For instance, can you hypothesize a relationship with data not included in the dataset? Why or why not?"
   ]
  },
  {
   "cell_type": "markdown",
   "metadata": {},
   "source": []
  },
  {
   "cell_type": "markdown",
   "metadata": {},
   "source": [
    "# What “extra” features can you perhaps compute from the data? For example, if you have data that includes product dates of purchase, you can “engineer” the data to construct the most popular products over various lengths of time (e.g. a particular holiday season). How might you use this information? Using the holiday example, you might try to correlate holiday sales of a product to some mainstream event that popularized it."
   ]
  },
  {
   "cell_type": "markdown",
   "metadata": {},
   "source": []
  }
 ],
 "metadata": {
  "kernelspec": {
   "display_name": "Python 3",
   "language": "python",
   "name": "python3"
  },
  "language_info": {
   "codemirror_mode": {
    "name": "ipython",
    "version": 3
   },
   "file_extension": ".py",
   "mimetype": "text/x-python",
   "name": "python",
   "nbconvert_exporter": "python",
   "pygments_lexer": "ipython3",
   "version": "3.6.7"
  }
 },
 "nbformat": 4,
 "nbformat_minor": 2
}
