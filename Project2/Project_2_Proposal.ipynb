{
 "cells": [
  {
   "cell_type": "markdown",
   "metadata": {},
   "source": [
    "1. 24 November: A short description of your planned project data, topics, and approach. Summarize\n",
    "the algorithms you plan to implement, and any additional supporting or motivating scratch work to\n",
    "explain your choices. What algorithms will you implement them? Why would the be successful on\n",
    "your data? How will you try visualizing the data in illustrative/creative ways? What conclusions do\n",
    "you think one can draw? Why or why not?\n"
   ]
  },
  {
   "cell_type": "markdown",
   "metadata": {},
   "source": [
    "## COSC 311 - Project 2 Proposal\n",
    "\n",
    "#### Grant Dawson and Ryan Rosiak\n",
    "\n",
    "\n",
    "\n",
    "The data we plan on preforming this project on is the police dataset. This dataset seemed to be the most diverse ebcasue it has so a large quanitity of data points and so many atributes per data point. Per data point in this dataset has attributes ranging from date/time to location to the crime committed. THe data set is the crime in San Francisco from an entire year. \n",
    "\n",
    "We plan to use k nearest and ***HERE***. We plan to apply k nearest algorithm to the San Fransisco data set by making a map of San Fransisco and see if we can "
   ]
  },
  {
   "cell_type": "code",
   "execution_count": null,
   "metadata": {},
   "outputs": [],
   "source": []
  }
 ],
 "metadata": {
  "kernelspec": {
   "display_name": "Python 3",
   "language": "python",
   "name": "python3"
  },
  "language_info": {
   "codemirror_mode": {
    "name": "ipython",
    "version": 3
   },
   "file_extension": ".py",
   "mimetype": "text/x-python",
   "name": "python",
   "nbconvert_exporter": "python",
   "pygments_lexer": "ipython3",
   "version": "3.6.7"
  }
 },
 "nbformat": 4,
 "nbformat_minor": 2
}
